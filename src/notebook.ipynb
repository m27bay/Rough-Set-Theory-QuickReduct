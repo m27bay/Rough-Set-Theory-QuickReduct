{
 "cells": [
  {
   "attachments": {},
   "cell_type": "markdown",
   "metadata": {},
   "source": [
    "# Projet de conception et de programmation."
   ]
  },
  {
   "attachments": {},
   "cell_type": "markdown",
   "metadata": {},
   "source": [
    "Ceci est le notebook regroupant les différentes implémentations dans le cadre du projet de conception et de programmation intitulé : Investigating feature selection techniques to improve data mining tasks.\n",
    "\n",
    "Il est constitué de cinq parties : \n",
    "1. Une introduction au data mining.\n",
    "1. Le premier chapitre sur l'explication d'une thoerie issue du data mining.\n",
    "1. Le deuxième chapitre sur les algorithmes de cette thoerie\n",
    "1. Le troisème chapitre d'application des algorithmes sur des dataset.\n",
    "1. Une conclusion.\n",
    "Et une bibliographie."
   ]
  },
  {
   "attachments": {},
   "cell_type": "markdown",
   "metadata": {},
   "source": [
    "# Importations."
   ]
  },
  {
   "cell_type": "code",
   "execution_count": 100,
   "metadata": {},
   "outputs": [],
   "source": [
    "from __future__ import unicode_literals # lettre grec\n",
    "\n",
    "import pandas as pd # DataFrame, ...\n",
    "import numpy as np # array, ...\n",
    "from fractions import Fraction\n",
    "from itertools import combinations # combinaison\n",
    "from functools import reduce\n",
    "\n",
    "# visualistion\n",
    "import seaborn as sns\n",
    "from matplotlib import pyplot as plt\n",
    "\n",
    "# sklearn\n",
    "## preprocessing\n",
    "from sklearn.model_selection import train_test_split, validation_curve\n",
    "from sklearn.feature_selection import VarianceThreshold\n",
    "from sklearn.preprocessing import LabelEncoder, OrdinalEncoder\n",
    "\n",
    "##\n",
    "from sklearn.neighbors import KNeighborsClassifier\n",
    "\n",
    "## metrics\n",
    "from sklearn.metrics import accuracy_score, roc_auc_score, roc_curve, confusion_matrix, classification_report\n",
    "\n",
    "# fuzzy sklearn\n",
    "from frlearn.base import probabilities_from_scores, select_class\n",
    "from frlearn.classifiers import FRNN\n",
    "from frlearn.feature_preprocessors import FRFS, RangeNormaliser"
   ]
  },
  {
   "attachments": {},
   "cell_type": "markdown",
   "metadata": {},
   "source": [
    "# Fonctions."
   ]
  },
  {
   "attachments": {},
   "cell_type": "markdown",
   "metadata": {},
   "source": [
    "## Fonction différence entre deux listes."
   ]
  },
  {
   "cell_type": "code",
   "execution_count": 2,
   "metadata": {},
   "outputs": [],
   "source": [
    "def diff_list(list1, list2):\n",
    "\t\"\"\"\n",
    "\tRenvoie la différence entre deux listes.\n",
    "\n",
    "\t@param list1 une première liste.\n",
    "\t@param list2 une deuxième liste.\n",
    "\n",
    "\t@return les éléments présents dans list1 mais pas dans list2.\n",
    "\t\"\"\"\n",
    "\t# liste1 = list1.copy() if len(list1) > len(list2) else list2.copy()\n",
    "\t# liste2 = list1.copy() if liste1 == list2 else list2.copy()\n",
    "\n",
    "\tset_list2 = set(list2)\n",
    "\tdiff = [x for x in list1 if x not in set_list2]\n",
    "\treturn diff"
   ]
  },
  {
   "attachments": {},
   "cell_type": "markdown",
   "metadata": {},
   "source": [
    "### Test."
   ]
  },
  {
   "cell_type": "code",
   "execution_count": 3,
   "metadata": {},
   "outputs": [
    {
     "data": {
      "text/plain": [
       "[3, 5]"
      ]
     },
     "execution_count": 3,
     "metadata": {},
     "output_type": "execute_result"
    }
   ],
   "source": [
    "list1 = [1, 2, 3, 4, 5]\n",
    "list2 = [1, 2, 4]\n",
    "diff_list(list1, list2)"
   ]
  },
  {
   "attachments": {},
   "cell_type": "markdown",
   "metadata": {},
   "source": [
    "Les éléments 3 et 5 sont présent dans la list1 mais pas dans la list2."
   ]
  },
  {
   "cell_type": "code",
   "execution_count": 4,
   "metadata": {},
   "outputs": [
    {
     "data": {
      "text/plain": [
       "[]"
      ]
     },
     "execution_count": 4,
     "metadata": {},
     "output_type": "execute_result"
    }
   ],
   "source": [
    "list1 = [1, 2, 4]\n",
    "list2 = [1, 2, 3, 4, 5]\n",
    "diff_list(list1, list2)"
   ]
  },
  {
   "attachments": {},
   "cell_type": "markdown",
   "metadata": {},
   "source": [
    "Tous les éléments dans la list1 sont présent dans la list2. La fonction renvoie une liste vide."
   ]
  },
  {
   "attachments": {},
   "cell_type": "markdown",
   "metadata": {},
   "source": [
    "## Fonction combinaison des attributs dans un système de décision."
   ]
  },
  {
   "cell_type": "code",
   "execution_count": 5,
   "metadata": {},
   "outputs": [],
   "source": [
    "def combinaisons(DS, d):\n",
    "\t\"\"\"\n",
    "\tRenvoie la liste des combinaisons des attributs du dataframe en \n",
    "\tparamètre.\n",
    "\n",
    "\t@param DS Le système de décision.\n",
    "\t@param d La colonne de décision.\n",
    "\n",
    "\t@return list_combinaisons La liste des combinaisons des attributs.\n",
    "\t\"\"\"\n",
    "\tlist_combinaisons = list()\n",
    "\tC = list(DS.columns)\n",
    "\tC.remove(d)\n",
    "\tfor n in range(len(C) + 1):\n",
    "\t\tlist_combinaisons += list(combinations(C, n))\n",
    "\tlist_combinaisons.remove(())\n",
    "\treturn list_combinaisons"
   ]
  },
  {
   "attachments": {},
   "cell_type": "markdown",
   "metadata": {},
   "source": [
    "### Test."
   ]
  },
  {
   "cell_type": "code",
   "execution_count": 6,
   "metadata": {},
   "outputs": [
    {
     "data": {
      "text/plain": [
       "Index(['Headache', 'Muscle-pain', 'Temperature'], dtype='object')"
      ]
     },
     "execution_count": 6,
     "metadata": {},
     "output_type": "execute_result"
    }
   ],
   "source": [
    "# création d'un dataframe\n",
    "data = {\n",
    "\t\"Patients\" : [\"o1\", \"o2\", \"o3\", \"o4\", \"o5\", \"o6\"],\n",
    "\t\"Headache\" : [\"Yes\", \"Yes\", \"Yes\", \"No\", \"No\", \"No\"],\n",
    "\t\"Muscle-pain\" : [\"Yes\", \"No\", \"No\", \"Yes\", \"Yes\", \"Yes\"],\n",
    "\t\"Temperature\" : [\"very high\", \"high\", \"high\", \"normal\", \"high\", \"very high\"],\n",
    "\t\"Flu\" : [\"Yes\", \"Yes\", \"No\", \"No\", \"Yes\", \"Yes\"]\n",
    "}\n",
    "df = pd.DataFrame(data)\n",
    "\n",
    "# initialisation de l'index\n",
    "df.set_index(\"Patients\", inplace=True)\n",
    "\n",
    "# affichage des attributs\n",
    "df.columns[:-1]"
   ]
  },
  {
   "attachments": {},
   "cell_type": "markdown",
   "metadata": {},
   "source": [
    "La liste des combinaisons avec les attributs ci-dessus."
   ]
  },
  {
   "cell_type": "code",
   "execution_count": 7,
   "metadata": {},
   "outputs": [
    {
     "data": {
      "text/plain": [
       "[('Headache',),\n",
       " ('Muscle-pain',),\n",
       " ('Temperature',),\n",
       " ('Headache', 'Muscle-pain'),\n",
       " ('Headache', 'Temperature'),\n",
       " ('Muscle-pain', 'Temperature'),\n",
       " ('Headache', 'Muscle-pain', 'Temperature')]"
      ]
     },
     "execution_count": 7,
     "metadata": {},
     "output_type": "execute_result"
    }
   ],
   "source": [
    "combinaisons(df, \"Flu\")"
   ]
  },
  {
   "attachments": {},
   "cell_type": "markdown",
   "metadata": {},
   "source": [
    "## Dessiner *roc curve*."
   ]
  },
  {
   "cell_type": "code",
   "execution_count": 76,
   "metadata": {},
   "outputs": [],
   "source": [
    "def plot_roc_curve(y_true, proba, roc):\n",
    "\t# calculate ROC Curve\n",
    "\t# For the Random Model\n",
    "\trandom_probs = [0 for _ in range(len(y_true))]\n",
    "\trandom_fpr, random_tpr, _ = roc_curve(y_true, random_probs)\n",
    "\t\n",
    "\t# For the actual model\n",
    "\tmodel_fpr, model_tpr, _ = roc_curve(y_true, proba)\n",
    "\t\n",
    "\t# Plot the roc curve for the model and the random model line\n",
    "\tplt.plot(random_fpr, random_tpr, linestyle='--', label='Random')\n",
    "\tplt.plot(model_fpr, model_tpr, marker='.', label='Model')\n",
    "\t\n",
    "\t# Create labels for the axis\n",
    "\tplt.xlabel('False Positive Rate')\n",
    "\tplt.ylabel('True Positive Rate')\n",
    "\t\n",
    "\t# show the legend\n",
    "\tplt.legend()\n",
    "\t\n",
    "\t# show the plot\n",
    "\tplt.show()"
   ]
  },
  {
   "attachments": {},
   "cell_type": "markdown",
   "metadata": {},
   "source": [
    "# Chapitre 3: Implémentation et tests."
   ]
  },
  {
   "attachments": {},
   "cell_type": "markdown",
   "metadata": {},
   "source": [
    "## Jeu de test."
   ]
  },
  {
   "cell_type": "code",
   "execution_count": 8,
   "metadata": {},
   "outputs": [
    {
     "data": {
      "text/html": [
       "<div>\n",
       "<style scoped>\n",
       "    .dataframe tbody tr th:only-of-type {\n",
       "        vertical-align: middle;\n",
       "    }\n",
       "\n",
       "    .dataframe tbody tr th {\n",
       "        vertical-align: top;\n",
       "    }\n",
       "\n",
       "    .dataframe thead th {\n",
       "        text-align: right;\n",
       "    }\n",
       "</style>\n",
       "<table border=\"1\" class=\"dataframe\">\n",
       "  <thead>\n",
       "    <tr style=\"text-align: right;\">\n",
       "      <th></th>\n",
       "      <th>Headache</th>\n",
       "      <th>Muscle-pain</th>\n",
       "      <th>Temperature</th>\n",
       "      <th>Flu</th>\n",
       "    </tr>\n",
       "    <tr>\n",
       "      <th>Patients</th>\n",
       "      <th></th>\n",
       "      <th></th>\n",
       "      <th></th>\n",
       "      <th></th>\n",
       "    </tr>\n",
       "  </thead>\n",
       "  <tbody>\n",
       "    <tr>\n",
       "      <th>o1</th>\n",
       "      <td>Yes</td>\n",
       "      <td>Yes</td>\n",
       "      <td>very high</td>\n",
       "      <td>Yes</td>\n",
       "    </tr>\n",
       "    <tr>\n",
       "      <th>o2</th>\n",
       "      <td>Yes</td>\n",
       "      <td>No</td>\n",
       "      <td>high</td>\n",
       "      <td>Yes</td>\n",
       "    </tr>\n",
       "    <tr>\n",
       "      <th>o3</th>\n",
       "      <td>Yes</td>\n",
       "      <td>No</td>\n",
       "      <td>high</td>\n",
       "      <td>No</td>\n",
       "    </tr>\n",
       "    <tr>\n",
       "      <th>o4</th>\n",
       "      <td>No</td>\n",
       "      <td>Yes</td>\n",
       "      <td>normal</td>\n",
       "      <td>No</td>\n",
       "    </tr>\n",
       "    <tr>\n",
       "      <th>o5</th>\n",
       "      <td>No</td>\n",
       "      <td>Yes</td>\n",
       "      <td>high</td>\n",
       "      <td>Yes</td>\n",
       "    </tr>\n",
       "    <tr>\n",
       "      <th>o6</th>\n",
       "      <td>No</td>\n",
       "      <td>Yes</td>\n",
       "      <td>very high</td>\n",
       "      <td>Yes</td>\n",
       "    </tr>\n",
       "  </tbody>\n",
       "</table>\n",
       "</div>"
      ],
      "text/plain": [
       "         Headache Muscle-pain Temperature  Flu\n",
       "Patients                                      \n",
       "o1            Yes         Yes   very high  Yes\n",
       "o2            Yes          No        high  Yes\n",
       "o3            Yes          No        high   No\n",
       "o4             No         Yes      normal   No\n",
       "o5             No         Yes        high  Yes\n",
       "o6             No         Yes   very high  Yes"
      ]
     },
     "execution_count": 8,
     "metadata": {},
     "output_type": "execute_result"
    }
   ],
   "source": [
    "data = {\n",
    "\t\"Patients\" : [\"o1\", \"o2\", \"o3\", \"o4\", \"o5\", \"o6\"],\n",
    "\t\"Headache\" : [\"Yes\", \"Yes\", \"Yes\", \"No\", \"No\", \"No\"],\n",
    "\t\"Muscle-pain\" : [\"Yes\", \"No\", \"No\", \"Yes\", \"Yes\", \"Yes\"],\n",
    "\t\"Temperature\" : [\"very high\", \"high\", \"high\", \"normal\", \"high\", \"very high\"],\n",
    "\t\"Flu\" : [\"Yes\", \"Yes\", \"No\", \"No\", \"Yes\", \"Yes\"]\n",
    "}\n",
    "\n",
    "df = pd.DataFrame(data)\n",
    "df.set_index(\"Patients\", inplace=True)\n",
    "df"
   ]
  },
  {
   "cell_type": "code",
   "execution_count": 9,
   "metadata": {},
   "outputs": [
    {
     "data": {
      "text/html": [
       "<div>\n",
       "<style scoped>\n",
       "    .dataframe tbody tr th:only-of-type {\n",
       "        vertical-align: middle;\n",
       "    }\n",
       "\n",
       "    .dataframe tbody tr th {\n",
       "        vertical-align: top;\n",
       "    }\n",
       "\n",
       "    .dataframe thead th {\n",
       "        text-align: right;\n",
       "    }\n",
       "</style>\n",
       "<table border=\"1\" class=\"dataframe\">\n",
       "  <thead>\n",
       "    <tr style=\"text-align: right;\">\n",
       "      <th></th>\n",
       "      <th>a</th>\n",
       "      <th>b</th>\n",
       "      <th>c</th>\n",
       "      <th>d</th>\n",
       "      <th>e</th>\n",
       "    </tr>\n",
       "    <tr>\n",
       "      <th>x</th>\n",
       "      <th></th>\n",
       "      <th></th>\n",
       "      <th></th>\n",
       "      <th></th>\n",
       "      <th></th>\n",
       "    </tr>\n",
       "  </thead>\n",
       "  <tbody>\n",
       "    <tr>\n",
       "      <th>x1</th>\n",
       "      <td>1</td>\n",
       "      <td>0</td>\n",
       "      <td>2</td>\n",
       "      <td>2</td>\n",
       "      <td>0</td>\n",
       "    </tr>\n",
       "    <tr>\n",
       "      <th>x2</th>\n",
       "      <td>0</td>\n",
       "      <td>1</td>\n",
       "      <td>1</td>\n",
       "      <td>1</td>\n",
       "      <td>2</td>\n",
       "    </tr>\n",
       "    <tr>\n",
       "      <th>x3</th>\n",
       "      <td>2</td>\n",
       "      <td>2</td>\n",
       "      <td>0</td>\n",
       "      <td>1</td>\n",
       "      <td>1</td>\n",
       "    </tr>\n",
       "    <tr>\n",
       "      <th>x4</th>\n",
       "      <td>1</td>\n",
       "      <td>1</td>\n",
       "      <td>0</td>\n",
       "      <td>2</td>\n",
       "      <td>2</td>\n",
       "    </tr>\n",
       "    <tr>\n",
       "      <th>x5</th>\n",
       "      <td>1</td>\n",
       "      <td>0</td>\n",
       "      <td>2</td>\n",
       "      <td>0</td>\n",
       "      <td>1</td>\n",
       "    </tr>\n",
       "    <tr>\n",
       "      <th>x6</th>\n",
       "      <td>2</td>\n",
       "      <td>2</td>\n",
       "      <td>0</td>\n",
       "      <td>1</td>\n",
       "      <td>1</td>\n",
       "    </tr>\n",
       "    <tr>\n",
       "      <th>x7</th>\n",
       "      <td>2</td>\n",
       "      <td>1</td>\n",
       "      <td>1</td>\n",
       "      <td>1</td>\n",
       "      <td>2</td>\n",
       "    </tr>\n",
       "    <tr>\n",
       "      <th>x8</th>\n",
       "      <td>0</td>\n",
       "      <td>1</td>\n",
       "      <td>1</td>\n",
       "      <td>1</td>\n",
       "      <td>1</td>\n",
       "    </tr>\n",
       "  </tbody>\n",
       "</table>\n",
       "</div>"
      ],
      "text/plain": [
       "    a  b  c  d  e\n",
       "x                \n",
       "x1  1  0  2  2  0\n",
       "x2  0  1  1  1  2\n",
       "x3  2  2  0  1  1\n",
       "x4  1  1  0  2  2\n",
       "x5  1  0  2  0  1\n",
       "x6  2  2  0  1  1\n",
       "x7  2  1  1  1  2\n",
       "x8  0  1  1  1  1"
      ]
     },
     "execution_count": 9,
     "metadata": {},
     "output_type": "execute_result"
    }
   ],
   "source": [
    "data2 = {\n",
    "\t\"x\" : [\"x1\", \"x2\", \"x3\", \"x4\", \"x5\", \"x6\", \"x7\", \"x8\"],\n",
    "\t\"a\" : [1, 0, 2, 1, 1, 2, 2, 0],\n",
    "\t\"b\" : [0, 1, 2, 1, 0, 2, 1, 1],\n",
    "\t\"c\" : [2, 1, 0, 0, 2, 0, 1, 1],\n",
    "\t\"d\" : [2, 1, 1, 2, 0, 1, 1, 1],\n",
    "\t\"e\" : [0, 2, 1, 2, 1, 1, 2, 1],\n",
    "}\n",
    "\n",
    "df2 = pd.DataFrame(data2)\n",
    "df2.set_index(\"x\", inplace=True)\n",
    "df2"
   ]
  },
  {
   "attachments": {},
   "cell_type": "markdown",
   "metadata": {},
   "source": [
    "## *Indiscernibility Relation*."
   ]
  },
  {
   "attachments": {},
   "cell_type": "markdown",
   "metadata": {},
   "source": [
    "### Implémentation."
   ]
  },
  {
   "cell_type": "code",
   "execution_count": 10,
   "metadata": {},
   "outputs": [],
   "source": [
    "def IND(DS, d, C):\n",
    "\t\"\"\"\n",
    "\tCalcule la Indiscernibility Relation pour un attribut.\n",
    "\t\n",
    "\t@param DS le système de décision.\n",
    "\t@param d la décision.\n",
    "\t@param C La liste des attributs.\n",
    "\t\n",
    "\t@return ind la Indiscernibility Relation.\n",
    "\t\"\"\"\n",
    "\tind = []\n",
    "\tIS = DS.drop(d, axis=1)\n",
    "\tgroup = IS.groupby(C)\n",
    "\n",
    "\tfor g in group:\n",
    "\t\tgDS = pd.DataFrame(g[1])\n",
    "\t\tind.append(list(gDS.index))\n",
    "\tind.sort()\n",
    "\treturn ind"
   ]
  },
  {
   "attachments": {},
   "cell_type": "markdown",
   "metadata": {},
   "source": [
    "### Test."
   ]
  },
  {
   "attachments": {},
   "cell_type": "markdown",
   "metadata": {},
   "source": [
    "On regroupe les objets possèdants les même valeurs pour l'attribut \"Headache\"."
   ]
  },
  {
   "cell_type": "code",
   "execution_count": 11,
   "metadata": {},
   "outputs": [
    {
     "data": {
      "text/plain": [
       "[['o1', 'o2', 'o3'], ['o4', 'o5', 'o6']]"
      ]
     },
     "execution_count": 11,
     "metadata": {},
     "output_type": "execute_result"
    }
   ],
   "source": [
    "ind = IND(df, \"Flu\", [\"Headache\"])\n",
    "ind"
   ]
  },
  {
   "attachments": {},
   "cell_type": "markdown",
   "metadata": {},
   "source": [
    "On regroupe les objets possèdants les même valeurs pour l'ensemble d'attribut {\"Headache\", \"Muscle-pain\"}."
   ]
  },
  {
   "cell_type": "code",
   "execution_count": 12,
   "metadata": {},
   "outputs": [
    {
     "data": {
      "text/plain": [
       "[['o1'], ['o2', 'o3'], ['o4', 'o5', 'o6']]"
      ]
     },
     "execution_count": 12,
     "metadata": {},
     "output_type": "execute_result"
    }
   ],
   "source": [
    "ind2 = IND(df, \"Flu\", [\"Headache\", \"Muscle-pain\"])\n",
    "ind2"
   ]
  },
  {
   "attachments": {},
   "cell_type": "markdown",
   "metadata": {},
   "source": [
    "### Implémentation 2."
   ]
  },
  {
   "cell_type": "code",
   "execution_count": 13,
   "metadata": {},
   "outputs": [],
   "source": [
    "def IND_C(DS, d):\n",
    "\t\"\"\"\n",
    "\tCalcule la Indiscernibility Relation pour tous les\n",
    "\tattributs du système de décision.\n",
    "\t\n",
    "\t@param DS le système de décision.\n",
    "\t@param d la décision.\n",
    "\t\n",
    "\t@return ind_c la Indiscernibility Relation.\n",
    "\t\"\"\"\n",
    "\tind = []\n",
    "\tIS = DS.drop(d, axis=1)\n",
    "\tgroup = IS.groupby(list(IS.columns))\n",
    "\n",
    "\tfor g in group:\n",
    "\t\tgDS = pd.DataFrame(g[1])\n",
    "\t\tind.append(list(gDS.index))\n",
    "\tind.sort()\n",
    "\treturn ind"
   ]
  },
  {
   "attachments": {},
   "cell_type": "markdown",
   "metadata": {},
   "source": [
    "### Test."
   ]
  },
  {
   "attachments": {},
   "cell_type": "markdown",
   "metadata": {},
   "source": [
    "On regroupe les objets ayant les même valeurs pour tous les attributs."
   ]
  },
  {
   "cell_type": "code",
   "execution_count": 14,
   "metadata": {},
   "outputs": [
    {
     "data": {
      "text/plain": [
       "[['o1'], ['o2', 'o3'], ['o4'], ['o5'], ['o6']]"
      ]
     },
     "execution_count": 14,
     "metadata": {},
     "output_type": "execute_result"
    }
   ],
   "source": [
    "ind_c = IND_C(df, \"Flu\")\n",
    "ind_c"
   ]
  },
  {
   "cell_type": "code",
   "execution_count": 15,
   "metadata": {},
   "outputs": [
    {
     "data": {
      "text/plain": [
       "[['x1'], ['x2', 'x8'], ['x3', 'x6'], ['x4'], ['x5'], ['x7']]"
      ]
     },
     "execution_count": 15,
     "metadata": {},
     "output_type": "execute_result"
    }
   ],
   "source": [
    "ind_c2 = IND_C(df2, \"e\")\n",
    "ind_c2"
   ]
  },
  {
   "attachments": {},
   "cell_type": "markdown",
   "metadata": {},
   "source": [
    "### Fonction groupe_ind_c_obj"
   ]
  },
  {
   "attachments": {},
   "cell_type": "markdown",
   "metadata": {},
   "source": [
    "### Implémentation."
   ]
  },
  {
   "cell_type": "code",
   "execution_count": 16,
   "metadata": {},
   "outputs": [],
   "source": [
    "def groupe_ind_c_obj(ind_c, obj):\n",
    "\t\"\"\"\n",
    "\tRenvoie le groupe indiscernable de l'objet obj sans ce dernier.\n",
    "\n",
    "\t@param ind_c la liste des objets indiscernable.\n",
    "\t@param obj l'index d'un objet.\n",
    "\n",
    "\t@return le groupe indiscernable de l'objet.\n",
    "\t\"\"\"\n",
    "\tfor g in ind_c:\n",
    "\t\tfor obj2 in g:\n",
    "\t\t\tif obj == obj2:\n",
    "\t\t\t\tcopy_g = g.copy()\n",
    "\t\t\t\tcopy_g.remove(obj)\n",
    "\t\t\t\treturn copy_g\n",
    "\treturn []"
   ]
  },
  {
   "attachments": {},
   "cell_type": "markdown",
   "metadata": {},
   "source": [
    "### Test."
   ]
  },
  {
   "attachments": {},
   "cell_type": "markdown",
   "metadata": {},
   "source": [
    "On affiche les objets qui sont dans le même groupe indiscernable. Si le retour est vide c'est que l'objet ne possède est seul dasn son groupe, i.e il ne n'existe pas d'objet indiscernable à cette objet."
   ]
  },
  {
   "attachments": {},
   "cell_type": "markdown",
   "metadata": {},
   "source": [
    "On cherche le groupe indiscernable de o3 qui est [o2, o3], la fonction nous renvoie uniquement [o3]."
   ]
  },
  {
   "cell_type": "code",
   "execution_count": 17,
   "metadata": {},
   "outputs": [
    {
     "data": {
      "text/plain": [
       "['o2']"
      ]
     },
     "execution_count": 17,
     "metadata": {},
     "output_type": "execute_result"
    }
   ],
   "source": [
    "groupe_ind_c_obj(ind_c, \"o3\")"
   ]
  },
  {
   "attachments": {},
   "cell_type": "markdown",
   "metadata": {},
   "source": [
    "On cherche le groupe indiscernable de o1 qui est [o1], la fonction nous renvoie une liste vide."
   ]
  },
  {
   "cell_type": "code",
   "execution_count": 18,
   "metadata": {},
   "outputs": [
    {
     "data": {
      "text/plain": [
       "[]"
      ]
     },
     "execution_count": 18,
     "metadata": {},
     "output_type": "execute_result"
    }
   ],
   "source": [
    "groupe_ind_c_obj(ind_c, \"o1\")"
   ]
  },
  {
   "attachments": {},
   "cell_type": "markdown",
   "metadata": {},
   "source": [
    "On cherche le groupe indiscernable de x8 qui est [x2, x8], la fonction nous renvoie uniquement [x8]."
   ]
  },
  {
   "cell_type": "code",
   "execution_count": 19,
   "metadata": {},
   "outputs": [
    {
     "data": {
      "text/plain": [
       "['x2']"
      ]
     },
     "execution_count": 19,
     "metadata": {},
     "output_type": "execute_result"
    }
   ],
   "source": [
    "groupe_ind_c_obj(ind_c2, \"x8\")"
   ]
  },
  {
   "attachments": {},
   "cell_type": "markdown",
   "metadata": {},
   "source": [
    "## *B-lower approximation*."
   ]
  },
  {
   "attachments": {},
   "cell_type": "markdown",
   "metadata": {},
   "source": [
    "### Implémentation."
   ]
  },
  {
   "cell_type": "code",
   "execution_count": 20,
   "metadata": {},
   "outputs": [],
   "source": [
    "def b_lower(DS, ind_c, d, d_value):\n",
    "\t\"\"\"\n",
    "\tRenvoie la B-lower approximation.\n",
    "\n",
    "\t@param DS le système de décision.\n",
    "\t@param ind_c la liste des objets indiscernables.\n",
    "\t@param d le nom de la colone de décision.\n",
    "\t@param d_value la value de décision.\n",
    "\n",
    "\t@return la B-lower approximation.\n",
    "\t\"\"\"\n",
    "\tX = DS.groupby(d)\n",
    "\tXi = None\n",
    "\tfor name, groupe in X:\n",
    "\t\tif name == d_value:\n",
    "\t\t\tXi = pd.DataFrame(groupe)\n",
    "\n",
    "\tif Xi is not None:\n",
    "\t\tCXi = []\n",
    "\n",
    "\t\tfor index in Xi.index:\n",
    "\t\t\t# Nous regardons le groupe indiscernable de cet objet.\n",
    "\t\t\tidc_obj = groupe_ind_c_obj(ind_c, index)\n",
    "\t\t\t\n",
    "\t\t\t# Si il possèdent des objets indiscernables.\n",
    "\t\t\tpossede_indiscernable = False\n",
    "\t\t\tif len(idc_obj) != 0:\n",
    "\t\t\t\tfor index_obj2 in idc_obj:\n",
    "\t\t\t\t\t# On récupère la décision des objets.\n",
    "\t\t\t\t\tobj_d = DS[DS.index == index_obj2][d].iloc[0]\n",
    "\t\t\t\t\tobj2_d = DS[DS.index == index][d].iloc[0]\n",
    "\t\t\t\t\t\n",
    "\t\t\t\t\tif obj_d != obj2_d:\n",
    "\t\t\t\t\t\tpossede_indiscernable = True\n",
    "\t\t\t\t\t\tbreak\n",
    "\t\t\tif not possede_indiscernable:\n",
    "\t\t\t\tCXi.append(index)\n",
    "\t\tCXi.sort()\n",
    "\t\treturn CXi\n",
    "\telse:\n",
    "\t\treturn \"error\""
   ]
  },
  {
   "cell_type": "code",
   "execution_count": 21,
   "metadata": {},
   "outputs": [],
   "source": [
    "def b_lower_opti(DS, ind_c, d, d_value):\n",
    "\t\"\"\"\n",
    "\tRenvoie la B-lower approximation.\n",
    "\n",
    "\t@param DS le système de décision.\n",
    "\t@param ind_c la liste des objets indiscernables.\n",
    "\t@param d le nom de la colone de décision.\n",
    "\t@param d_value la value de décision.\n",
    "\n",
    "\t@return la B-lower approximation.\n",
    "\t\"\"\"\n",
    "\tX = DS.groupby(d)\n",
    "\tXi = None\n",
    "\tfor name, groupe in X:\n",
    "\t\tif name == d_value:\n",
    "\t\t\tXi = pd.DataFrame(groupe)\n",
    "\n",
    "\tif Xi is not None:\n",
    "\t\tCXi = []\n",
    "\n",
    "\t\tfor index in Xi.index:\n",
    "\t\t\t# Nous regardons le groupe indiscernable de cet objet.\n",
    "\t\t\tidc_obj = groupe_ind_c_obj(ind_c, index)\n",
    "\t\t\t\n",
    "\t\t\t# Si il possèdent des objets indiscernables.\n",
    "\t\t\tpossede_indiscernable = False\n",
    "\t\t\tif len(idc_obj) != 0:\n",
    "\t\t\t\tfor index_obj2 in idc_obj:\n",
    "\t\t\t\t\t# On récupère la décision des objets.\n",
    "\t\t\t\t\tobj_d = DS[DS.index == index_obj2][d].iloc[0]\n",
    "\t\t\t\t\tobj2_d = DS[DS.index == index][d].iloc[0]\n",
    "\t\t\t\t\t\n",
    "\t\t\t\t\tif obj_d != obj2_d:\n",
    "\t\t\t\t\t\tpossede_indiscernable = True\n",
    "\t\t\t\t\t\tbreak\n",
    "\t\t\tif not possede_indiscernable:\n",
    "\t\t\t\tCXi.append(index)\n",
    "\t\tCXi.sort()\n",
    "\t\treturn CXi\n",
    "\telse:\n",
    "\t\treturn \"error\""
   ]
  },
  {
   "attachments": {},
   "cell_type": "markdown",
   "metadata": {},
   "source": [
    "### Test."
   ]
  },
  {
   "attachments": {},
   "cell_type": "markdown",
   "metadata": {},
   "source": [
    "On rend tous les objets tel que la décision \"Flu\" soit égal à \"Yes\" et pour chaque objet on le supprime si il un existe un objet identique mais qui ne possède pas le même valeur de décision (ici \"No\")."
   ]
  },
  {
   "cell_type": "code",
   "execution_count": 22,
   "metadata": {},
   "outputs": [
    {
     "data": {
      "text/plain": [
       "['o1', 'o5', 'o6']"
      ]
     },
     "execution_count": 22,
     "metadata": {},
     "output_type": "execute_result"
    }
   ],
   "source": [
    "blower_yes = b_lower(df, ind_c, \"Flu\", \"Yes\")\n",
    "blower_yes"
   ]
  },
  {
   "attachments": {},
   "cell_type": "markdown",
   "metadata": {},
   "source": [
    "On rend tous les objets tel que la décision \"Flu\" soit égal à \"No\" et pour chaque objet on le supprime si il un existe un objet identique mais qui ne possède pas le même valeur de décision (ici \"Yes\")."
   ]
  },
  {
   "cell_type": "code",
   "execution_count": 23,
   "metadata": {},
   "outputs": [
    {
     "data": {
      "text/plain": [
       "['o4']"
      ]
     },
     "execution_count": 23,
     "metadata": {},
     "output_type": "execute_result"
    }
   ],
   "source": [
    "blower_no = b_lower(df, ind_c, \"Flu\", \"No\")\n",
    "blower_no"
   ]
  },
  {
   "attachments": {},
   "cell_type": "markdown",
   "metadata": {},
   "source": [
    "## *B-upper approximation*."
   ]
  },
  {
   "attachments": {},
   "cell_type": "markdown",
   "metadata": {},
   "source": [
    "### Implémentation."
   ]
  },
  {
   "cell_type": "code",
   "execution_count": 24,
   "metadata": {},
   "outputs": [],
   "source": [
    "def b_upper(DS, ind_c, d, d_value):\n",
    "\t\"\"\"\n",
    "\tRenvoie la B-upper approximation.\n",
    "\n",
    "\t@param DS le système de décision.\n",
    "\t@param ind_c la liste des objets indiscernables.\n",
    "\t@param d le nom de la colone de décision.\n",
    "\t@param d_value la value de décision.\n",
    "\n",
    "\t@return la B-upper approximation.\n",
    "\t\"\"\"\n",
    "\tX = DS.groupby(d)\n",
    "\tXi = None\n",
    "\tfor name, groupe in X:\n",
    "\t\tif name == d_value:\n",
    "\t\t\tXi = pd.DataFrame(groupe)\n",
    "\n",
    "\tif Xi is not None:\n",
    "\t\tCXi = list(Xi.index)\n",
    "\t\tfor index in Xi.index:\n",
    "\t\t\t# Nous regardons le groupe indiscernable de cet objet.\n",
    "\t\t\tidc_obj = groupe_ind_c_obj(ind_c, index)\n",
    "\t\t\t\n",
    "\t\t\t# Si il possèdent des objets indiscernables.\n",
    "\t\t\tlist_add = []\n",
    "\t\t\tif len(idc_obj) != 0:\n",
    "\t\t\t\tfor index_obj2 in idc_obj:\n",
    "\t\t\t\t\t\n",
    "\t\t\t\t\t# On récupère la décision des objets.\n",
    "\t\t\t\t\tobj_d = DS[DS.index == index_obj2][d].iloc[0]\n",
    "\t\t\t\t\tobj2_d = DS[DS.index == index][d].iloc[0]\n",
    "\t\t\t\t\t\n",
    "\t\t\t\t\tif obj_d != obj2_d:\n",
    "\t\t\t\t\t\tlist_add.append(index_obj2)\n",
    "\t\t\tCXi += list_add\n",
    "\t\tCXi.sort()\n",
    "\t\treturn CXi\n",
    "\telse:\n",
    "\t\treturn \"error\""
   ]
  },
  {
   "attachments": {},
   "cell_type": "markdown",
   "metadata": {},
   "source": [
    "### Test."
   ]
  },
  {
   "attachments": {},
   "cell_type": "markdown",
   "metadata": {},
   "source": [
    "On rend tous les objets tel que la décision \"Flu\" soit égal à \"Yes\" et pour chaque objet on ajout les objets indiscernables à ce dernier."
   ]
  },
  {
   "cell_type": "code",
   "execution_count": 25,
   "metadata": {},
   "outputs": [
    {
     "data": {
      "text/plain": [
       "['o1', 'o2', 'o3', 'o5', 'o6']"
      ]
     },
     "execution_count": 25,
     "metadata": {},
     "output_type": "execute_result"
    }
   ],
   "source": [
    "bupper_yes = b_upper(df, ind_c, \"Flu\", \"Yes\")\n",
    "bupper_yes"
   ]
  },
  {
   "attachments": {},
   "cell_type": "markdown",
   "metadata": {},
   "source": [
    "On rend tous les objets tel que la décision \"Flu\" soit égal à \"No\" et pour chaque objet on ajout les objets indiscernables à ce dernier."
   ]
  },
  {
   "cell_type": "code",
   "execution_count": 26,
   "metadata": {},
   "outputs": [
    {
     "data": {
      "text/plain": [
       "['o2', 'o3', 'o4']"
      ]
     },
     "execution_count": 26,
     "metadata": {},
     "output_type": "execute_result"
    }
   ],
   "source": [
    "bupper_no = b_upper(df, ind_c, \"Flu\", \"No\")\n",
    "bupper_no"
   ]
  },
  {
   "attachments": {},
   "cell_type": "markdown",
   "metadata": {},
   "source": [
    "## *B-boundary region*."
   ]
  },
  {
   "attachments": {},
   "cell_type": "markdown",
   "metadata": {},
   "source": [
    "### Implémentation."
   ]
  },
  {
   "cell_type": "code",
   "execution_count": 27,
   "metadata": {},
   "outputs": [],
   "source": [
    "def b_boundary(DS, bupper, blower):\n",
    "\t\"\"\"\n",
    "\tCalcule la B-boundary region.\n",
    "\n",
    "\t@param DS le système de décision.\n",
    "\t@param bupper la B-upper approximation.\n",
    "\t@param blower la B-lower approximation.\n",
    "\n",
    "\t@return la différence entre les deux approximations.\n",
    "\t\"\"\"\n",
    "\treturn diff_list(bupper, blower)"
   ]
  },
  {
   "attachments": {},
   "cell_type": "markdown",
   "metadata": {},
   "source": [
    "### Test."
   ]
  },
  {
   "attachments": {},
   "cell_type": "markdown",
   "metadata": {},
   "source": [
    "bupper_yes = ['o1', 'o2', 'o3', 'o5', 'o6']\n",
    "\n",
    "blower_yes = ['o1', 'o5', 'o6']\n",
    "\n",
    "Les éléments qui sont présents dans bupper_yes mais pas dans blower_yes sont o2 et o3."
   ]
  },
  {
   "cell_type": "code",
   "execution_count": 28,
   "metadata": {},
   "outputs": [
    {
     "data": {
      "text/plain": [
       "['o2', 'o3']"
      ]
     },
     "execution_count": 28,
     "metadata": {},
     "output_type": "execute_result"
    }
   ],
   "source": [
    "b_boundary(df, bupper_yes, blower_yes)"
   ]
  },
  {
   "attachments": {},
   "cell_type": "markdown",
   "metadata": {},
   "source": [
    "bupper_no = ['o2', 'o3', 'o4']\n",
    "\n",
    "blower_no = ['o4']\n",
    "\n",
    "Les éléments qui sont présents dans bupper_no mais pas dans blower_no sont o2 et o3."
   ]
  },
  {
   "cell_type": "code",
   "execution_count": 29,
   "metadata": {},
   "outputs": [
    {
     "data": {
      "text/plain": [
       "['o2', 'o3']"
      ]
     },
     "execution_count": 29,
     "metadata": {},
     "output_type": "execute_result"
    }
   ],
   "source": [
    "b_boundary(df, bupper_no, blower_no)"
   ]
  },
  {
   "attachments": {},
   "cell_type": "markdown",
   "metadata": {},
   "source": [
    "## *Positive Region*."
   ]
  },
  {
   "attachments": {},
   "cell_type": "markdown",
   "metadata": {},
   "source": [
    "### Implémentation."
   ]
  },
  {
   "cell_type": "code",
   "execution_count": 30,
   "metadata": {},
   "outputs": [],
   "source": [
    "def POS(DS, d, C):\n",
    "\t\"\"\"\n",
    "\tCalcul la Positive Region avec les C attributs.\n",
    "\n",
    "\t@param DS Le système de décision.\n",
    "\t@param d La colonne de décision.\n",
    "\t@param C La liste des attributs.\n",
    "\n",
    "\t@return La Positive region des C attributs.\n",
    "\t\"\"\"\n",
    "\tattr = C.copy()\n",
    "\tattr.append(d)\n",
    "\tds = DS[attr]\n",
    "\tind = IND(ds, d, C)\n",
    "\td_values = list(ds[d])\n",
    "\td_values = [*set(d_values)]\n",
    "\tPOS = []\n",
    "\tfor d_value in d_values:\n",
    "\t\tPOS += b_lower(ds, ind, d, d_value)\n",
    "\tPOS.sort()\n",
    "\treturn POS"
   ]
  },
  {
   "attachments": {},
   "cell_type": "markdown",
   "metadata": {},
   "source": [
    "### Test."
   ]
  },
  {
   "attachments": {},
   "cell_type": "markdown",
   "metadata": {},
   "source": [
    "Nous calculons la POS pour toutes les combinaisons d'attributs."
   ]
  },
  {
   "cell_type": "code",
   "execution_count": 31,
   "metadata": {},
   "outputs": [
    {
     "name": "stdout",
     "output_type": "stream",
     "text": [
      "POS{['Headache']} = []\n",
      "POS{['Muscle-pain']} = []\n",
      "POS{['Temperature']} = ['o1', 'o4', 'o6']\n",
      "POS{['Headache', 'Muscle-pain']} = ['o1']\n",
      "POS{['Headache', 'Temperature']} = ['o1', 'o4', 'o5', 'o6']\n",
      "POS{['Muscle-pain', 'Temperature']} = ['o1', 'o4', 'o5', 'o6']\n",
      "POS{['Headache', 'Muscle-pain', 'Temperature']} = ['o1', 'o4', 'o5', 'o6']\n"
     ]
    }
   ],
   "source": [
    "for combi in combinaisons(df, \"Flu\"):\n",
    "\tliste_combi = list(combi)\n",
    "\tprint(\"POS{{{}}} = {}\".format(liste_combi, POS(df, \"Flu\", liste_combi)))"
   ]
  },
  {
   "attachments": {},
   "cell_type": "markdown",
   "metadata": {},
   "source": [
    "### Implémentation 2."
   ]
  },
  {
   "cell_type": "code",
   "execution_count": 32,
   "metadata": {},
   "outputs": [],
   "source": [
    "def POS_C(DS, d):\n",
    "\t\"\"\"\n",
    "\tCalcule la Positive Region avec tous les attributs.\n",
    "\n",
    "\t@param DS Le système de décision.\n",
    "\t@param d La colonne de décision.\n",
    "\n",
    "\t@return La Positive region de tous les attributs.\n",
    "\t\"\"\"\n",
    "\td_values = list(DS[d])\n",
    "\td_values = [*set(d_values)]\n",
    "\tPOS_C = []\n",
    "\tind_c = IND_C(DS, d)\n",
    "\tfor d_value in d_values:\n",
    "\t\tblower = b_lower(DS, ind_c, d, d_value)\n",
    "\t\tPOS_C += blower\n",
    "\tPOS_C.sort()\n",
    "\treturn POS_C"
   ]
  },
  {
   "attachments": {},
   "cell_type": "markdown",
   "metadata": {},
   "source": [
    "### Test."
   ]
  },
  {
   "attachments": {},
   "cell_type": "markdown",
   "metadata": {},
   "source": [
    "Nous calculons la POS pour tous les attributs."
   ]
  },
  {
   "cell_type": "code",
   "execution_count": 33,
   "metadata": {},
   "outputs": [
    {
     "data": {
      "text/plain": [
       "['o1', 'o4', 'o5', 'o6']"
      ]
     },
     "execution_count": 33,
     "metadata": {},
     "output_type": "execute_result"
    }
   ],
   "source": [
    "POS_C(df, \"Flu\")"
   ]
  },
  {
   "cell_type": "code",
   "execution_count": 34,
   "metadata": {},
   "outputs": [
    {
     "data": {
      "text/plain": [
       "['x1', 'x3', 'x4', 'x5', 'x6', 'x7']"
      ]
     },
     "execution_count": 34,
     "metadata": {},
     "output_type": "execute_result"
    }
   ],
   "source": [
    "POS_C(df2, \"e\")"
   ]
  },
  {
   "attachments": {},
   "cell_type": "markdown",
   "metadata": {},
   "source": [
    "## *Negative Region*."
   ]
  },
  {
   "attachments": {},
   "cell_type": "markdown",
   "metadata": {},
   "source": [
    "### Implémentation."
   ]
  },
  {
   "cell_type": "code",
   "execution_count": 35,
   "metadata": {},
   "outputs": [],
   "source": [
    "def NEG_C(DS, d):\n",
    "\t\"\"\"\n",
    "\tCalcule la Negative Region avec tous les attributs.\n",
    "\n",
    "\t@param DS Le système de décision.\n",
    "\t@param d La colonne de décision.\n",
    "\n",
    "\t@return La Negative region de tous les attributs.\n",
    "\t\"\"\"\n",
    "\td_values = list(DS[d])\n",
    "\td_values = [*set(d_values)]\n",
    "\tNEG_C = []\n",
    "\tind_c = IND_C(DS, d)\n",
    "\tfor d_value in d_values:\n",
    "\t\tNEG_C += b_upper(DS, ind_c, d, d_value)\n",
    "\tNEG_C = [*set(NEG_C)]\n",
    "\tneg = diff_list(list(DS.index), NEG_C)\n",
    "\tneg.sort()\n",
    "\treturn neg"
   ]
  },
  {
   "attachments": {},
   "cell_type": "markdown",
   "metadata": {},
   "source": [
    "### Test."
   ]
  },
  {
   "cell_type": "code",
   "execution_count": 36,
   "metadata": {},
   "outputs": [
    {
     "data": {
      "text/plain": [
       "[]"
      ]
     },
     "execution_count": 36,
     "metadata": {},
     "output_type": "execute_result"
    }
   ],
   "source": [
    "NEG_C(df, \"Flu\")"
   ]
  },
  {
   "cell_type": "code",
   "execution_count": 37,
   "metadata": {},
   "outputs": [
    {
     "data": {
      "text/plain": [
       "[]"
      ]
     },
     "execution_count": 37,
     "metadata": {},
     "output_type": "execute_result"
    }
   ],
   "source": [
    "NEG_C(df2, \"e\")"
   ]
  },
  {
   "attachments": {},
   "cell_type": "markdown",
   "metadata": {},
   "source": [
    "## *Reduct*."
   ]
  },
  {
   "attachments": {},
   "cell_type": "markdown",
   "metadata": {},
   "source": [
    "### Implémentation."
   ]
  },
  {
   "cell_type": "code",
   "execution_count": 38,
   "metadata": {},
   "outputs": [],
   "source": [
    "def reduct(DS, d):\n",
    "\t\"\"\"\n",
    "\tRenvoie toutes les réductions d'attributs possibles.\n",
    "\n",
    "\t@param DS Le système de décision.\n",
    "\t@param d La colonne de décision.\n",
    "\n",
    "\t@return reducts : La liste des réductions.\n",
    "\t\"\"\"\n",
    "\treducts = []\n",
    "\tpos_c = POS_C(DS, d)\n",
    "\tprint(\"pos_c\", pos_c)\n",
    "\tC = list(DS.columns)\n",
    "\tC.remove(d)\n",
    "\tfor combi in combinaisons(DS, d):\n",
    "\t\tliste_combi = list(combi)\n",
    "\t\tif liste_combi != C:\n",
    "\t\t\tpos = POS(DS, d, liste_combi)\n",
    "\t\t\tprint(\"POS({}) = {}\".format(liste_combi, pos))\n",
    "\t\t\tif pos == pos_c:\n",
    "\t\t\t\tprint(\"reduct possible\", liste_combi)\n",
    "\t\t\t\treducts.append(liste_combi)\n",
    "\treducts.sort()\n",
    "\n",
    "\tif len(reducts)!= 0:\n",
    "\t\t# On garde les plus petites reductions\n",
    "\t\t# print(\"Selection des réductions minimales...\")\n",
    "\t\tmin_len = min([len(x) for x in reducts])\n",
    "\t\treducts = [x for x in reducts if len(x) == min_len]\n",
    "\n",
    "\treturn reducts"
   ]
  },
  {
   "attachments": {},
   "cell_type": "markdown",
   "metadata": {},
   "source": [
    "### Test."
   ]
  },
  {
   "cell_type": "code",
   "execution_count": 39,
   "metadata": {},
   "outputs": [
    {
     "name": "stdout",
     "output_type": "stream",
     "text": [
      "pos_c ['o1', 'o4', 'o5', 'o6']\n",
      "POS(['Headache']) = []\n",
      "POS(['Muscle-pain']) = []\n",
      "POS(['Temperature']) = ['o1', 'o4', 'o6']\n",
      "POS(['Headache', 'Muscle-pain']) = ['o1']\n",
      "POS(['Headache', 'Temperature']) = ['o1', 'o4', 'o5', 'o6']\n",
      "reduct possible ['Headache', 'Temperature']\n",
      "POS(['Muscle-pain', 'Temperature']) = ['o1', 'o4', 'o5', 'o6']\n",
      "reduct possible ['Muscle-pain', 'Temperature']\n"
     ]
    },
    {
     "data": {
      "text/plain": [
       "[['Headache', 'Temperature'], ['Muscle-pain', 'Temperature']]"
      ]
     },
     "execution_count": 39,
     "metadata": {},
     "output_type": "execute_result"
    }
   ],
   "source": [
    "reducts = reduct(df, \"Flu\")\n",
    "reducts"
   ]
  },
  {
   "cell_type": "code",
   "execution_count": 40,
   "metadata": {},
   "outputs": [
    {
     "data": {
      "text/html": [
       "<div>\n",
       "<style scoped>\n",
       "    .dataframe tbody tr th:only-of-type {\n",
       "        vertical-align: middle;\n",
       "    }\n",
       "\n",
       "    .dataframe tbody tr th {\n",
       "        vertical-align: top;\n",
       "    }\n",
       "\n",
       "    .dataframe thead th {\n",
       "        text-align: right;\n",
       "    }\n",
       "</style>\n",
       "<table border=\"1\" class=\"dataframe\">\n",
       "  <thead>\n",
       "    <tr style=\"text-align: right;\">\n",
       "      <th></th>\n",
       "      <th>a</th>\n",
       "      <th>b</th>\n",
       "      <th>c</th>\n",
       "      <th>d</th>\n",
       "      <th>e</th>\n",
       "    </tr>\n",
       "    <tr>\n",
       "      <th>x</th>\n",
       "      <th></th>\n",
       "      <th></th>\n",
       "      <th></th>\n",
       "      <th></th>\n",
       "      <th></th>\n",
       "    </tr>\n",
       "  </thead>\n",
       "  <tbody>\n",
       "    <tr>\n",
       "      <th>x1</th>\n",
       "      <td>1</td>\n",
       "      <td>0</td>\n",
       "      <td>2</td>\n",
       "      <td>2</td>\n",
       "      <td>0</td>\n",
       "    </tr>\n",
       "    <tr>\n",
       "      <th>x2</th>\n",
       "      <td>0</td>\n",
       "      <td>1</td>\n",
       "      <td>1</td>\n",
       "      <td>1</td>\n",
       "      <td>2</td>\n",
       "    </tr>\n",
       "    <tr>\n",
       "      <th>x3</th>\n",
       "      <td>2</td>\n",
       "      <td>0</td>\n",
       "      <td>0</td>\n",
       "      <td>1</td>\n",
       "      <td>1</td>\n",
       "    </tr>\n",
       "    <tr>\n",
       "      <th>x4</th>\n",
       "      <td>1</td>\n",
       "      <td>1</td>\n",
       "      <td>0</td>\n",
       "      <td>2</td>\n",
       "      <td>2</td>\n",
       "    </tr>\n",
       "    <tr>\n",
       "      <th>x5</th>\n",
       "      <td>1</td>\n",
       "      <td>0</td>\n",
       "      <td>2</td>\n",
       "      <td>0</td>\n",
       "      <td>1</td>\n",
       "    </tr>\n",
       "    <tr>\n",
       "      <th>x6</th>\n",
       "      <td>2</td>\n",
       "      <td>2</td>\n",
       "      <td>0</td>\n",
       "      <td>1</td>\n",
       "      <td>1</td>\n",
       "    </tr>\n",
       "    <tr>\n",
       "      <th>x7</th>\n",
       "      <td>2</td>\n",
       "      <td>1</td>\n",
       "      <td>1</td>\n",
       "      <td>1</td>\n",
       "      <td>2</td>\n",
       "    </tr>\n",
       "    <tr>\n",
       "      <th>x8</th>\n",
       "      <td>0</td>\n",
       "      <td>1</td>\n",
       "      <td>1</td>\n",
       "      <td>0</td>\n",
       "      <td>1</td>\n",
       "    </tr>\n",
       "  </tbody>\n",
       "</table>\n",
       "</div>"
      ],
      "text/plain": [
       "    a  b  c  d  e\n",
       "x                \n",
       "x1  1  0  2  2  0\n",
       "x2  0  1  1  1  2\n",
       "x3  2  0  0  1  1\n",
       "x4  1  1  0  2  2\n",
       "x5  1  0  2  0  1\n",
       "x6  2  2  0  1  1\n",
       "x7  2  1  1  1  2\n",
       "x8  0  1  1  0  1"
      ]
     },
     "execution_count": 40,
     "metadata": {},
     "output_type": "execute_result"
    }
   ],
   "source": [
    "# création d'un dataframe\n",
    "data3 = {\n",
    "\t\"x\" : [\"x1\", \"x2\", \"x3\", \"x4\", \"x5\", \"x6\", \"x7\", \"x8\"],\n",
    "\t\"a\" : [1, 0, 2, 1, 1, 2, 2, 0],\n",
    "\t\"b\" : [0, 1, 0, 1, 0, 2, 1, 1],\n",
    "\t\"c\" : [2, 1, 0, 0, 2, 0, 1, 1],\n",
    "\t\"d\" : [2, 1, 1, 2, 0, 1, 1, 0],\n",
    "\t\"e\" : [0, 2, 1, 2, 1, 1, 2, 1],\n",
    "}\n",
    "\n",
    "df3 = pd.DataFrame(data3)\n",
    "df3.set_index(\"x\", inplace=True)\n",
    "df3"
   ]
  },
  {
   "cell_type": "code",
   "execution_count": 41,
   "metadata": {},
   "outputs": [
    {
     "name": "stdout",
     "output_type": "stream",
     "text": [
      "pos_c ['x1', 'x2', 'x3', 'x4', 'x5', 'x6', 'x7', 'x8']\n",
      "POS(['a']) = []\n",
      "POS(['b']) = ['x6']\n",
      "POS(['c']) = []\n",
      "POS(['d']) = ['x5', 'x8']\n",
      "POS(['a', 'b']) = ['x3', 'x4', 'x6', 'x7']\n",
      "POS(['a', 'c']) = ['x3', 'x4', 'x6', 'x7']\n",
      "POS(['a', 'd']) = ['x2', 'x5', 'x8']\n",
      "POS(['b', 'c']) = ['x3', 'x4', 'x6']\n",
      "POS(['b', 'd']) = ['x1', 'x2', 'x3', 'x4', 'x5', 'x6', 'x7', 'x8']\n",
      "reduct possible ['b', 'd']\n",
      "POS(['c', 'd']) = ['x1', 'x2', 'x3', 'x4', 'x5', 'x6', 'x7', 'x8']\n",
      "reduct possible ['c', 'd']\n",
      "POS(['a', 'b', 'c']) = ['x3', 'x4', 'x6', 'x7']\n",
      "POS(['a', 'b', 'd']) = ['x1', 'x2', 'x3', 'x4', 'x5', 'x6', 'x7', 'x8']\n",
      "reduct possible ['a', 'b', 'd']\n",
      "POS(['a', 'c', 'd']) = ['x1', 'x2', 'x3', 'x4', 'x5', 'x6', 'x7', 'x8']\n",
      "reduct possible ['a', 'c', 'd']\n",
      "POS(['b', 'c', 'd']) = ['x1', 'x2', 'x3', 'x4', 'x5', 'x6', 'x7', 'x8']\n",
      "reduct possible ['b', 'c', 'd']\n"
     ]
    },
    {
     "data": {
      "text/plain": [
       "[['b', 'd'], ['c', 'd']]"
      ]
     },
     "execution_count": 41,
     "metadata": {},
     "output_type": "execute_result"
    }
   ],
   "source": [
    "reduct(df3, \"e\")"
   ]
  },
  {
   "attachments": {},
   "cell_type": "markdown",
   "metadata": {},
   "source": [
    "## *Core*."
   ]
  },
  {
   "attachments": {},
   "cell_type": "markdown",
   "metadata": {},
   "source": [
    "### Implémentation."
   ]
  },
  {
   "cell_type": "code",
   "execution_count": 42,
   "metadata": {},
   "outputs": [],
   "source": [
    "def core(reducts):\n",
    "\t\"\"\"\n",
    "\tCalcul l'intersection de toutes les réductions.\n",
    "\n",
    "\t@param reducts la liste des réductions.\n",
    "\n",
    "\t@return le core du système de décision.\n",
    "\t\"\"\"\n",
    "\treturn list(reduce(lambda i, j: i & j, (set(x) for x in reducts)))"
   ]
  },
  {
   "attachments": {},
   "cell_type": "markdown",
   "metadata": {},
   "source": [
    "### Test."
   ]
  },
  {
   "cell_type": "code",
   "execution_count": 43,
   "metadata": {},
   "outputs": [
    {
     "data": {
      "text/plain": [
       "['Temperature']"
      ]
     },
     "execution_count": 43,
     "metadata": {},
     "output_type": "execute_result"
    }
   ],
   "source": [
    "core(reducts)"
   ]
  },
  {
   "attachments": {},
   "cell_type": "markdown",
   "metadata": {},
   "source": [
    "## Dépendance des attributs."
   ]
  },
  {
   "attachments": {},
   "cell_type": "markdown",
   "metadata": {},
   "source": [
    "### Implémentation."
   ]
  },
  {
   "cell_type": "code",
   "execution_count": 44,
   "metadata": {},
   "outputs": [],
   "source": [
    "def dependance_attributs(DS, C, d):\n",
    "\t\"\"\"\n",
    "\tCalcul la dépendance des attributs.\n",
    "\n",
    "\t@param DS Le système de décision.\n",
    "\t@param C la liste des attributs.\n",
    "\t@param d la colonne de décision.\n",
    "\n",
    "\t@return la dépendance des attributs.\n",
    "\t\"\"\"\n",
    "\tds = DS[C]\n",
    "\tif len(list(ds.columns)) == 1 and list(ds.columns)[0] == d:\n",
    "\t\treturn 0\n",
    "\tind_c = IND_C(ds, d)\n",
    "\tpos_c = POS_C(ds, d)\n",
    "\t# dep = Fraction(len(pos_c), len(ds.index))\n",
    "\tdep = float(len(pos_c)) / len(ds.index)\n",
    "\treturn dep"
   ]
  },
  {
   "attachments": {},
   "cell_type": "markdown",
   "metadata": {},
   "source": [
    "### Test."
   ]
  },
  {
   "attachments": {},
   "cell_type": "markdown",
   "metadata": {},
   "source": [
    "## *QuickReduct*."
   ]
  },
  {
   "attachments": {},
   "cell_type": "markdown",
   "metadata": {},
   "source": [
    "### Implémentation."
   ]
  },
  {
   "cell_type": "code",
   "execution_count": 45,
   "metadata": {},
   "outputs": [],
   "source": [
    "def quickReduct(DS, d):\n",
    "\t\"\"\"\n",
    "\tL'algorithme de quickReduct.\n",
    "\n",
    "\t@param DS Le système de décision.\n",
    "\t@param d la colonne de décision.\n",
    "\n",
    "\t@return une sous liste d'attributs.\n",
    "\t\"\"\"\n",
    "\tC = list(DS.columns)\n",
    "\tC.remove(d)\n",
    "\tprint(\"C :\", C)\n",
    "\t# calcul de lambda C.\n",
    "\tdep_C = dependance_attributs(DS, DS.columns, d)\n",
    "\tprint(\"λC :\", dep_C, \"\\n\")\n",
    "\tR = []\n",
    "\twhile True:\n",
    "\t\tT = R\n",
    "\t\t# calcul de lambda T.\n",
    "\t\tattr = T.copy() + [d]\n",
    "\t\tdep_T = dependance_attributs(DS, attr, d)\n",
    "\t\tprint(\"λT({}) = {}\".format(attr[:-1], dep_T))\n",
    "\t\t\n",
    "\t\t# calcul de C - R.\n",
    "\t\tC_R = diff_list(C, R)\n",
    "\t\tprint(\"C_R\", C_R)\n",
    "\t\t\n",
    "\t\t# parcours des attributs.\n",
    "\t\tfor x in C_R:\n",
    "\t\t\tprint(\"x :\", x)\n",
    "\t\t\t# calcul de lambda RU{x}.\n",
    "\t\t\tattr2 = R.copy() + [x, d]\n",
    "\t\t\tdep_RUx = dependance_attributs(DS, attr2, d)\n",
    "\t\t\tprint(\"λRUx({}) = {}\".format(attr2[:-1], dep_RUx))\n",
    "\t\t\t\n",
    "\t\t\t# changement meilleur dépendance.\n",
    "\t\t\tif dep_RUx > dep_T:\n",
    "\t\t\t\tT = R.copy() + [x]\n",
    "\t\t\t\tprint(\"changement R =\", T)\n",
    "\t\t\t\tattr3 = T.copy() + [d]\n",
    "\t\t\t\tdep_T = dependance_attributs(DS, attr3, d)\n",
    "\t\t\n",
    "\t\tR = T.copy()\n",
    "\t\t# calcul de lambda R.\n",
    "\t\tattr4 = R.copy() + [d]\n",
    "\t\tdep_R = dependance_attributs(DS, attr4, d)\n",
    "\t\tprint(\"λR({}) = {}\".format(attr4[:-1], dep_R))\n",
    "\t\tif dep_R == dep_C:\n",
    "\t\t\treturn R"
   ]
  },
  {
   "attachments": {},
   "cell_type": "markdown",
   "metadata": {},
   "source": [
    "### Test."
   ]
  },
  {
   "cell_type": "code",
   "execution_count": 46,
   "metadata": {},
   "outputs": [
    {
     "name": "stdout",
     "output_type": "stream",
     "text": [
      "C : ['Headache', 'Muscle-pain', 'Temperature']\n",
      "λC : 0.6666666666666666 \n",
      "\n",
      "λT([]) = 0\n",
      "C_R ['Headache', 'Muscle-pain', 'Temperature']\n",
      "x : Headache\n",
      "λRUx(['Headache']) = 0.0\n",
      "x : Muscle-pain\n",
      "λRUx(['Muscle-pain']) = 0.0\n",
      "x : Temperature\n",
      "λRUx(['Temperature']) = 0.5\n",
      "changement R = ['Temperature']\n",
      "λR(['Temperature']) = 0.5\n",
      "λT(['Temperature']) = 0.5\n",
      "C_R ['Headache', 'Muscle-pain']\n",
      "x : Headache\n",
      "λRUx(['Temperature', 'Headache']) = 0.6666666666666666\n",
      "changement R = ['Temperature', 'Headache']\n",
      "x : Muscle-pain\n",
      "λRUx(['Temperature', 'Muscle-pain']) = 0.6666666666666666\n",
      "λR(['Temperature', 'Headache']) = 0.6666666666666666\n"
     ]
    },
    {
     "data": {
      "text/plain": [
       "['Temperature', 'Headache']"
      ]
     },
     "execution_count": 46,
     "metadata": {},
     "output_type": "execute_result"
    }
   ],
   "source": [
    "quickReduct(df, \"Flu\")"
   ]
  },
  {
   "attachments": {},
   "cell_type": "markdown",
   "metadata": {},
   "source": [
    "2ème test."
   ]
  },
  {
   "cell_type": "code",
   "execution_count": 47,
   "metadata": {},
   "outputs": [
    {
     "data": {
      "text/html": [
       "<div>\n",
       "<style scoped>\n",
       "    .dataframe tbody tr th:only-of-type {\n",
       "        vertical-align: middle;\n",
       "    }\n",
       "\n",
       "    .dataframe tbody tr th {\n",
       "        vertical-align: top;\n",
       "    }\n",
       "\n",
       "    .dataframe thead th {\n",
       "        text-align: right;\n",
       "    }\n",
       "</style>\n",
       "<table border=\"1\" class=\"dataframe\">\n",
       "  <thead>\n",
       "    <tr style=\"text-align: right;\">\n",
       "      <th></th>\n",
       "      <th>a</th>\n",
       "      <th>b</th>\n",
       "      <th>c</th>\n",
       "      <th>d</th>\n",
       "      <th>e</th>\n",
       "      <th>X</th>\n",
       "    </tr>\n",
       "    <tr>\n",
       "      <th>x</th>\n",
       "      <th></th>\n",
       "      <th></th>\n",
       "      <th></th>\n",
       "      <th></th>\n",
       "      <th></th>\n",
       "      <th></th>\n",
       "    </tr>\n",
       "  </thead>\n",
       "  <tbody>\n",
       "    <tr>\n",
       "      <th>x1</th>\n",
       "      <td>1</td>\n",
       "      <td>2</td>\n",
       "      <td>4</td>\n",
       "      <td>0</td>\n",
       "      <td>1</td>\n",
       "      <td>1</td>\n",
       "    </tr>\n",
       "    <tr>\n",
       "      <th>x2</th>\n",
       "      <td>0</td>\n",
       "      <td>3</td>\n",
       "      <td>3</td>\n",
       "      <td>2</td>\n",
       "      <td>1</td>\n",
       "      <td>2</td>\n",
       "    </tr>\n",
       "    <tr>\n",
       "      <th>x3</th>\n",
       "      <td>2</td>\n",
       "      <td>3</td>\n",
       "      <td>1</td>\n",
       "      <td>3</td>\n",
       "      <td>3</td>\n",
       "      <td>2</td>\n",
       "    </tr>\n",
       "    <tr>\n",
       "      <th>x4</th>\n",
       "      <td>1</td>\n",
       "      <td>1</td>\n",
       "      <td>2</td>\n",
       "      <td>1</td>\n",
       "      <td>2</td>\n",
       "      <td>1</td>\n",
       "    </tr>\n",
       "    <tr>\n",
       "      <th>x5</th>\n",
       "      <td>0</td>\n",
       "      <td>2</td>\n",
       "      <td>0</td>\n",
       "      <td>1</td>\n",
       "      <td>2</td>\n",
       "      <td>1</td>\n",
       "    </tr>\n",
       "    <tr>\n",
       "      <th>x6</th>\n",
       "      <td>1</td>\n",
       "      <td>1</td>\n",
       "      <td>2</td>\n",
       "      <td>4</td>\n",
       "      <td>3</td>\n",
       "      <td>2</td>\n",
       "    </tr>\n",
       "    <tr>\n",
       "      <th>x7</th>\n",
       "      <td>2</td>\n",
       "      <td>2</td>\n",
       "      <td>1</td>\n",
       "      <td>3</td>\n",
       "      <td>2</td>\n",
       "      <td>2</td>\n",
       "    </tr>\n",
       "    <tr>\n",
       "      <th>x8</th>\n",
       "      <td>1</td>\n",
       "      <td>2</td>\n",
       "      <td>0</td>\n",
       "      <td>2</td>\n",
       "      <td>2</td>\n",
       "      <td>1</td>\n",
       "    </tr>\n",
       "  </tbody>\n",
       "</table>\n",
       "</div>"
      ],
      "text/plain": [
       "    a  b  c  d  e  X\n",
       "x                   \n",
       "x1  1  2  4  0  1  1\n",
       "x2  0  3  3  2  1  2\n",
       "x3  2  3  1  3  3  2\n",
       "x4  1  1  2  1  2  1\n",
       "x5  0  2  0  1  2  1\n",
       "x6  1  1  2  4  3  2\n",
       "x7  2  2  1  3  2  2\n",
       "x8  1  2  0  2  2  1"
      ]
     },
     "execution_count": 47,
     "metadata": {},
     "output_type": "execute_result"
    }
   ],
   "source": [
    "data2 = {\n",
    "\t\"x\" : [\"x1\", \"x2\", \"x3\", \"x4\", \"x5\", \"x6\", \"x7\", \"x8\"],\n",
    "\t\"a\" : [1, 0, 2, 1, 0, 1, 2, 1],\n",
    "\t\"b\" : [2, 3, 3, 1, 2, 1, 2, 2],\n",
    "\t\"c\" : [4, 3, 1, 2, 0, 2, 1, 0],\n",
    "\t\"d\" : [0, 2, 3, 1, 1, 4, 3, 2],\n",
    "\t\"e\" : [1, 1, 3, 2, 2, 3, 2, 2],\n",
    "\t\"X\" : [1, 2, 2, 1, 1, 2, 2, 1],\n",
    "}\n",
    "\n",
    "df2 = pd.DataFrame(data2)\n",
    "df2.set_index(\"x\", inplace=True)\n",
    "df2"
   ]
  },
  {
   "cell_type": "code",
   "execution_count": 48,
   "metadata": {},
   "outputs": [
    {
     "name": "stdout",
     "output_type": "stream",
     "text": [
      "C : ['a', 'b', 'c', 'd', 'e']\n",
      "λC : 1.0 \n",
      "\n",
      "λT([]) = 0\n",
      "C_R ['a', 'b', 'c', 'd', 'e']\n",
      "x : a\n",
      "λRUx(['a']) = 0.25\n",
      "changement R = ['a']\n",
      "x : b\n",
      "λRUx(['b']) = 0.25\n",
      "x : c\n",
      "λRUx(['c']) = 0.75\n",
      "changement R = ['c']\n",
      "x : d\n",
      "λRUx(['d']) = 0.75\n",
      "x : e\n",
      "λRUx(['e']) = 0.25\n",
      "λR(['c']) = 0.75\n",
      "λT(['c']) = 0.75\n",
      "C_R ['a', 'b', 'd', 'e']\n",
      "x : a\n",
      "λRUx(['c', 'a']) = 0.75\n",
      "x : b\n",
      "λRUx(['c', 'b']) = 0.75\n",
      "x : d\n",
      "λRUx(['c', 'd']) = 1.0\n",
      "changement R = ['c', 'd']\n",
      "x : e\n",
      "λRUx(['c', 'e']) = 1.0\n",
      "λR(['c', 'd']) = 1.0\n"
     ]
    },
    {
     "data": {
      "text/plain": [
       "['c', 'd']"
      ]
     },
     "execution_count": 48,
     "metadata": {},
     "output_type": "execute_result"
    }
   ],
   "source": [
    "quickReduct(df2, \"X\")"
   ]
  },
  {
   "attachments": {},
   "cell_type": "markdown",
   "metadata": {},
   "source": [
    "# Chapitre 4:  Applications"
   ]
  },
  {
   "attachments": {},
   "cell_type": "markdown",
   "metadata": {},
   "source": [
    "## Chargement du dataset."
   ]
  },
  {
   "attachments": {},
   "cell_type": "markdown",
   "metadata": {},
   "source": [
    "Lien : https://archive.ics.uci.edu/ml/datasets/Car+Evaluation"
   ]
  },
  {
   "cell_type": "code",
   "execution_count": 49,
   "metadata": {},
   "outputs": [
    {
     "data": {
      "text/plain": [
       "['buying', 'maint', 'doors', 'persons', 'lug_boot', 'safety', 'class']"
      ]
     },
     "execution_count": 49,
     "metadata": {},
     "output_type": "execute_result"
    }
   ],
   "source": [
    "features = [\"buying\", \"maint\", \"doors\", \"persons\", \"lug_boot\", \"safety\"]\n",
    "label = [\"class\"]\n",
    "columns = features + label\n",
    "columns"
   ]
  },
  {
   "cell_type": "code",
   "execution_count": 50,
   "metadata": {},
   "outputs": [
    {
     "data": {
      "text/html": [
       "<div>\n",
       "<style scoped>\n",
       "    .dataframe tbody tr th:only-of-type {\n",
       "        vertical-align: middle;\n",
       "    }\n",
       "\n",
       "    .dataframe tbody tr th {\n",
       "        vertical-align: top;\n",
       "    }\n",
       "\n",
       "    .dataframe thead th {\n",
       "        text-align: right;\n",
       "    }\n",
       "</style>\n",
       "<table border=\"1\" class=\"dataframe\">\n",
       "  <thead>\n",
       "    <tr style=\"text-align: right;\">\n",
       "      <th></th>\n",
       "      <th>buying</th>\n",
       "      <th>maint</th>\n",
       "      <th>doors</th>\n",
       "      <th>persons</th>\n",
       "      <th>lug_boot</th>\n",
       "      <th>safety</th>\n",
       "      <th>class</th>\n",
       "    </tr>\n",
       "  </thead>\n",
       "  <tbody>\n",
       "    <tr>\n",
       "      <th>0</th>\n",
       "      <td>vhigh</td>\n",
       "      <td>vhigh</td>\n",
       "      <td>2</td>\n",
       "      <td>2</td>\n",
       "      <td>small</td>\n",
       "      <td>low</td>\n",
       "      <td>unacc</td>\n",
       "    </tr>\n",
       "    <tr>\n",
       "      <th>1</th>\n",
       "      <td>vhigh</td>\n",
       "      <td>vhigh</td>\n",
       "      <td>2</td>\n",
       "      <td>2</td>\n",
       "      <td>small</td>\n",
       "      <td>med</td>\n",
       "      <td>unacc</td>\n",
       "    </tr>\n",
       "    <tr>\n",
       "      <th>2</th>\n",
       "      <td>vhigh</td>\n",
       "      <td>vhigh</td>\n",
       "      <td>2</td>\n",
       "      <td>2</td>\n",
       "      <td>small</td>\n",
       "      <td>high</td>\n",
       "      <td>unacc</td>\n",
       "    </tr>\n",
       "    <tr>\n",
       "      <th>3</th>\n",
       "      <td>vhigh</td>\n",
       "      <td>vhigh</td>\n",
       "      <td>2</td>\n",
       "      <td>2</td>\n",
       "      <td>med</td>\n",
       "      <td>low</td>\n",
       "      <td>unacc</td>\n",
       "    </tr>\n",
       "    <tr>\n",
       "      <th>4</th>\n",
       "      <td>vhigh</td>\n",
       "      <td>vhigh</td>\n",
       "      <td>2</td>\n",
       "      <td>2</td>\n",
       "      <td>med</td>\n",
       "      <td>med</td>\n",
       "      <td>unacc</td>\n",
       "    </tr>\n",
       "    <tr>\n",
       "      <th>...</th>\n",
       "      <td>...</td>\n",
       "      <td>...</td>\n",
       "      <td>...</td>\n",
       "      <td>...</td>\n",
       "      <td>...</td>\n",
       "      <td>...</td>\n",
       "      <td>...</td>\n",
       "    </tr>\n",
       "    <tr>\n",
       "      <th>1723</th>\n",
       "      <td>low</td>\n",
       "      <td>low</td>\n",
       "      <td>5more</td>\n",
       "      <td>more</td>\n",
       "      <td>med</td>\n",
       "      <td>med</td>\n",
       "      <td>good</td>\n",
       "    </tr>\n",
       "    <tr>\n",
       "      <th>1724</th>\n",
       "      <td>low</td>\n",
       "      <td>low</td>\n",
       "      <td>5more</td>\n",
       "      <td>more</td>\n",
       "      <td>med</td>\n",
       "      <td>high</td>\n",
       "      <td>vgood</td>\n",
       "    </tr>\n",
       "    <tr>\n",
       "      <th>1725</th>\n",
       "      <td>low</td>\n",
       "      <td>low</td>\n",
       "      <td>5more</td>\n",
       "      <td>more</td>\n",
       "      <td>big</td>\n",
       "      <td>low</td>\n",
       "      <td>unacc</td>\n",
       "    </tr>\n",
       "    <tr>\n",
       "      <th>1726</th>\n",
       "      <td>low</td>\n",
       "      <td>low</td>\n",
       "      <td>5more</td>\n",
       "      <td>more</td>\n",
       "      <td>big</td>\n",
       "      <td>med</td>\n",
       "      <td>good</td>\n",
       "    </tr>\n",
       "    <tr>\n",
       "      <th>1727</th>\n",
       "      <td>low</td>\n",
       "      <td>low</td>\n",
       "      <td>5more</td>\n",
       "      <td>more</td>\n",
       "      <td>big</td>\n",
       "      <td>high</td>\n",
       "      <td>vgood</td>\n",
       "    </tr>\n",
       "  </tbody>\n",
       "</table>\n",
       "<p>1728 rows × 7 columns</p>\n",
       "</div>"
      ],
      "text/plain": [
       "     buying  maint  doors persons lug_boot safety  class\n",
       "0     vhigh  vhigh      2       2    small    low  unacc\n",
       "1     vhigh  vhigh      2       2    small    med  unacc\n",
       "2     vhigh  vhigh      2       2    small   high  unacc\n",
       "3     vhigh  vhigh      2       2      med    low  unacc\n",
       "4     vhigh  vhigh      2       2      med    med  unacc\n",
       "...     ...    ...    ...     ...      ...    ...    ...\n",
       "1723    low    low  5more    more      med    med   good\n",
       "1724    low    low  5more    more      med   high  vgood\n",
       "1725    low    low  5more    more      big    low  unacc\n",
       "1726    low    low  5more    more      big    med   good\n",
       "1727    low    low  5more    more      big   high  vgood\n",
       "\n",
       "[1728 rows x 7 columns]"
      ]
     },
     "execution_count": 50,
     "metadata": {},
     "output_type": "execute_result"
    }
   ],
   "source": [
    "df_car = pd.read_csv(\"data/car.data\", names=columns)\n",
    "df_car"
   ]
  },
  {
   "attachments": {},
   "cell_type": "markdown",
   "metadata": {},
   "source": [
    "### Informations sur le dataset."
   ]
  },
  {
   "cell_type": "code",
   "execution_count": 51,
   "metadata": {},
   "outputs": [
    {
     "name": "stdout",
     "output_type": "stream",
     "text": [
      "<class 'pandas.core.frame.DataFrame'>\n",
      "RangeIndex: 1728 entries, 0 to 1727\n",
      "Data columns (total 7 columns):\n",
      " #   Column    Non-Null Count  Dtype \n",
      "---  ------    --------------  ----- \n",
      " 0   buying    1728 non-null   object\n",
      " 1   maint     1728 non-null   object\n",
      " 2   doors     1728 non-null   object\n",
      " 3   persons   1728 non-null   object\n",
      " 4   lug_boot  1728 non-null   object\n",
      " 5   safety    1728 non-null   object\n",
      " 6   class     1728 non-null   object\n",
      "dtypes: object(7)\n",
      "memory usage: 94.6+ KB\n"
     ]
    }
   ],
   "source": [
    "df_car.info()"
   ]
  },
  {
   "attachments": {},
   "cell_type": "markdown",
   "metadata": {},
   "source": [
    "## *Data visualization*."
   ]
  },
  {
   "attachments": {},
   "cell_type": "markdown",
   "metadata": {},
   "source": [
    "### Répartition des données en fonction des attributs."
   ]
  },
  {
   "cell_type": "code",
   "execution_count": 52,
   "metadata": {},
   "outputs": [
    {
     "data": {
      "image/png": "[encoded data removed]",
      "text/plain": [
       "<Figure size 1080x504 with 6 Axes>"
      ]
     },
     "metadata": {
      "needs_background": "light"
     },
     "output_type": "display_data"
    }
   ],
   "source": [
    "fig, ax = plt.subplots(2,3, figsize=(15, 7))\n",
    "sns.countplot(x = \"buying\", data = df_car, ax=ax[0,0])\n",
    "sns.countplot(x = \"maint\", data = df_car, ax=ax[0,1])\n",
    "sns.countplot(x = \"doors\", data = df_car, ax=ax[0,2])\n",
    "sns.countplot(x = \"persons\", data = df_car, ax=ax[1,0])\n",
    "sns.countplot(x = \"lug_boot\", data = df_car, ax=ax[1,1])\n",
    "sns.countplot(x = \"safety\", data = df_car, ax=ax[1,2])\n",
    "plt.show()"
   ]
  },
  {
   "attachments": {},
   "cell_type": "markdown",
   "metadata": {},
   "source": [
    "Les données sont réparties de manière équitables entre les différents attributs."
   ]
  },
  {
   "attachments": {},
   "cell_type": "markdown",
   "metadata": {},
   "source": [
    "### Répartition des données en fonction des classes."
   ]
  },
  {
   "cell_type": "code",
   "execution_count": 53,
   "metadata": {},
   "outputs": [
    {
     "data": {
      "image/png": "[encoded data removed]",
      "text/plain": [
       "<Figure size 432x288 with 1 Axes>"
      ]
     },
     "metadata": {
      "needs_background": "light"
     },
     "output_type": "display_data"
    }
   ],
   "source": [
    "sns.countplot(x = \"class\", data = df_car)\n",
    "plt.show()"
   ]
  },
  {
   "attachments": {},
   "cell_type": "markdown",
   "metadata": {},
   "source": [
    "Il y a une grande majorité de données ayant pour classe \"unacc\" à l'inverse des autres classes. Nous devons équilibrer cette répartition pour favoriser l'apprentissage de nos modèles."
   ]
  },
  {
   "attachments": {},
   "cell_type": "markdown",
   "metadata": {},
   "source": [
    "### Matrice de corrélation."
   ]
  },
  {
   "attachments": {},
   "cell_type": "markdown",
   "metadata": {},
   "source": [
    "#### Encodage."
   ]
  },
  {
   "attachments": {},
   "cell_type": "markdown",
   "metadata": {},
   "source": [
    "Découpage des attributs et de la classe."
   ]
  },
  {
   "cell_type": "code",
   "execution_count": 54,
   "metadata": {},
   "outputs": [
    {
     "data": {
      "text/plain": [
       "(     buying  maint  doors persons lug_boot safety\n",
       " 0     vhigh  vhigh      2       2    small    low\n",
       " 1     vhigh  vhigh      2       2    small    med\n",
       " 2     vhigh  vhigh      2       2    small   high\n",
       " 3     vhigh  vhigh      2       2      med    low\n",
       " 4     vhigh  vhigh      2       2      med    med\n",
       " ...     ...    ...    ...     ...      ...    ...\n",
       " 1723    low    low  5more    more      med    med\n",
       " 1724    low    low  5more    more      med   high\n",
       " 1725    low    low  5more    more      big    low\n",
       " 1726    low    low  5more    more      big    med\n",
       " 1727    low    low  5more    more      big   high\n",
       " \n",
       " [1728 rows x 6 columns],\n",
       " 0       unacc\n",
       " 1       unacc\n",
       " 2       unacc\n",
       " 3       unacc\n",
       " 4       unacc\n",
       "         ...  \n",
       " 1723     good\n",
       " 1724    vgood\n",
       " 1725    unacc\n",
       " 1726     good\n",
       " 1727    vgood\n",
       " Name: class, Length: 1728, dtype: object)"
      ]
     },
     "execution_count": 54,
     "metadata": {},
     "output_type": "execute_result"
    }
   ],
   "source": [
    "X = df_car.drop(\"class\", axis=1)\n",
    "y = df_car[\"class\"]\n",
    "X, y"
   ]
  },
  {
   "attachments": {},
   "cell_type": "markdown",
   "metadata": {},
   "source": [
    "Encodage."
   ]
  },
  {
   "cell_type": "code",
   "execution_count": 55,
   "metadata": {},
   "outputs": [],
   "source": [
    "encoder = LabelEncoder()\n",
    "yencode = encoder.fit_transform(y)\n",
    "\n",
    "encoder = OrdinalEncoder(dtype=np.int64)\n",
    "Xencode = encoder.fit_transform(X)"
   ]
  },
  {
   "attachments": {},
   "cell_type": "markdown",
   "metadata": {},
   "source": [
    "Concaténation."
   ]
  },
  {
   "cell_type": "code",
   "execution_count": 56,
   "metadata": {},
   "outputs": [
    {
     "data": {
      "text/html": [
       "<div>\n",
       "<style scoped>\n",
       "    .dataframe tbody tr th:only-of-type {\n",
       "        vertical-align: middle;\n",
       "    }\n",
       "\n",
       "    .dataframe tbody tr th {\n",
       "        vertical-align: top;\n",
       "    }\n",
       "\n",
       "    .dataframe thead th {\n",
       "        text-align: right;\n",
       "    }\n",
       "</style>\n",
       "<table border=\"1\" class=\"dataframe\">\n",
       "  <thead>\n",
       "    <tr style=\"text-align: right;\">\n",
       "      <th></th>\n",
       "      <th>buying</th>\n",
       "      <th>maint</th>\n",
       "      <th>doors</th>\n",
       "      <th>persons</th>\n",
       "      <th>lug_boot</th>\n",
       "      <th>safety</th>\n",
       "      <th>class</th>\n",
       "    </tr>\n",
       "  </thead>\n",
       "  <tbody>\n",
       "    <tr>\n",
       "      <th>0</th>\n",
       "      <td>3</td>\n",
       "      <td>3</td>\n",
       "      <td>0</td>\n",
       "      <td>0</td>\n",
       "      <td>2</td>\n",
       "      <td>1</td>\n",
       "      <td>2</td>\n",
       "    </tr>\n",
       "    <tr>\n",
       "      <th>1</th>\n",
       "      <td>3</td>\n",
       "      <td>3</td>\n",
       "      <td>0</td>\n",
       "      <td>0</td>\n",
       "      <td>2</td>\n",
       "      <td>2</td>\n",
       "      <td>2</td>\n",
       "    </tr>\n",
       "    <tr>\n",
       "      <th>2</th>\n",
       "      <td>3</td>\n",
       "      <td>3</td>\n",
       "      <td>0</td>\n",
       "      <td>0</td>\n",
       "      <td>2</td>\n",
       "      <td>0</td>\n",
       "      <td>2</td>\n",
       "    </tr>\n",
       "    <tr>\n",
       "      <th>3</th>\n",
       "      <td>3</td>\n",
       "      <td>3</td>\n",
       "      <td>0</td>\n",
       "      <td>0</td>\n",
       "      <td>1</td>\n",
       "      <td>1</td>\n",
       "      <td>2</td>\n",
       "    </tr>\n",
       "    <tr>\n",
       "      <th>4</th>\n",
       "      <td>3</td>\n",
       "      <td>3</td>\n",
       "      <td>0</td>\n",
       "      <td>0</td>\n",
       "      <td>1</td>\n",
       "      <td>2</td>\n",
       "      <td>2</td>\n",
       "    </tr>\n",
       "    <tr>\n",
       "      <th>...</th>\n",
       "      <td>...</td>\n",
       "      <td>...</td>\n",
       "      <td>...</td>\n",
       "      <td>...</td>\n",
       "      <td>...</td>\n",
       "      <td>...</td>\n",
       "      <td>...</td>\n",
       "    </tr>\n",
       "    <tr>\n",
       "      <th>1723</th>\n",
       "      <td>1</td>\n",
       "      <td>1</td>\n",
       "      <td>3</td>\n",
       "      <td>2</td>\n",
       "      <td>1</td>\n",
       "      <td>2</td>\n",
       "      <td>1</td>\n",
       "    </tr>\n",
       "    <tr>\n",
       "      <th>1724</th>\n",
       "      <td>1</td>\n",
       "      <td>1</td>\n",
       "      <td>3</td>\n",
       "      <td>2</td>\n",
       "      <td>1</td>\n",
       "      <td>0</td>\n",
       "      <td>3</td>\n",
       "    </tr>\n",
       "    <tr>\n",
       "      <th>1725</th>\n",
       "      <td>1</td>\n",
       "      <td>1</td>\n",
       "      <td>3</td>\n",
       "      <td>2</td>\n",
       "      <td>0</td>\n",
       "      <td>1</td>\n",
       "      <td>2</td>\n",
       "    </tr>\n",
       "    <tr>\n",
       "      <th>1726</th>\n",
       "      <td>1</td>\n",
       "      <td>1</td>\n",
       "      <td>3</td>\n",
       "      <td>2</td>\n",
       "      <td>0</td>\n",
       "      <td>2</td>\n",
       "      <td>1</td>\n",
       "    </tr>\n",
       "    <tr>\n",
       "      <th>1727</th>\n",
       "      <td>1</td>\n",
       "      <td>1</td>\n",
       "      <td>3</td>\n",
       "      <td>2</td>\n",
       "      <td>0</td>\n",
       "      <td>0</td>\n",
       "      <td>3</td>\n",
       "    </tr>\n",
       "  </tbody>\n",
       "</table>\n",
       "<p>1728 rows × 7 columns</p>\n",
       "</div>"
      ],
      "text/plain": [
       "      buying  maint  doors  persons  lug_boot  safety  class\n",
       "0          3      3      0        0         2       1      2\n",
       "1          3      3      0        0         2       2      2\n",
       "2          3      3      0        0         2       0      2\n",
       "3          3      3      0        0         1       1      2\n",
       "4          3      3      0        0         1       2      2\n",
       "...      ...    ...    ...      ...       ...     ...    ...\n",
       "1723       1      1      3        2         1       2      1\n",
       "1724       1      1      3        2         1       0      3\n",
       "1725       1      1      3        2         0       1      2\n",
       "1726       1      1      3        2         0       2      1\n",
       "1727       1      1      3        2         0       0      3\n",
       "\n",
       "[1728 rows x 7 columns]"
      ]
     },
     "execution_count": 56,
     "metadata": {},
     "output_type": "execute_result"
    }
   ],
   "source": [
    "car_encode = [list(np.concatenate([x, [y]], axis=0)) for x, y in zip(Xencode, yencode)]\n",
    "df_car_encode = pd.DataFrame(car_encode, columns=columns)\n",
    "df_car_encode"
   ]
  },
  {
   "cell_type": "code",
   "execution_count": 57,
   "metadata": {},
   "outputs": [
    {
     "data": {
      "image/png": "[encoded data removed]",
      "text/plain": [
       "<Figure size 720x720 with 2 Axes>"
      ]
     },
     "metadata": {
      "needs_background": "light"
     },
     "output_type": "display_data"
    }
   ],
   "source": [
    "corr_matrix = df_car_encode.corr()\n",
    "fig, ax = plt.subplots(figsize=(10, 10))\n",
    "sns.heatmap(corr_matrix, annot=True, linewidths=.3)\n",
    "plt.show()"
   ]
  },
  {
   "attachments": {},
   "cell_type": "markdown",
   "metadata": {},
   "source": [
    "## *Data reduction*."
   ]
  },
  {
   "attachments": {},
   "cell_type": "markdown",
   "metadata": {},
   "source": [
    "### Reduction des données de la classe \"unacc\"."
   ]
  },
  {
   "cell_type": "code",
   "execution_count": 58,
   "metadata": {},
   "outputs": [
    {
     "data": {
      "text/html": [
       "<div>\n",
       "<style scoped>\n",
       "    .dataframe tbody tr th:only-of-type {\n",
       "        vertical-align: middle;\n",
       "    }\n",
       "\n",
       "    .dataframe tbody tr th {\n",
       "        vertical-align: top;\n",
       "    }\n",
       "\n",
       "    .dataframe thead th {\n",
       "        text-align: right;\n",
       "    }\n",
       "</style>\n",
       "<table border=\"1\" class=\"dataframe\">\n",
       "  <thead>\n",
       "    <tr style=\"text-align: right;\">\n",
       "      <th></th>\n",
       "      <th>buying</th>\n",
       "      <th>maint</th>\n",
       "      <th>doors</th>\n",
       "      <th>persons</th>\n",
       "      <th>lug_boot</th>\n",
       "      <th>safety</th>\n",
       "      <th>class</th>\n",
       "    </tr>\n",
       "  </thead>\n",
       "  <tbody>\n",
       "    <tr>\n",
       "      <th>960</th>\n",
       "      <td>med</td>\n",
       "      <td>vhigh</td>\n",
       "      <td>5more</td>\n",
       "      <td>4</td>\n",
       "      <td>big</td>\n",
       "      <td>low</td>\n",
       "      <td>unacc</td>\n",
       "    </tr>\n",
       "    <tr>\n",
       "      <th>1655</th>\n",
       "      <td>low</td>\n",
       "      <td>low</td>\n",
       "      <td>3</td>\n",
       "      <td>2</td>\n",
       "      <td>big</td>\n",
       "      <td>high</td>\n",
       "      <td>unacc</td>\n",
       "    </tr>\n",
       "    <tr>\n",
       "      <th>1581</th>\n",
       "      <td>low</td>\n",
       "      <td>med</td>\n",
       "      <td>4</td>\n",
       "      <td>4</td>\n",
       "      <td>big</td>\n",
       "      <td>low</td>\n",
       "      <td>unacc</td>\n",
       "    </tr>\n",
       "    <tr>\n",
       "      <th>861</th>\n",
       "      <td>high</td>\n",
       "      <td>low</td>\n",
       "      <td>5more</td>\n",
       "      <td>more</td>\n",
       "      <td>big</td>\n",
       "      <td>low</td>\n",
       "      <td>unacc</td>\n",
       "    </tr>\n",
       "    <tr>\n",
       "      <th>134</th>\n",
       "      <td>vhigh</td>\n",
       "      <td>high</td>\n",
       "      <td>2</td>\n",
       "      <td>more</td>\n",
       "      <td>big</td>\n",
       "      <td>high</td>\n",
       "      <td>unacc</td>\n",
       "    </tr>\n",
       "    <tr>\n",
       "      <th>...</th>\n",
       "      <td>...</td>\n",
       "      <td>...</td>\n",
       "      <td>...</td>\n",
       "      <td>...</td>\n",
       "      <td>...</td>\n",
       "      <td>...</td>\n",
       "      <td>...</td>\n",
       "    </tr>\n",
       "    <tr>\n",
       "      <th>251</th>\n",
       "      <td>vhigh</td>\n",
       "      <td>med</td>\n",
       "      <td>3</td>\n",
       "      <td>2</td>\n",
       "      <td>big</td>\n",
       "      <td>high</td>\n",
       "      <td>unacc</td>\n",
       "    </tr>\n",
       "    <tr>\n",
       "      <th>532</th>\n",
       "      <td>high</td>\n",
       "      <td>vhigh</td>\n",
       "      <td>5more</td>\n",
       "      <td>more</td>\n",
       "      <td>small</td>\n",
       "      <td>med</td>\n",
       "      <td>unacc</td>\n",
       "    </tr>\n",
       "    <tr>\n",
       "      <th>1533</th>\n",
       "      <td>low</td>\n",
       "      <td>med</td>\n",
       "      <td>2</td>\n",
       "      <td>more</td>\n",
       "      <td>med</td>\n",
       "      <td>low</td>\n",
       "      <td>unacc</td>\n",
       "    </tr>\n",
       "    <tr>\n",
       "      <th>756</th>\n",
       "      <td>high</td>\n",
       "      <td>low</td>\n",
       "      <td>2</td>\n",
       "      <td>2</td>\n",
       "      <td>small</td>\n",
       "      <td>low</td>\n",
       "      <td>unacc</td>\n",
       "    </tr>\n",
       "    <tr>\n",
       "      <th>852</th>\n",
       "      <td>high</td>\n",
       "      <td>low</td>\n",
       "      <td>5more</td>\n",
       "      <td>4</td>\n",
       "      <td>big</td>\n",
       "      <td>low</td>\n",
       "      <td>unacc</td>\n",
       "    </tr>\n",
       "  </tbody>\n",
       "</table>\n",
       "<p>399 rows × 7 columns</p>\n",
       "</div>"
      ],
      "text/plain": [
       "     buying  maint  doors persons lug_boot safety  class\n",
       "960     med  vhigh  5more       4      big    low  unacc\n",
       "1655    low    low      3       2      big   high  unacc\n",
       "1581    low    med      4       4      big    low  unacc\n",
       "861    high    low  5more    more      big    low  unacc\n",
       "134   vhigh   high      2    more      big   high  unacc\n",
       "...     ...    ...    ...     ...      ...    ...    ...\n",
       "251   vhigh    med      3       2      big   high  unacc\n",
       "532    high  vhigh  5more    more    small    med  unacc\n",
       "1533    low    med      2    more      med    low  unacc\n",
       "756    high    low      2       2    small    low  unacc\n",
       "852    high    low  5more       4      big    low  unacc\n",
       "\n",
       "[399 rows x 7 columns]"
      ]
     },
     "execution_count": 58,
     "metadata": {},
     "output_type": "execute_result"
    }
   ],
   "source": [
    "df_car_unacc = df_car[df_car[\"class\"] == \"unacc\"].sample(frac=0.33)\n",
    "df_car_unacc"
   ]
  },
  {
   "attachments": {},
   "cell_type": "markdown",
   "metadata": {},
   "source": [
    "### Répartition des données prises aléatoirement."
   ]
  },
  {
   "cell_type": "code",
   "execution_count": 59,
   "metadata": {},
   "outputs": [
    {
     "data": {
      "image/png": "[encoded data removed]",
      "text/plain": [
       "<Figure size 1080x504 with 6 Axes>"
      ]
     },
     "metadata": {
      "needs_background": "light"
     },
     "output_type": "display_data"
    }
   ],
   "source": [
    "fig, ax = plt.subplots(2,3, figsize=(15, 7))\n",
    "sns.countplot(x = \"buying\", data = df_car_unacc, ax=ax[0,0])\n",
    "sns.countplot(x = \"maint\", data = df_car_unacc, ax=ax[0,1])\n",
    "sns.countplot(x = \"doors\", data = df_car_unacc, ax=ax[0,2])\n",
    "sns.countplot(x = \"persons\", data = df_car_unacc, ax=ax[1,0])\n",
    "sns.countplot(x = \"lug_boot\", data = df_car_unacc, ax=ax[1,1])\n",
    "sns.countplot(x = \"safety\", data = df_car_unacc, ax=ax[1,2])\n",
    "plt.show()"
   ]
  },
  {
   "attachments": {},
   "cell_type": "markdown",
   "metadata": {},
   "source": [
    "### Construction du datset réduit."
   ]
  },
  {
   "cell_type": "code",
   "execution_count": 60,
   "metadata": {},
   "outputs": [
    {
     "data": {
      "text/html": [
       "<div>\n",
       "<style scoped>\n",
       "    .dataframe tbody tr th:only-of-type {\n",
       "        vertical-align: middle;\n",
       "    }\n",
       "\n",
       "    .dataframe tbody tr th {\n",
       "        vertical-align: top;\n",
       "    }\n",
       "\n",
       "    .dataframe thead th {\n",
       "        text-align: right;\n",
       "    }\n",
       "</style>\n",
       "<table border=\"1\" class=\"dataframe\">\n",
       "  <thead>\n",
       "    <tr style=\"text-align: right;\">\n",
       "      <th></th>\n",
       "      <th>buying</th>\n",
       "      <th>maint</th>\n",
       "      <th>doors</th>\n",
       "      <th>persons</th>\n",
       "      <th>lug_boot</th>\n",
       "      <th>safety</th>\n",
       "      <th>class</th>\n",
       "    </tr>\n",
       "  </thead>\n",
       "  <tbody>\n",
       "    <tr>\n",
       "      <th>227</th>\n",
       "      <td>vhigh</td>\n",
       "      <td>med</td>\n",
       "      <td>2</td>\n",
       "      <td>4</td>\n",
       "      <td>small</td>\n",
       "      <td>high</td>\n",
       "      <td>acc</td>\n",
       "    </tr>\n",
       "    <tr>\n",
       "      <th>230</th>\n",
       "      <td>vhigh</td>\n",
       "      <td>med</td>\n",
       "      <td>2</td>\n",
       "      <td>4</td>\n",
       "      <td>med</td>\n",
       "      <td>high</td>\n",
       "      <td>acc</td>\n",
       "    </tr>\n",
       "    <tr>\n",
       "      <th>232</th>\n",
       "      <td>vhigh</td>\n",
       "      <td>med</td>\n",
       "      <td>2</td>\n",
       "      <td>4</td>\n",
       "      <td>big</td>\n",
       "      <td>med</td>\n",
       "      <td>acc</td>\n",
       "    </tr>\n",
       "    <tr>\n",
       "      <th>233</th>\n",
       "      <td>vhigh</td>\n",
       "      <td>med</td>\n",
       "      <td>2</td>\n",
       "      <td>4</td>\n",
       "      <td>big</td>\n",
       "      <td>high</td>\n",
       "      <td>acc</td>\n",
       "    </tr>\n",
       "    <tr>\n",
       "      <th>239</th>\n",
       "      <td>vhigh</td>\n",
       "      <td>med</td>\n",
       "      <td>2</td>\n",
       "      <td>more</td>\n",
       "      <td>med</td>\n",
       "      <td>high</td>\n",
       "      <td>acc</td>\n",
       "    </tr>\n",
       "    <tr>\n",
       "      <th>...</th>\n",
       "      <td>...</td>\n",
       "      <td>...</td>\n",
       "      <td>...</td>\n",
       "      <td>...</td>\n",
       "      <td>...</td>\n",
       "      <td>...</td>\n",
       "      <td>...</td>\n",
       "    </tr>\n",
       "    <tr>\n",
       "      <th>1721</th>\n",
       "      <td>low</td>\n",
       "      <td>low</td>\n",
       "      <td>5more</td>\n",
       "      <td>more</td>\n",
       "      <td>small</td>\n",
       "      <td>high</td>\n",
       "      <td>good</td>\n",
       "    </tr>\n",
       "    <tr>\n",
       "      <th>1723</th>\n",
       "      <td>low</td>\n",
       "      <td>low</td>\n",
       "      <td>5more</td>\n",
       "      <td>more</td>\n",
       "      <td>med</td>\n",
       "      <td>med</td>\n",
       "      <td>good</td>\n",
       "    </tr>\n",
       "    <tr>\n",
       "      <th>1724</th>\n",
       "      <td>low</td>\n",
       "      <td>low</td>\n",
       "      <td>5more</td>\n",
       "      <td>more</td>\n",
       "      <td>med</td>\n",
       "      <td>high</td>\n",
       "      <td>vgood</td>\n",
       "    </tr>\n",
       "    <tr>\n",
       "      <th>1726</th>\n",
       "      <td>low</td>\n",
       "      <td>low</td>\n",
       "      <td>5more</td>\n",
       "      <td>more</td>\n",
       "      <td>big</td>\n",
       "      <td>med</td>\n",
       "      <td>good</td>\n",
       "    </tr>\n",
       "    <tr>\n",
       "      <th>1727</th>\n",
       "      <td>low</td>\n",
       "      <td>low</td>\n",
       "      <td>5more</td>\n",
       "      <td>more</td>\n",
       "      <td>big</td>\n",
       "      <td>high</td>\n",
       "      <td>vgood</td>\n",
       "    </tr>\n",
       "  </tbody>\n",
       "</table>\n",
       "<p>518 rows × 7 columns</p>\n",
       "</div>"
      ],
      "text/plain": [
       "     buying maint  doors persons lug_boot safety  class\n",
       "227   vhigh   med      2       4    small   high    acc\n",
       "230   vhigh   med      2       4      med   high    acc\n",
       "232   vhigh   med      2       4      big    med    acc\n",
       "233   vhigh   med      2       4      big   high    acc\n",
       "239   vhigh   med      2    more      med   high    acc\n",
       "...     ...   ...    ...     ...      ...    ...    ...\n",
       "1721    low   low  5more    more    small   high   good\n",
       "1723    low   low  5more    more      med    med   good\n",
       "1724    low   low  5more    more      med   high  vgood\n",
       "1726    low   low  5more    more      big    med   good\n",
       "1727    low   low  5more    more      big   high  vgood\n",
       "\n",
       "[518 rows x 7 columns]"
      ]
     },
     "execution_count": 60,
     "metadata": {},
     "output_type": "execute_result"
    }
   ],
   "source": [
    "df_car_sans_unacc = df_car[df_car[\"class\"] != \"unacc\"]\n",
    "df_car_sans_unacc"
   ]
  },
  {
   "cell_type": "code",
   "execution_count": 61,
   "metadata": {},
   "outputs": [
    {
     "data": {
      "text/html": [
       "<div>\n",
       "<style scoped>\n",
       "    .dataframe tbody tr th:only-of-type {\n",
       "        vertical-align: middle;\n",
       "    }\n",
       "\n",
       "    .dataframe tbody tr th {\n",
       "        vertical-align: top;\n",
       "    }\n",
       "\n",
       "    .dataframe thead th {\n",
       "        text-align: right;\n",
       "    }\n",
       "</style>\n",
       "<table border=\"1\" class=\"dataframe\">\n",
       "  <thead>\n",
       "    <tr style=\"text-align: right;\">\n",
       "      <th></th>\n",
       "      <th>buying</th>\n",
       "      <th>maint</th>\n",
       "      <th>doors</th>\n",
       "      <th>persons</th>\n",
       "      <th>lug_boot</th>\n",
       "      <th>safety</th>\n",
       "      <th>class</th>\n",
       "    </tr>\n",
       "  </thead>\n",
       "  <tbody>\n",
       "    <tr>\n",
       "      <th>0</th>\n",
       "      <td>med</td>\n",
       "      <td>vhigh</td>\n",
       "      <td>5more</td>\n",
       "      <td>4</td>\n",
       "      <td>big</td>\n",
       "      <td>low</td>\n",
       "      <td>unacc</td>\n",
       "    </tr>\n",
       "    <tr>\n",
       "      <th>1</th>\n",
       "      <td>low</td>\n",
       "      <td>low</td>\n",
       "      <td>3</td>\n",
       "      <td>2</td>\n",
       "      <td>big</td>\n",
       "      <td>high</td>\n",
       "      <td>unacc</td>\n",
       "    </tr>\n",
       "    <tr>\n",
       "      <th>2</th>\n",
       "      <td>low</td>\n",
       "      <td>med</td>\n",
       "      <td>4</td>\n",
       "      <td>4</td>\n",
       "      <td>big</td>\n",
       "      <td>low</td>\n",
       "      <td>unacc</td>\n",
       "    </tr>\n",
       "    <tr>\n",
       "      <th>3</th>\n",
       "      <td>high</td>\n",
       "      <td>low</td>\n",
       "      <td>5more</td>\n",
       "      <td>more</td>\n",
       "      <td>big</td>\n",
       "      <td>low</td>\n",
       "      <td>unacc</td>\n",
       "    </tr>\n",
       "    <tr>\n",
       "      <th>4</th>\n",
       "      <td>vhigh</td>\n",
       "      <td>high</td>\n",
       "      <td>2</td>\n",
       "      <td>more</td>\n",
       "      <td>big</td>\n",
       "      <td>high</td>\n",
       "      <td>unacc</td>\n",
       "    </tr>\n",
       "    <tr>\n",
       "      <th>...</th>\n",
       "      <td>...</td>\n",
       "      <td>...</td>\n",
       "      <td>...</td>\n",
       "      <td>...</td>\n",
       "      <td>...</td>\n",
       "      <td>...</td>\n",
       "      <td>...</td>\n",
       "    </tr>\n",
       "    <tr>\n",
       "      <th>912</th>\n",
       "      <td>low</td>\n",
       "      <td>low</td>\n",
       "      <td>5more</td>\n",
       "      <td>more</td>\n",
       "      <td>small</td>\n",
       "      <td>high</td>\n",
       "      <td>good</td>\n",
       "    </tr>\n",
       "    <tr>\n",
       "      <th>913</th>\n",
       "      <td>low</td>\n",
       "      <td>low</td>\n",
       "      <td>5more</td>\n",
       "      <td>more</td>\n",
       "      <td>med</td>\n",
       "      <td>med</td>\n",
       "      <td>good</td>\n",
       "    </tr>\n",
       "    <tr>\n",
       "      <th>914</th>\n",
       "      <td>low</td>\n",
       "      <td>low</td>\n",
       "      <td>5more</td>\n",
       "      <td>more</td>\n",
       "      <td>med</td>\n",
       "      <td>high</td>\n",
       "      <td>vgood</td>\n",
       "    </tr>\n",
       "    <tr>\n",
       "      <th>915</th>\n",
       "      <td>low</td>\n",
       "      <td>low</td>\n",
       "      <td>5more</td>\n",
       "      <td>more</td>\n",
       "      <td>big</td>\n",
       "      <td>med</td>\n",
       "      <td>good</td>\n",
       "    </tr>\n",
       "    <tr>\n",
       "      <th>916</th>\n",
       "      <td>low</td>\n",
       "      <td>low</td>\n",
       "      <td>5more</td>\n",
       "      <td>more</td>\n",
       "      <td>big</td>\n",
       "      <td>high</td>\n",
       "      <td>vgood</td>\n",
       "    </tr>\n",
       "  </tbody>\n",
       "</table>\n",
       "<p>917 rows × 7 columns</p>\n",
       "</div>"
      ],
      "text/plain": [
       "    buying  maint  doors persons lug_boot safety  class\n",
       "0      med  vhigh  5more       4      big    low  unacc\n",
       "1      low    low      3       2      big   high  unacc\n",
       "2      low    med      4       4      big    low  unacc\n",
       "3     high    low  5more    more      big    low  unacc\n",
       "4    vhigh   high      2    more      big   high  unacc\n",
       "..     ...    ...    ...     ...      ...    ...    ...\n",
       "912    low    low  5more    more    small   high   good\n",
       "913    low    low  5more    more      med    med   good\n",
       "914    low    low  5more    more      med   high  vgood\n",
       "915    low    low  5more    more      big    med   good\n",
       "916    low    low  5more    more      big   high  vgood\n",
       "\n",
       "[917 rows x 7 columns]"
      ]
     },
     "execution_count": 61,
     "metadata": {},
     "output_type": "execute_result"
    }
   ],
   "source": [
    "df_car_reduc = pd.concat([df_car_unacc, df_car_sans_unacc], axis=0)\n",
    "df_car_reduc = df_car_reduc.reset_index(drop=True)\n",
    "df_car_reduc"
   ]
  },
  {
   "attachments": {},
   "cell_type": "markdown",
   "metadata": {},
   "source": [
    "### Suppression des classes vgood et good.\n",
    "Il y a trop peu des données dans ces classes pour faire de la data augmentations. Nous décidons de les supprimer."
   ]
  },
  {
   "cell_type": "code",
   "execution_count": 62,
   "metadata": {},
   "outputs": [
    {
     "data": {
      "text/html": [
       "<div>\n",
       "<style scoped>\n",
       "    .dataframe tbody tr th:only-of-type {\n",
       "        vertical-align: middle;\n",
       "    }\n",
       "\n",
       "    .dataframe tbody tr th {\n",
       "        vertical-align: top;\n",
       "    }\n",
       "\n",
       "    .dataframe thead th {\n",
       "        text-align: right;\n",
       "    }\n",
       "</style>\n",
       "<table border=\"1\" class=\"dataframe\">\n",
       "  <thead>\n",
       "    <tr style=\"text-align: right;\">\n",
       "      <th></th>\n",
       "      <th>buying</th>\n",
       "      <th>maint</th>\n",
       "      <th>doors</th>\n",
       "      <th>persons</th>\n",
       "      <th>lug_boot</th>\n",
       "      <th>safety</th>\n",
       "      <th>class</th>\n",
       "    </tr>\n",
       "  </thead>\n",
       "  <tbody>\n",
       "    <tr>\n",
       "      <th>0</th>\n",
       "      <td>med</td>\n",
       "      <td>vhigh</td>\n",
       "      <td>5more</td>\n",
       "      <td>4</td>\n",
       "      <td>big</td>\n",
       "      <td>low</td>\n",
       "      <td>unacc</td>\n",
       "    </tr>\n",
       "    <tr>\n",
       "      <th>1</th>\n",
       "      <td>low</td>\n",
       "      <td>low</td>\n",
       "      <td>3</td>\n",
       "      <td>2</td>\n",
       "      <td>big</td>\n",
       "      <td>high</td>\n",
       "      <td>unacc</td>\n",
       "    </tr>\n",
       "    <tr>\n",
       "      <th>2</th>\n",
       "      <td>low</td>\n",
       "      <td>med</td>\n",
       "      <td>4</td>\n",
       "      <td>4</td>\n",
       "      <td>big</td>\n",
       "      <td>low</td>\n",
       "      <td>unacc</td>\n",
       "    </tr>\n",
       "    <tr>\n",
       "      <th>3</th>\n",
       "      <td>high</td>\n",
       "      <td>low</td>\n",
       "      <td>5more</td>\n",
       "      <td>more</td>\n",
       "      <td>big</td>\n",
       "      <td>low</td>\n",
       "      <td>unacc</td>\n",
       "    </tr>\n",
       "    <tr>\n",
       "      <th>4</th>\n",
       "      <td>vhigh</td>\n",
       "      <td>high</td>\n",
       "      <td>2</td>\n",
       "      <td>more</td>\n",
       "      <td>big</td>\n",
       "      <td>high</td>\n",
       "      <td>unacc</td>\n",
       "    </tr>\n",
       "    <tr>\n",
       "      <th>...</th>\n",
       "      <td>...</td>\n",
       "      <td>...</td>\n",
       "      <td>...</td>\n",
       "      <td>...</td>\n",
       "      <td>...</td>\n",
       "      <td>...</td>\n",
       "      <td>...</td>\n",
       "    </tr>\n",
       "    <tr>\n",
       "      <th>778</th>\n",
       "      <td>low</td>\n",
       "      <td>low</td>\n",
       "      <td>3</td>\n",
       "      <td>more</td>\n",
       "      <td>small</td>\n",
       "      <td>med</td>\n",
       "      <td>acc</td>\n",
       "    </tr>\n",
       "    <tr>\n",
       "      <th>779</th>\n",
       "      <td>low</td>\n",
       "      <td>low</td>\n",
       "      <td>4</td>\n",
       "      <td>4</td>\n",
       "      <td>small</td>\n",
       "      <td>med</td>\n",
       "      <td>acc</td>\n",
       "    </tr>\n",
       "    <tr>\n",
       "      <th>780</th>\n",
       "      <td>low</td>\n",
       "      <td>low</td>\n",
       "      <td>4</td>\n",
       "      <td>more</td>\n",
       "      <td>small</td>\n",
       "      <td>med</td>\n",
       "      <td>acc</td>\n",
       "    </tr>\n",
       "    <tr>\n",
       "      <th>781</th>\n",
       "      <td>low</td>\n",
       "      <td>low</td>\n",
       "      <td>5more</td>\n",
       "      <td>4</td>\n",
       "      <td>small</td>\n",
       "      <td>med</td>\n",
       "      <td>acc</td>\n",
       "    </tr>\n",
       "    <tr>\n",
       "      <th>782</th>\n",
       "      <td>low</td>\n",
       "      <td>low</td>\n",
       "      <td>5more</td>\n",
       "      <td>more</td>\n",
       "      <td>small</td>\n",
       "      <td>med</td>\n",
       "      <td>acc</td>\n",
       "    </tr>\n",
       "  </tbody>\n",
       "</table>\n",
       "<p>783 rows × 7 columns</p>\n",
       "</div>"
      ],
      "text/plain": [
       "    buying  maint  doors persons lug_boot safety  class\n",
       "0      med  vhigh  5more       4      big    low  unacc\n",
       "1      low    low      3       2      big   high  unacc\n",
       "2      low    med      4       4      big    low  unacc\n",
       "3     high    low  5more    more      big    low  unacc\n",
       "4    vhigh   high      2    more      big   high  unacc\n",
       "..     ...    ...    ...     ...      ...    ...    ...\n",
       "778    low    low      3    more    small    med    acc\n",
       "779    low    low      4       4    small    med    acc\n",
       "780    low    low      4    more    small    med    acc\n",
       "781    low    low  5more       4    small    med    acc\n",
       "782    low    low  5more    more    small    med    acc\n",
       "\n",
       "[783 rows x 7 columns]"
      ]
     },
     "execution_count": 62,
     "metadata": {},
     "output_type": "execute_result"
    }
   ],
   "source": [
    "reduc_classes = [\"unacc\", \"acc\"]\n",
    "df_car_reduc = df_car_reduc[df_car_reduc[\"class\"].isin(reduc_classes)]\n",
    "df_car_reduc = df_car_reduc.reset_index(drop=True)\n",
    "df_car_reduc"
   ]
  },
  {
   "attachments": {},
   "cell_type": "markdown",
   "metadata": {},
   "source": [
    "### Nouvelle répartition des classes."
   ]
  },
  {
   "cell_type": "code",
   "execution_count": 63,
   "metadata": {},
   "outputs": [
    {
     "data": {
      "image/png": "[encoded data removed]",
      "text/plain": [
       "<Figure size 432x288 with 1 Axes>"
      ]
     },
     "metadata": {
      "needs_background": "light"
     },
     "output_type": "display_data"
    }
   ],
   "source": [
    "sns.countplot(x = \"class\", data = df_car_reduc)\n",
    "plt.show()"
   ]
  },
  {
   "attachments": {},
   "cell_type": "markdown",
   "metadata": {},
   "source": [
    "## Data cleaning.\n",
    "### Valeurs manquantes."
   ]
  },
  {
   "cell_type": "code",
   "execution_count": 64,
   "metadata": {},
   "outputs": [
    {
     "data": {
      "text/plain": [
       "buying      0\n",
       "maint       0\n",
       "doors       0\n",
       "persons     0\n",
       "lug_boot    0\n",
       "safety      0\n",
       "class       0\n",
       "dtype: int64"
      ]
     },
     "execution_count": 64,
     "metadata": {},
     "output_type": "execute_result"
    }
   ],
   "source": [
    "df_car_reduc.isnull().sum()"
   ]
  },
  {
   "attachments": {},
   "cell_type": "markdown",
   "metadata": {},
   "source": [
    "Aucune valeur manquantes."
   ]
  },
  {
   "attachments": {},
   "cell_type": "markdown",
   "metadata": {},
   "source": [
    "## Découpage du dataset en trainset et testset."
   ]
  },
  {
   "cell_type": "code",
   "execution_count": 65,
   "metadata": {},
   "outputs": [
    {
     "data": {
      "text/plain": [
       "(    buying  maint  doors persons lug_boot safety\n",
       " 0      med  vhigh  5more       4      big    low\n",
       " 1      low    low      3       2      big   high\n",
       " 2      low    med      4       4      big    low\n",
       " 3     high    low  5more    more      big    low\n",
       " 4    vhigh   high      2    more      big   high\n",
       " ..     ...    ...    ...     ...      ...    ...\n",
       " 778    low    low      3    more    small    med\n",
       " 779    low    low      4       4    small    med\n",
       " 780    low    low      4    more    small    med\n",
       " 781    low    low  5more       4    small    med\n",
       " 782    low    low  5more    more    small    med\n",
       " \n",
       " [783 rows x 6 columns],\n",
       " 0      unacc\n",
       " 1      unacc\n",
       " 2      unacc\n",
       " 3      unacc\n",
       " 4      unacc\n",
       "        ...  \n",
       " 778      acc\n",
       " 779      acc\n",
       " 780      acc\n",
       " 781      acc\n",
       " 782      acc\n",
       " Name: class, Length: 783, dtype: object)"
      ]
     },
     "execution_count": 65,
     "metadata": {},
     "output_type": "execute_result"
    }
   ],
   "source": [
    "X = df_car_reduc.drop(\"class\", axis=1)\n",
    "y = df_car_reduc[\"class\"]\n",
    "X, y"
   ]
  },
  {
   "cell_type": "code",
   "execution_count": 66,
   "metadata": {},
   "outputs": [
    {
     "data": {
      "text/plain": [
       "('train', (626, 6), (626,), 'test', (157, 6), (157,))"
      ]
     },
     "execution_count": 66,
     "metadata": {},
     "output_type": "execute_result"
    }
   ],
   "source": [
    "X_train, X_test, y_train, y_test = train_test_split(X, y, stratify=y, random_state=0, test_size=0.2)\n",
    "\"train\", X_train.shape, y_train.shape, \"test\", X_test.shape, y_test.shape"
   ]
  },
  {
   "attachments": {},
   "cell_type": "markdown",
   "metadata": {},
   "source": [
    "## *Data transformation*."
   ]
  },
  {
   "attachments": {},
   "cell_type": "markdown",
   "metadata": {},
   "source": [
    "### Encodage des attributs."
   ]
  },
  {
   "cell_type": "code",
   "execution_count": 68,
   "metadata": {},
   "outputs": [
    {
     "data": {
      "text/plain": [
       "array([[1, 3, 2, 2, 2, 0],\n",
       "       [2, 3, 3, 1, 0, 2],\n",
       "       [2, 0, 1, 2, 2, 2],\n",
       "       ...,\n",
       "       [2, 2, 2, 2, 1, 2],\n",
       "       [0, 2, 1, 2, 1, 2],\n",
       "       [0, 2, 2, 2, 0, 2]])"
      ]
     },
     "execution_count": 68,
     "metadata": {},
     "output_type": "execute_result"
    }
   ],
   "source": [
    "encoder_x = OrdinalEncoder(dtype=np.int32)\n",
    "X_train_encode = encoder_x.fit_transform(X_train)\n",
    "X_test_encode = encoder_x.fit_transform(X_test)\n",
    "X_train_encode"
   ]
  },
  {
   "attachments": {},
   "cell_type": "markdown",
   "metadata": {},
   "source": [
    "### Encodage de la classe."
   ]
  },
  {
   "cell_type": "code",
   "execution_count": 69,
   "metadata": {},
   "outputs": [
    {
     "data": {
      "text/plain": [
       "(array([0, 0, 1, 0, 0, 1, 1, 0, 1, 1, 1, 0, 0, 1, 1, 0, 0, 1, 0, 1, 0, 1,\n",
       "        1, 0, 0, 1, 0, 0, 0, 0, 0, 0, 1, 1, 0, 1, 0, 0, 1, 1, 0, 1, 0, 0,\n",
       "        1, 0, 1, 1, 0, 0, 1, 0, 1, 1, 1, 0, 1, 0, 0, 1, 1, 1, 1, 1, 1, 0,\n",
       "        0, 1, 0, 0, 1, 0, 0, 0, 0, 1, 0, 0, 0, 0, 0, 1, 1, 0, 0, 0, 1, 1,\n",
       "        0, 1, 0, 0, 1, 0, 0, 0, 0, 0, 0, 1, 1, 0, 1, 1, 0, 1, 0, 0, 1, 0,\n",
       "        1, 1, 0, 1, 0, 0, 1, 0, 1, 0, 1, 1, 0, 0, 0, 0, 1, 0, 0, 0, 1, 0,\n",
       "        0, 0, 1, 0, 1, 1, 0, 1, 0, 0, 0, 1, 1, 0, 0, 0, 1, 0, 0, 1, 0, 1,\n",
       "        1, 1, 1, 1, 1, 0, 0, 0, 0, 1, 0, 0, 1, 0, 0, 0, 1, 0, 1, 1, 0, 1,\n",
       "        0, 1, 0, 1, 1, 1, 0, 1, 0, 1, 1, 0, 1, 1, 0, 1, 1, 0, 0, 0, 1, 1,\n",
       "        1, 0, 0, 1, 1, 0, 1, 0, 0, 0, 0, 0, 0, 0, 1, 1, 0, 0, 0, 1, 0, 1,\n",
       "        0, 0, 1, 0, 1, 1, 0, 1, 0, 1, 0, 1, 1, 1, 0, 0, 1, 1, 0, 0, 0, 1,\n",
       "        0, 1, 0, 1, 1, 0, 1, 1, 1, 1, 0, 1, 0, 0, 0, 0, 0, 1, 0, 1, 1, 1,\n",
       "        1, 1, 1, 0, 1, 1, 1, 1, 1, 1, 1, 1, 1, 1, 1, 0, 0, 1, 0, 1, 1, 1,\n",
       "        1, 1, 0, 1, 1, 1, 1, 0, 1, 1, 1, 0, 0, 1, 1, 0, 1, 0, 1, 0, 1, 0,\n",
       "        0, 0, 1, 1, 1, 1, 0, 0, 0, 0, 0, 0, 0, 0, 0, 0, 1, 1, 0, 1, 0, 1,\n",
       "        1, 1, 0, 0, 0, 0, 0, 1, 1, 0, 1, 0, 1, 1, 1, 1, 0, 1, 0, 1, 1, 1,\n",
       "        1, 0, 1, 1, 1, 0, 0, 1, 0, 1, 0, 0, 0, 1, 1, 1, 1, 0, 0, 0, 0, 1,\n",
       "        0, 1, 1, 1, 1, 1, 0, 1, 0, 1, 0, 1, 1, 0, 1, 1, 1, 0, 1, 1, 1, 1,\n",
       "        1, 1, 1, 1, 0, 0, 0, 0, 1, 1, 1, 1, 0, 1, 1, 0, 0, 1, 0, 0, 0, 0,\n",
       "        1, 0, 1, 1, 1, 0, 0, 1, 0, 0, 0, 0, 1, 1, 0, 1, 0, 1, 0, 1, 0, 1,\n",
       "        1, 1, 0, 1, 0, 1, 1, 1, 0, 1, 0, 0, 1, 1, 1, 1, 1, 0, 1, 1, 0, 0,\n",
       "        1, 0, 1, 1, 0, 0, 1, 0, 0, 1, 1, 0, 0, 0, 1, 1, 0, 0, 1, 1, 1, 0,\n",
       "        1, 1, 0, 0, 0, 1, 0, 1, 0, 1, 1, 1, 1, 1, 0, 1, 0, 0, 0, 1, 0, 0,\n",
       "        1, 1, 0, 0, 1, 1, 1, 0, 0, 0, 1, 1, 0, 0, 1, 1, 0, 0, 0, 1, 1, 1,\n",
       "        1, 1, 0, 0, 0, 0, 1, 1, 1, 1, 0, 0, 0, 1, 1, 1, 1, 0, 1, 1, 1, 1,\n",
       "        0, 1, 0, 0, 1, 0, 0, 0, 1, 0, 0, 1, 1, 1, 0, 0, 0, 0, 1, 0, 1, 0,\n",
       "        1, 0, 1, 0, 0, 1, 0, 0, 1, 0, 1, 0, 0, 0, 0, 1, 0, 1, 0, 1, 0, 0,\n",
       "        1, 1, 1, 0, 1, 0, 1, 0, 1, 1, 0, 1, 0, 0, 0, 1, 1, 0, 1, 1, 0, 1,\n",
       "        1, 0, 1, 1, 0, 1, 1, 0, 0, 0]),\n",
       " array([0, 1, 1, 0, 0, 1, 0, 0, 0, 0, 0, 0, 0, 1, 0, 1, 0, 1, 0, 1, 1, 1,\n",
       "        0, 0, 1, 1, 0, 0, 0, 0, 1, 0, 0, 0, 1, 0, 1, 0, 1, 0, 0, 0, 1, 1,\n",
       "        1, 1, 0, 1, 1, 1, 0, 0, 0, 1, 1, 1, 1, 0, 0, 0, 0, 0, 1, 1, 1, 0,\n",
       "        1, 1, 1, 1, 0, 1, 1, 0, 0, 0, 0, 0, 0, 1, 1, 1, 1, 1, 1, 0, 0, 0,\n",
       "        0, 1, 1, 0, 1, 1, 1, 0, 0, 0, 0, 1, 0, 1, 1, 0, 0, 1, 0, 0, 1, 1,\n",
       "        0, 0, 1, 1, 0, 1, 1, 1, 0, 0, 1, 1, 0, 1, 1, 1, 0, 1, 0, 0, 1, 1,\n",
       "        0, 1, 1, 1, 1, 0, 0, 0, 1, 0, 0, 1, 1, 1, 1, 0, 1, 1, 1, 0, 0, 0,\n",
       "        1, 1, 1]))"
      ]
     },
     "execution_count": 69,
     "metadata": {},
     "output_type": "execute_result"
    }
   ],
   "source": [
    "encoder_y = LabelEncoder()\n",
    "y_train_encode = encoder_y.fit_transform(y_train)\n",
    "y_test_encode = encoder_y.fit_transform(y_test)\n",
    "y_train_encode, y_test_encode"
   ]
  },
  {
   "attachments": {},
   "cell_type": "markdown",
   "metadata": {},
   "source": [
    "## Classification."
   ]
  },
  {
   "attachments": {},
   "cell_type": "markdown",
   "metadata": {},
   "source": [
    "### Via *Reduct*."
   ]
  },
  {
   "cell_type": "code",
   "execution_count": null,
   "metadata": {},
   "outputs": [],
   "source": [
    "reduc = reduct(df_car_reduc, \"class\")\n",
    "if len(reduc) == 0:\n",
    "\tfeatures_selected = diff_list(features, reduc)\n",
    "else:\n",
    "\tfeatures_selected = reduc\n",
    "features_selected"
   ]
  },
  {
   "attachments": {},
   "cell_type": "markdown",
   "metadata": {},
   "source": [
    "### Via *QuickReduct*."
   ]
  },
  {
   "cell_type": "code",
   "execution_count": null,
   "metadata": {},
   "outputs": [],
   "source": [
    "features_selected2 = quickReduct(df_car_reduc, \"class\")\n",
    "features_selected2"
   ]
  },
  {
   "attachments": {},
   "cell_type": "markdown",
   "metadata": {},
   "source": [
    "#### *Validation curve*."
   ]
  },
  {
   "cell_type": "code",
   "execution_count": null,
   "metadata": {},
   "outputs": [],
   "source": [
    "model = KNeighborsClassifier()\n",
    "k = np.arange(1, 50)\n",
    "train_score, val_score = validation_curve(model, X_train_encode, y_train_encode, param_name=\"n_neighbors\", param_range=k, cv=10, scoring=\"roc_auc\")\n",
    "plt.plot(k, val_score.mean(axis=1), label = 'validation')\n",
    "plt.plot(k, train_score.mean(axis=1), label = 'train')\n",
    "plt.xlabel('score')\n",
    "plt.ylabel('n_neighbors') # best k = 5\n",
    "plt.legend()\n",
    "plt.show()"
   ]
  },
  {
   "attachments": {},
   "cell_type": "markdown",
   "metadata": {},
   "source": [
    "### Via *VarianceThreshold*."
   ]
  },
  {
   "attachments": {},
   "cell_type": "markdown",
   "metadata": {},
   "source": [
    "Variance des attributs."
   ]
  },
  {
   "cell_type": "code",
   "execution_count": 85,
   "metadata": {},
   "outputs": [
    {
     "data": {
      "text/plain": [
       "array([1.29988313, 1.26247078, 1.20198481, 0.59541283, 0.65458461,\n",
       "       0.75709663])"
      ]
     },
     "execution_count": 85,
     "metadata": {},
     "output_type": "execute_result"
    }
   ],
   "source": [
    "X_train_encode.var(axis=0)"
   ]
  },
  {
   "attachments": {},
   "cell_type": "markdown",
   "metadata": {},
   "source": [
    "Selection des attributs."
   ]
  },
  {
   "cell_type": "code",
   "execution_count": 86,
   "metadata": {},
   "outputs": [
    {
     "data": {
      "text/plain": [
       "['buying', 'maint', 'doors']"
      ]
     },
     "execution_count": 86,
     "metadata": {},
     "output_type": "execute_result"
    }
   ],
   "source": [
    "selector = VarianceThreshold(threshold=1)\n",
    "selector.fit_transform(X_train_encode)\n",
    "features_selected3 = list(np.array(features)[selector.get_support()])\n",
    "features_selected3"
   ]
  },
  {
   "cell_type": "code",
   "execution_count": 87,
   "metadata": {},
   "outputs": [
    {
     "data": {
      "text/plain": [
       "((626, 3), (157, 3))"
      ]
     },
     "execution_count": 87,
     "metadata": {},
     "output_type": "execute_result"
    }
   ],
   "source": [
    "X_train_encode_select = np.array([list(x[:3]) for x in X_train_encode])\n",
    "X_test_encode_select = np.array([list(x[:3]) for x in X_test_encode])\n",
    "X_train_encode_select.shape, X_test_encode_select.shape"
   ]
  },
  {
   "cell_type": "code",
   "execution_count": 88,
   "metadata": {},
   "outputs": [
    {
     "data": {
      "image/png": "[encoded data removed]",
      "text/plain": [
       "<Figure size 432x288 with 1 Axes>"
      ]
     },
     "metadata": {
      "needs_background": "light"
     },
     "output_type": "display_data"
    }
   ],
   "source": [
    "model = KNeighborsClassifier()\n",
    "k = np.arange(1, 50)\n",
    "train_score, val_score = validation_curve(model, X_train_encode_select, y_train_encode, param_name=\"n_neighbors\", param_range=k, cv=10, scoring=\"roc_auc\")\n",
    "plt.plot(k, val_score.mean(axis=1), label = 'validation')\n",
    "plt.plot(k, train_score.mean(axis=1), label = 'train')\n",
    "plt.xlabel('score')\n",
    "plt.ylabel('n_neighbors') # best k = 10\n",
    "plt.legend()\n",
    "plt.show()"
   ]
  },
  {
   "attachments": {},
   "cell_type": "markdown",
   "metadata": {},
   "source": [
    "### Via *Fuzzy Rough Set*."
   ]
  },
  {
   "cell_type": "code",
   "execution_count": 104,
   "metadata": {},
   "outputs": [
    {
     "name": "stdout",
     "output_type": "stream",
     "text": [
      "AUROC: 0.9625\n",
      "accuracy: 0.9235668789808917\n"
     ]
    }
   ],
   "source": [
    "# Create an instance of the FRNN classifier, construct the model, and query on the test set.\n",
    "clf = FRNN(preprocessors=(RangeNormaliser(), ))\n",
    "model = clf(X_train_encode, y_train_encode)\n",
    "scores = model(X_test_encode)\n",
    "\n",
    "# Convert scores to probabilities and calculate the AUROC.\n",
    "probabilities = probabilities_from_scores(scores)\n",
    "true_proba = probabilities[:,1]\n",
    "auroc = roc_auc_score(y_test_encode, true_proba, multi_class='ovo')\n",
    "print('AUROC:', auroc)\n",
    "\t\n",
    "# Select classes with the highest scores and calculate the accuracy.\n",
    "classes = select_class(scores)\n",
    "accuracy = accuracy_score(y_test_encode, classes)\n",
    "print('accuracy:', accuracy)"
   ]
  },
  {
   "cell_type": "code",
   "execution_count": 187,
   "metadata": {},
   "outputs": [
    {
     "name": "stdout",
     "output_type": "stream",
     "text": [
      "indexes [0, 1, 4]\n",
      "support [True, True, False, False, True, False]\n",
      "features_selected4 ['buying', 'maint', 'lug_boot']\n",
      "AUROC: 0.6875\n",
      "accuracy: 0.6815286624203821\n"
     ]
    }
   ],
   "source": [
    "# Create an instance of the FRFS preprocessor and process the data.\n",
    "preprocessor = FRFS(n_features=3)\n",
    "model = preprocessor(X_train_encode, y_train_encode)\n",
    "X_train_encode_select = model(X_train_encode)\n",
    "\n",
    "# print(\"X_train_encode_select.transpose()\\n\", X_train_encode_select.transpose())\n",
    "# print(\"X_train_encode.transpose()\\n\", X_train_encode.transpose())\n",
    "\n",
    "# obtenir indice feature\n",
    "indexes = []\n",
    "for index, x in enumerate(X_train_encode.transpose()):\n",
    "\tfor x_select in X_train_encode_select.transpose():\n",
    "\t\tcomparaison = x == x_select\n",
    "\t\t(comparaison.all() and index not in indexes) and indexes.append(index)\n",
    "print(\"indexes\", indexes)\n",
    "\n",
    "# obtenir nom attributs\n",
    "support = [index in indexes for index, _ in enumerate(features)]\n",
    "print(\"support\", support)\n",
    "features_selected4 = list(np.array(features)[support])\n",
    "print(\"features_selected4\", features_selected4)\n",
    "\n",
    "# diminution du testset\n",
    "X_test_encode_select = np.asarray([x for index, x in enumerate(X_test_encode.transpose()) if index in indexes])\n",
    "X_test_encode_select = X_test_encode_select.transpose()\n",
    "# print(X_test_encode_select)\n",
    "# print(X_test_encode_select.shape)\n",
    "\n",
    "# Create an instance of the FRNN classifier, construct the model, and query on the test set.\n",
    "clf = FRNN(upper_weights=None, lower_weights=None, upper_k=1, lower_k=1)\n",
    "model = clf(X_train_encode_select, y_train_encode)\n",
    "scores = model(X_test_encode_select)\n",
    "\n",
    "# Convert scores to probabilities and calculate the AUROC.\n",
    "probabilities = probabilities_from_scores(scores)\n",
    "true_proba = probabilities[:,1]\n",
    "auroc = roc_auc_score(y_test_encode, true_proba, multi_class='ovo')\n",
    "print('AUROC:', auroc)\n",
    "\t\n",
    "# Select classes with the highest scores and calculate the accuracy.\n",
    "classes = select_class(scores)\n",
    "accuracy = accuracy_score(y_test_encode, classes)\n",
    "print('accuracy:', accuracy)"
   ]
  },
  {
   "cell_type": "code",
   "execution_count": 188,
   "metadata": {},
   "outputs": [
    {
     "data": {
      "image/png": "[encoded data removed]",
      "text/plain": [
       "<Figure size 720x576 with 2 Axes>"
      ]
     },
     "metadata": {
      "needs_background": "light"
     },
     "output_type": "display_data"
    }
   ],
   "source": [
    "cf_train_matrix = confusion_matrix(y_test_encode, classes)\n",
    "plt.figure(figsize=(10,8))\n",
    "sns.heatmap(cf_train_matrix, annot=True, fmt='d')\n",
    "plt.show()"
   ]
  },
  {
   "cell_type": "code",
   "execution_count": 189,
   "metadata": {},
   "outputs": [
    {
     "name": "stdout",
     "output_type": "stream",
     "text": [
      "              precision    recall  f1-score   support\n",
      "\n",
      "           0       0.61      1.00      0.75        77\n",
      "           1       1.00      0.38      0.55        80\n",
      "\n",
      "    accuracy                           0.68       157\n",
      "   macro avg       0.80      0.69      0.65       157\n",
      "weighted avg       0.81      0.68      0.65       157\n",
      "\n"
     ]
    }
   ],
   "source": [
    "print(classification_report(y_test_encode, classes))"
   ]
  },
  {
   "cell_type": "code",
   "execution_count": 190,
   "metadata": {},
   "outputs": [
    {
     "data": {
      "image/png": "[encoded data removed]",
      "text/plain": [
       "<Figure size 432x288 with 1 Axes>"
      ]
     },
     "metadata": {
      "needs_background": "light"
     },
     "output_type": "display_data"
    }
   ],
   "source": [
    "plot_roc_curve(y_test_encode, true_proba, auroc)"
   ]
  }
 ],
 "metadata": {
  "kernelspec": {
   "display_name": "Python 3.9.12 ('base')",
   "language": "python",
   "name": "python3"
  },
  "language_info": {
   "codemirror_mode": {
    "name": "ipython",
    "version": 3
   },
   "file_extension": ".py",
   "mimetype": "text/x-python",
   "name": "python",
   "nbconvert_exporter": "python",
   "pygments_lexer": "ipython3",
   "version": "3.9.12"
  },
  "orig_nbformat": 4,
  "vscode": {
   "interpreter": {
    "hash": "bef2fa2dc83e4ccd7ad2aec876ba177966ddc8076da8c7972b1992baac764220"
   }
  }
 },
 "nbformat": 4,
 "nbformat_minor": 2
}
