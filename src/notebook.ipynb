{
 "cells": [
  {
   "attachments": {},
   "cell_type": "markdown",
   "metadata": {},
   "source": [
    "# Projet de conception et de programmation."
   ]
  },
  {
   "attachments": {},
   "cell_type": "markdown",
   "metadata": {},
   "source": [
    "Ceci est le notebook regroupant les différentes implémentations dans le cadre du projet de conception et de programmation intitulé : Investigating feature selection techniques to improve data mining tasks.\n",
    "\n",
    "Il est constitué de cinq parties : \n",
    "1. Une introduction au data mining.\n",
    "1. Le premier chapitre sur l'explication d'une thoerie issue du data mining.\n",
    "1. Le deuxième chapitre sur les algorithmes de cette thoerie\n",
    "1. Le troisème chapitre d'application des algorithmes sur des dataset.\n",
    "1. Une conclusion.\n",
    "Et une bibliographie."
   ]
  },
  {
   "attachments": {},
   "cell_type": "markdown",
   "metadata": {},
   "source": [
    "# Importations."
   ]
  },
  {
   "cell_type": "code",
   "execution_count": 1,
   "metadata": {},
   "outputs": [],
   "source": [
    "from __future__ import unicode_literals # lettre grec\n",
    "\n",
    "import pandas as pd # DataFrame, ...\n",
    "import numpy as np # array, ...\n",
    "from fractions import Fraction\n",
    "\n",
    "#\n",
    "from itertools import combinations\n",
    "from functools import reduce"
   ]
  },
  {
   "attachments": {},
   "cell_type": "markdown",
   "metadata": {},
   "source": [
    "# Fonctions."
   ]
  },
  {
   "attachments": {},
   "cell_type": "markdown",
   "metadata": {},
   "source": [
    "## Fonction différence entre deux listes."
   ]
  },
  {
   "cell_type": "code",
   "execution_count": 2,
   "metadata": {},
   "outputs": [],
   "source": [
    "def diff_list(list1, list2):\n",
    "\t\"\"\"\n",
    "\tRenvoie la différence entre deux listes.\n",
    "\n",
    "\t@param list1 une première liste.\n",
    "\t@param list2 une deuxième liste.\n",
    "\n",
    "\t@return les éléments présents dans list1 mais pas dans list2.\n",
    "\t\"\"\"\n",
    "\t# liste1 = list1.copy() if len(list1) > len(list2) else list2.copy()\n",
    "\t# liste2 = list1.copy() if liste1 == list2 else list2.copy()\n",
    "\n",
    "\tset_list2 = set(list2)\n",
    "\tdiff = [x for x in list1 if x not in set_list2]\n",
    "\treturn diff"
   ]
  },
  {
   "attachments": {},
   "cell_type": "markdown",
   "metadata": {},
   "source": [
    "### Test."
   ]
  },
  {
   "cell_type": "code",
   "execution_count": 3,
   "metadata": {},
   "outputs": [
    {
     "data": {
      "text/plain": [
       "[3, 5]"
      ]
     },
     "execution_count": 3,
     "metadata": {},
     "output_type": "execute_result"
    }
   ],
   "source": [
    "list1 = [1, 2, 3, 4, 5]\n",
    "list2 = [1, 2, 4]\n",
    "diff_list(list1, list2)"
   ]
  },
  {
   "attachments": {},
   "cell_type": "markdown",
   "metadata": {},
   "source": [
    "Les éléments 3 et 5 sont présent dans la list1 mais pas dans la list2."
   ]
  },
  {
   "cell_type": "code",
   "execution_count": 4,
   "metadata": {},
   "outputs": [
    {
     "data": {
      "text/plain": [
       "[]"
      ]
     },
     "execution_count": 4,
     "metadata": {},
     "output_type": "execute_result"
    }
   ],
   "source": [
    "list1 = [1, 2, 4]\n",
    "list2 = [1, 2, 3, 4, 5]\n",
    "diff_list(list1, list2)"
   ]
  },
  {
   "attachments": {},
   "cell_type": "markdown",
   "metadata": {},
   "source": [
    "Tous les éléments dans la list1 sont présent dans la list2. La fonction renvoie une liste vide."
   ]
  },
  {
   "attachments": {},
   "cell_type": "markdown",
   "metadata": {},
   "source": [
    "## Fonction combinaison des attributs dans un système de décision."
   ]
  },
  {
   "cell_type": "code",
   "execution_count": 5,
   "metadata": {},
   "outputs": [],
   "source": [
    "def combinaisons(DS, d):\n",
    "\t\"\"\"\n",
    "\tRenvoie la liste des combinaisons des attributs du dataframe en \n",
    "\tparamètre.\n",
    "\n",
    "\t@param DS Le système de décision.\n",
    "\t@param d La colonne de décision.\n",
    "\n",
    "\t@return list_combinaisons La liste des combinaisons des attributs.\n",
    "\t\"\"\"\n",
    "\tlist_combinaisons = list()\n",
    "\tC = list(DS.columns)\n",
    "\tC.remove(d)\n",
    "\tfor n in range(len(C) + 1):\n",
    "\t\tlist_combinaisons += list(combinations(C, n))\n",
    "\tlist_combinaisons.remove(())\n",
    "\treturn list_combinaisons"
   ]
  },
  {
   "attachments": {},
   "cell_type": "markdown",
   "metadata": {},
   "source": [
    "### Test."
   ]
  },
  {
   "cell_type": "code",
   "execution_count": 6,
   "metadata": {},
   "outputs": [
    {
     "data": {
      "text/plain": [
       "Index(['Headache', 'Muscle-pain', 'Temperature'], dtype='object')"
      ]
     },
     "execution_count": 6,
     "metadata": {},
     "output_type": "execute_result"
    }
   ],
   "source": [
    "# création d'un dataframe\n",
    "data = {\n",
    "\t\"Patients\" : [\"o1\", \"o2\", \"o3\", \"o4\", \"o5\", \"o6\"],\n",
    "\t\"Headache\" : [\"Yes\", \"Yes\", \"Yes\", \"No\", \"No\", \"No\"],\n",
    "\t\"Muscle-pain\" : [\"Yes\", \"No\", \"No\", \"Yes\", \"Yes\", \"Yes\"],\n",
    "\t\"Temperature\" : [\"very high\", \"high\", \"high\", \"normal\", \"high\", \"very high\"],\n",
    "\t\"Flu\" : [\"Yes\", \"Yes\", \"No\", \"No\", \"Yes\", \"Yes\"]\n",
    "}\n",
    "df = pd.DataFrame(data)\n",
    "\n",
    "# initialisation de l'index\n",
    "df.set_index(\"Patients\", inplace=True)\n",
    "\n",
    "# affichage des attributs\n",
    "df.columns[:-1]"
   ]
  },
  {
   "attachments": {},
   "cell_type": "markdown",
   "metadata": {},
   "source": [
    "La liste des combinaisons avec les attributs ci-dessus."
   ]
  },
  {
   "cell_type": "code",
   "execution_count": 7,
   "metadata": {},
   "outputs": [
    {
     "data": {
      "text/plain": [
       "[('Headache',),\n",
       " ('Muscle-pain',),\n",
       " ('Temperature',),\n",
       " ('Headache', 'Muscle-pain'),\n",
       " ('Headache', 'Temperature'),\n",
       " ('Muscle-pain', 'Temperature'),\n",
       " ('Headache', 'Muscle-pain', 'Temperature')]"
      ]
     },
     "execution_count": 7,
     "metadata": {},
     "output_type": "execute_result"
    }
   ],
   "source": [
    "combinaisons(df, \"Flu\")"
   ]
  },
  {
   "attachments": {},
   "cell_type": "markdown",
   "metadata": {},
   "source": [
    "# Chapitre 3: Implémentation et tests."
   ]
  },
  {
   "attachments": {},
   "cell_type": "markdown",
   "metadata": {},
   "source": [
    "## Jeu de test."
   ]
  },
  {
   "cell_type": "code",
   "execution_count": 8,
   "metadata": {},
   "outputs": [
    {
     "data": {
      "text/html": [
       "<div>\n",
       "<style scoped>\n",
       "    .dataframe tbody tr th:only-of-type {\n",
       "        vertical-align: middle;\n",
       "    }\n",
       "\n",
       "    .dataframe tbody tr th {\n",
       "        vertical-align: top;\n",
       "    }\n",
       "\n",
       "    .dataframe thead th {\n",
       "        text-align: right;\n",
       "    }\n",
       "</style>\n",
       "<table border=\"1\" class=\"dataframe\">\n",
       "  <thead>\n",
       "    <tr style=\"text-align: right;\">\n",
       "      <th></th>\n",
       "      <th>Headache</th>\n",
       "      <th>Muscle-pain</th>\n",
       "      <th>Temperature</th>\n",
       "      <th>Flu</th>\n",
       "    </tr>\n",
       "    <tr>\n",
       "      <th>Patients</th>\n",
       "      <th></th>\n",
       "      <th></th>\n",
       "      <th></th>\n",
       "      <th></th>\n",
       "    </tr>\n",
       "  </thead>\n",
       "  <tbody>\n",
       "    <tr>\n",
       "      <th>o1</th>\n",
       "      <td>Yes</td>\n",
       "      <td>Yes</td>\n",
       "      <td>very high</td>\n",
       "      <td>Yes</td>\n",
       "    </tr>\n",
       "    <tr>\n",
       "      <th>o2</th>\n",
       "      <td>Yes</td>\n",
       "      <td>No</td>\n",
       "      <td>high</td>\n",
       "      <td>Yes</td>\n",
       "    </tr>\n",
       "    <tr>\n",
       "      <th>o3</th>\n",
       "      <td>Yes</td>\n",
       "      <td>No</td>\n",
       "      <td>high</td>\n",
       "      <td>No</td>\n",
       "    </tr>\n",
       "    <tr>\n",
       "      <th>o4</th>\n",
       "      <td>No</td>\n",
       "      <td>Yes</td>\n",
       "      <td>normal</td>\n",
       "      <td>No</td>\n",
       "    </tr>\n",
       "    <tr>\n",
       "      <th>o5</th>\n",
       "      <td>No</td>\n",
       "      <td>Yes</td>\n",
       "      <td>high</td>\n",
       "      <td>Yes</td>\n",
       "    </tr>\n",
       "    <tr>\n",
       "      <th>o6</th>\n",
       "      <td>No</td>\n",
       "      <td>Yes</td>\n",
       "      <td>very high</td>\n",
       "      <td>Yes</td>\n",
       "    </tr>\n",
       "  </tbody>\n",
       "</table>\n",
       "</div>"
      ],
      "text/plain": [
       "         Headache Muscle-pain Temperature  Flu\n",
       "Patients                                      \n",
       "o1            Yes         Yes   very high  Yes\n",
       "o2            Yes          No        high  Yes\n",
       "o3            Yes          No        high   No\n",
       "o4             No         Yes      normal   No\n",
       "o5             No         Yes        high  Yes\n",
       "o6             No         Yes   very high  Yes"
      ]
     },
     "execution_count": 8,
     "metadata": {},
     "output_type": "execute_result"
    }
   ],
   "source": [
    "data = {\n",
    "\t\"Patients\" : [\"o1\", \"o2\", \"o3\", \"o4\", \"o5\", \"o6\"],\n",
    "\t\"Headache\" : [\"Yes\", \"Yes\", \"Yes\", \"No\", \"No\", \"No\"],\n",
    "\t\"Muscle-pain\" : [\"Yes\", \"No\", \"No\", \"Yes\", \"Yes\", \"Yes\"],\n",
    "\t\"Temperature\" : [\"very high\", \"high\", \"high\", \"normal\", \"high\", \"very high\"],\n",
    "\t\"Flu\" : [\"Yes\", \"Yes\", \"No\", \"No\", \"Yes\", \"Yes\"]\n",
    "}\n",
    "\n",
    "df = pd.DataFrame(data)\n",
    "df.set_index(\"Patients\", inplace=True)\n",
    "df"
   ]
  },
  {
   "cell_type": "code",
   "execution_count": 9,
   "metadata": {},
   "outputs": [
    {
     "data": {
      "text/html": [
       "<div>\n",
       "<style scoped>\n",
       "    .dataframe tbody tr th:only-of-type {\n",
       "        vertical-align: middle;\n",
       "    }\n",
       "\n",
       "    .dataframe tbody tr th {\n",
       "        vertical-align: top;\n",
       "    }\n",
       "\n",
       "    .dataframe thead th {\n",
       "        text-align: right;\n",
       "    }\n",
       "</style>\n",
       "<table border=\"1\" class=\"dataframe\">\n",
       "  <thead>\n",
       "    <tr style=\"text-align: right;\">\n",
       "      <th></th>\n",
       "      <th>a</th>\n",
       "      <th>b</th>\n",
       "      <th>c</th>\n",
       "      <th>d</th>\n",
       "      <th>e</th>\n",
       "    </tr>\n",
       "    <tr>\n",
       "      <th>x</th>\n",
       "      <th></th>\n",
       "      <th></th>\n",
       "      <th></th>\n",
       "      <th></th>\n",
       "      <th></th>\n",
       "    </tr>\n",
       "  </thead>\n",
       "  <tbody>\n",
       "    <tr>\n",
       "      <th>x1</th>\n",
       "      <td>1</td>\n",
       "      <td>0</td>\n",
       "      <td>2</td>\n",
       "      <td>2</td>\n",
       "      <td>0</td>\n",
       "    </tr>\n",
       "    <tr>\n",
       "      <th>x2</th>\n",
       "      <td>0</td>\n",
       "      <td>1</td>\n",
       "      <td>1</td>\n",
       "      <td>1</td>\n",
       "      <td>2</td>\n",
       "    </tr>\n",
       "    <tr>\n",
       "      <th>x3</th>\n",
       "      <td>2</td>\n",
       "      <td>2</td>\n",
       "      <td>0</td>\n",
       "      <td>1</td>\n",
       "      <td>1</td>\n",
       "    </tr>\n",
       "    <tr>\n",
       "      <th>x4</th>\n",
       "      <td>1</td>\n",
       "      <td>1</td>\n",
       "      <td>0</td>\n",
       "      <td>2</td>\n",
       "      <td>2</td>\n",
       "    </tr>\n",
       "    <tr>\n",
       "      <th>x5</th>\n",
       "      <td>1</td>\n",
       "      <td>0</td>\n",
       "      <td>2</td>\n",
       "      <td>0</td>\n",
       "      <td>1</td>\n",
       "    </tr>\n",
       "    <tr>\n",
       "      <th>x6</th>\n",
       "      <td>2</td>\n",
       "      <td>2</td>\n",
       "      <td>0</td>\n",
       "      <td>1</td>\n",
       "      <td>1</td>\n",
       "    </tr>\n",
       "    <tr>\n",
       "      <th>x7</th>\n",
       "      <td>2</td>\n",
       "      <td>1</td>\n",
       "      <td>1</td>\n",
       "      <td>1</td>\n",
       "      <td>2</td>\n",
       "    </tr>\n",
       "    <tr>\n",
       "      <th>x8</th>\n",
       "      <td>0</td>\n",
       "      <td>1</td>\n",
       "      <td>1</td>\n",
       "      <td>1</td>\n",
       "      <td>1</td>\n",
       "    </tr>\n",
       "  </tbody>\n",
       "</table>\n",
       "</div>"
      ],
      "text/plain": [
       "    a  b  c  d  e\n",
       "x                \n",
       "x1  1  0  2  2  0\n",
       "x2  0  1  1  1  2\n",
       "x3  2  2  0  1  1\n",
       "x4  1  1  0  2  2\n",
       "x5  1  0  2  0  1\n",
       "x6  2  2  0  1  1\n",
       "x7  2  1  1  1  2\n",
       "x8  0  1  1  1  1"
      ]
     },
     "execution_count": 9,
     "metadata": {},
     "output_type": "execute_result"
    }
   ],
   "source": [
    "data2 = {\n",
    "\t\"x\" : [\"x1\", \"x2\", \"x3\", \"x4\", \"x5\", \"x6\", \"x7\", \"x8\"],\n",
    "\t\"a\" : [1, 0, 2, 1, 1, 2, 2, 0],\n",
    "\t\"b\" : [0, 1, 2, 1, 0, 2, 1, 1],\n",
    "\t\"c\" : [2, 1, 0, 0, 2, 0, 1, 1],\n",
    "\t\"d\" : [2, 1, 1, 2, 0, 1, 1, 1],\n",
    "\t\"e\" : [0, 2, 1, 2, 1, 1, 2, 1],\n",
    "}\n",
    "\n",
    "df2 = pd.DataFrame(data2)\n",
    "df2.set_index(\"x\", inplace=True)\n",
    "df2"
   ]
  },
  {
   "attachments": {},
   "cell_type": "markdown",
   "metadata": {},
   "source": [
    "## *Indiscernibility Relation*."
   ]
  },
  {
   "attachments": {},
   "cell_type": "markdown",
   "metadata": {},
   "source": [
    "### Implémentation."
   ]
  },
  {
   "cell_type": "code",
   "execution_count": 10,
   "metadata": {},
   "outputs": [],
   "source": [
    "def IND(DS, d, C):\n",
    "\t\"\"\"\n",
    "\tCalcule la Indiscernibility Relation pour un attribut.\n",
    "\t\n",
    "\t@param DS le système de décision.\n",
    "\t@param d la décision.\n",
    "\t@param C La liste des attributs.\n",
    "\t\n",
    "\t@return ind la Indiscernibility Relation.\n",
    "\t\"\"\"\n",
    "\tind = []\n",
    "\tIS = DS.drop(d, axis=1)\n",
    "\tgroup = IS.groupby(C)\n",
    "\n",
    "\tfor g in group:\n",
    "\t\tgDS = pd.DataFrame(g[1])\n",
    "\t\tind.append(list(gDS.index))\n",
    "\tind.sort()\n",
    "\treturn ind"
   ]
  },
  {
   "attachments": {},
   "cell_type": "markdown",
   "metadata": {},
   "source": [
    "### Test."
   ]
  },
  {
   "attachments": {},
   "cell_type": "markdown",
   "metadata": {},
   "source": [
    "On regroupe les objets possèdants les même valeurs pour l'attribut \"Headache\"."
   ]
  },
  {
   "cell_type": "code",
   "execution_count": 11,
   "metadata": {},
   "outputs": [
    {
     "data": {
      "text/plain": [
       "[['o1', 'o2', 'o3'], ['o4', 'o5', 'o6']]"
      ]
     },
     "execution_count": 11,
     "metadata": {},
     "output_type": "execute_result"
    }
   ],
   "source": [
    "ind = IND(df, \"Flu\", [\"Headache\"])\n",
    "ind"
   ]
  },
  {
   "attachments": {},
   "cell_type": "markdown",
   "metadata": {},
   "source": [
    "On regroupe les objets possèdants les même valeurs pour l'ensemble d'attribut {\"Headache\", \"Muscle-pain\"}."
   ]
  },
  {
   "cell_type": "code",
   "execution_count": 12,
   "metadata": {},
   "outputs": [
    {
     "data": {
      "text/plain": [
       "[['o1'], ['o2', 'o3'], ['o4', 'o5', 'o6']]"
      ]
     },
     "execution_count": 12,
     "metadata": {},
     "output_type": "execute_result"
    }
   ],
   "source": [
    "ind2 = IND(df, \"Flu\", [\"Headache\", \"Muscle-pain\"])\n",
    "ind2"
   ]
  },
  {
   "attachments": {},
   "cell_type": "markdown",
   "metadata": {},
   "source": [
    "### Implémentation 2."
   ]
  },
  {
   "cell_type": "code",
   "execution_count": 13,
   "metadata": {},
   "outputs": [],
   "source": [
    "def IND_C(DS, d):\n",
    "\t\"\"\"\n",
    "\tCalcule la Indiscernibility Relation pour tous les\n",
    "\tattributs du système de décision.\n",
    "\t\n",
    "\t@param DS le système de décision.\n",
    "\t@param d la décision.\n",
    "\t\n",
    "\t@return ind_c la Indiscernibility Relation.\n",
    "\t\"\"\"\n",
    "\tind = []\n",
    "\tIS = DS.drop(d, axis=1)\n",
    "\tgroup = IS.groupby(list(IS.columns))\n",
    "\n",
    "\tfor g in group:\n",
    "\t\tgDS = pd.DataFrame(g[1])\n",
    "\t\tind.append(list(gDS.index))\n",
    "\tind.sort()\n",
    "\treturn ind"
   ]
  },
  {
   "attachments": {},
   "cell_type": "markdown",
   "metadata": {},
   "source": [
    "### Test."
   ]
  },
  {
   "attachments": {},
   "cell_type": "markdown",
   "metadata": {},
   "source": [
    "On regroupe les objets ayant les même valeurs pour tous les attributs."
   ]
  },
  {
   "cell_type": "code",
   "execution_count": 14,
   "metadata": {},
   "outputs": [
    {
     "data": {
      "text/plain": [
       "[['o1'], ['o2', 'o3'], ['o4'], ['o5'], ['o6']]"
      ]
     },
     "execution_count": 14,
     "metadata": {},
     "output_type": "execute_result"
    }
   ],
   "source": [
    "ind_c = IND_C(df, \"Flu\")\n",
    "ind_c"
   ]
  },
  {
   "cell_type": "code",
   "execution_count": 15,
   "metadata": {},
   "outputs": [
    {
     "data": {
      "text/plain": [
       "[['x1'], ['x2', 'x8'], ['x3', 'x6'], ['x4'], ['x5'], ['x7']]"
      ]
     },
     "execution_count": 15,
     "metadata": {},
     "output_type": "execute_result"
    }
   ],
   "source": [
    "ind_c2 = IND_C(df2, \"e\")\n",
    "ind_c2"
   ]
  },
  {
   "attachments": {},
   "cell_type": "markdown",
   "metadata": {},
   "source": [
    "### Fonction groupe_ind_c_obj"
   ]
  },
  {
   "attachments": {},
   "cell_type": "markdown",
   "metadata": {},
   "source": [
    "### Implémentation."
   ]
  },
  {
   "cell_type": "code",
   "execution_count": 16,
   "metadata": {},
   "outputs": [],
   "source": [
    "def groupe_ind_c_obj(ind_c, obj):\n",
    "\t\"\"\"\n",
    "\tRenvoie le groupe indiscernable de l'objet obj sans ce dernier.\n",
    "\n",
    "\t@param ind_c la liste des objets indiscernable.\n",
    "\t@param obj l'index d'un objet.\n",
    "\n",
    "\t@return le groupe indiscernable de l'objet.\n",
    "\t\"\"\"\n",
    "\tfor g in ind_c:\n",
    "\t\tfor obj2 in g:\n",
    "\t\t\tif obj == obj2:\n",
    "\t\t\t\tcopy_g = g.copy()\n",
    "\t\t\t\tcopy_g.remove(obj)\n",
    "\t\t\t\treturn copy_g\n",
    "\treturn []"
   ]
  },
  {
   "attachments": {},
   "cell_type": "markdown",
   "metadata": {},
   "source": [
    "### Test."
   ]
  },
  {
   "attachments": {},
   "cell_type": "markdown",
   "metadata": {},
   "source": [
    "On affiche les objets qui sont dans le même groupe indiscernable. Si le retour est vide c'est que l'objet ne possède est seul dasn son groupe, i.e il ne n'existe pas d'objet indiscernable à cette objet."
   ]
  },
  {
   "attachments": {},
   "cell_type": "markdown",
   "metadata": {},
   "source": [
    "On cherche le groupe indiscernable de o3 qui est [o2, o3], la fonction nous renvoie uniquement [o3]."
   ]
  },
  {
   "cell_type": "code",
   "execution_count": 17,
   "metadata": {},
   "outputs": [
    {
     "data": {
      "text/plain": [
       "['o2']"
      ]
     },
     "execution_count": 17,
     "metadata": {},
     "output_type": "execute_result"
    }
   ],
   "source": [
    "groupe_ind_c_obj(ind_c, \"o3\")"
   ]
  },
  {
   "attachments": {},
   "cell_type": "markdown",
   "metadata": {},
   "source": [
    "On cherche le groupe indiscernable de o1 qui est [o1], la fonction nous renvoie une liste vide."
   ]
  },
  {
   "cell_type": "code",
   "execution_count": 18,
   "metadata": {},
   "outputs": [
    {
     "data": {
      "text/plain": [
       "[]"
      ]
     },
     "execution_count": 18,
     "metadata": {},
     "output_type": "execute_result"
    }
   ],
   "source": [
    "groupe_ind_c_obj(ind_c, \"o1\")"
   ]
  },
  {
   "attachments": {},
   "cell_type": "markdown",
   "metadata": {},
   "source": [
    "On cherche le groupe indiscernable de x8 qui est [x2, x8], la fonction nous renvoie uniquement [x8]."
   ]
  },
  {
   "cell_type": "code",
   "execution_count": 19,
   "metadata": {},
   "outputs": [
    {
     "data": {
      "text/plain": [
       "['x2']"
      ]
     },
     "execution_count": 19,
     "metadata": {},
     "output_type": "execute_result"
    }
   ],
   "source": [
    "groupe_ind_c_obj(ind_c2, \"x8\")"
   ]
  },
  {
   "attachments": {},
   "cell_type": "markdown",
   "metadata": {},
   "source": [
    "## *B-lower approximation*."
   ]
  },
  {
   "attachments": {},
   "cell_type": "markdown",
   "metadata": {},
   "source": [
    "### Implémentation."
   ]
  },
  {
   "cell_type": "code",
   "execution_count": 20,
   "metadata": {},
   "outputs": [],
   "source": [
    "def b_lower(DS, ind_c, d, d_value):\n",
    "\t\"\"\"\n",
    "\tRenvoie la B-lower approximation.\n",
    "\n",
    "\t@param DS le système de décision.\n",
    "\t@param ind_c la liste des objets indiscernables.\n",
    "\t@param d le nom de la colone de décision.\n",
    "\t@param d_value la value de décision.\n",
    "\n",
    "\t@return la B-lower approximation.\n",
    "\t\"\"\"\n",
    "\tX = DS.groupby(d)\n",
    "\tXi = None\n",
    "\tfor name, groupe in X:\n",
    "\t\tif name == d_value:\n",
    "\t\t\tXi = pd.DataFrame(groupe)\n",
    "\n",
    "\tif Xi is not None:\n",
    "\t\tCXi = []\n",
    "\n",
    "\t\tfor index in Xi.index:\n",
    "\t\t\t# Nous regardons le groupe indiscernable de cet objet.\n",
    "\t\t\tidc_obj = groupe_ind_c_obj(ind_c, index)\n",
    "\t\t\t\n",
    "\t\t\t# Si il possèdent des objets indiscernables.\n",
    "\t\t\tpossede_indiscernable = False\n",
    "\t\t\tif len(idc_obj) != 0:\n",
    "\t\t\t\tfor index_obj2 in idc_obj:\n",
    "\t\t\t\t\t# On récupère la décision des objets.\n",
    "\t\t\t\t\tobj_d = DS[DS.index == index_obj2][d].iloc[0]\n",
    "\t\t\t\t\tobj2_d = DS[DS.index == index][d].iloc[0]\n",
    "\t\t\t\t\t\n",
    "\t\t\t\t\tif obj_d != obj2_d:\n",
    "\t\t\t\t\t\tpossede_indiscernable = True\n",
    "\t\t\t\t\t\tbreak\n",
    "\t\t\tif not possede_indiscernable:\n",
    "\t\t\t\tCXi.append(index)\n",
    "\t\tCXi.sort()\n",
    "\t\treturn CXi\n",
    "\telse:\n",
    "\t\treturn \"error\""
   ]
  },
  {
   "attachments": {},
   "cell_type": "markdown",
   "metadata": {},
   "source": [
    "### Test."
   ]
  },
  {
   "attachments": {},
   "cell_type": "markdown",
   "metadata": {},
   "source": [
    "On rend tous les objets tel que la décision \"Flu\" soit égal à \"Yes\" et pour chaque objet on le supprime si il un existe un objet identique mais qui ne possède pas le même valeur de décision (ici \"No\")."
   ]
  },
  {
   "cell_type": "code",
   "execution_count": 21,
   "metadata": {},
   "outputs": [
    {
     "data": {
      "text/plain": [
       "['o1', 'o5', 'o6']"
      ]
     },
     "execution_count": 21,
     "metadata": {},
     "output_type": "execute_result"
    }
   ],
   "source": [
    "blower_yes = b_lower(df, ind_c, \"Flu\", \"Yes\")\n",
    "blower_yes"
   ]
  },
  {
   "attachments": {},
   "cell_type": "markdown",
   "metadata": {},
   "source": [
    "On rend tous les objets tel que la décision \"Flu\" soit égal à \"No\" et pour chaque objet on le supprime si il un existe un objet identique mais qui ne possède pas le même valeur de décision (ici \"Yes\")."
   ]
  },
  {
   "cell_type": "code",
   "execution_count": 22,
   "metadata": {},
   "outputs": [
    {
     "data": {
      "text/plain": [
       "['o4']"
      ]
     },
     "execution_count": 22,
     "metadata": {},
     "output_type": "execute_result"
    }
   ],
   "source": [
    "blower_no = b_lower(df, ind_c, \"Flu\", \"No\")\n",
    "blower_no"
   ]
  },
  {
   "attachments": {},
   "cell_type": "markdown",
   "metadata": {},
   "source": [
    "## *B-upper approximation*."
   ]
  },
  {
   "attachments": {},
   "cell_type": "markdown",
   "metadata": {},
   "source": [
    "### Implémentation."
   ]
  },
  {
   "cell_type": "code",
   "execution_count": 23,
   "metadata": {},
   "outputs": [],
   "source": [
    "def b_upper(DS, ind_c, d, d_value):\n",
    "\t\"\"\"\n",
    "\tRenvoie la B-upper approximation.\n",
    "\n",
    "\t@param DS le système de décision.\n",
    "\t@param ind_c la liste des objets indiscernables.\n",
    "\t@param d le nom de la colone de décision.\n",
    "\t@param d_value la value de décision.\n",
    "\n",
    "\t@return la B-upper approximation.\n",
    "\t\"\"\"\n",
    "\tX = DS.groupby(d)\n",
    "\tXi = None\n",
    "\tfor name, groupe in X:\n",
    "\t\tif name == d_value:\n",
    "\t\t\tXi = pd.DataFrame(groupe)\n",
    "\n",
    "\tif Xi is not None:\n",
    "\t\tCXi = list(Xi.index)\n",
    "\t\tfor index in Xi.index:\n",
    "\t\t\t# Nous regardons le groupe indiscernable de cet objet.\n",
    "\t\t\tidc_obj = groupe_ind_c_obj(ind_c, index)\n",
    "\t\t\t\n",
    "\t\t\t# Si il possèdent des objets indiscernables.\n",
    "\t\t\tlist_add = []\n",
    "\t\t\tif len(idc_obj) != 0:\n",
    "\t\t\t\tfor index_obj2 in idc_obj:\n",
    "\t\t\t\t\t\n",
    "\t\t\t\t\t# On récupère la décision des objets.\n",
    "\t\t\t\t\tobj_d = DS[DS.index == index_obj2][d].iloc[0]\n",
    "\t\t\t\t\tobj2_d = DS[DS.index == index][d].iloc[0]\n",
    "\t\t\t\t\t\n",
    "\t\t\t\t\tif obj_d != obj2_d:\n",
    "\t\t\t\t\t\tlist_add.append(index_obj2)\n",
    "\t\t\tCXi += list_add\n",
    "\t\tCXi.sort()\n",
    "\t\treturn CXi\n",
    "\telse:\n",
    "\t\treturn \"error\""
   ]
  },
  {
   "attachments": {},
   "cell_type": "markdown",
   "metadata": {},
   "source": [
    "### Test."
   ]
  },
  {
   "attachments": {},
   "cell_type": "markdown",
   "metadata": {},
   "source": [
    "On rend tous les objets tel que la décision \"Flu\" soit égal à \"Yes\" et pour chaque objet on ajout les objets indiscernables à ce dernier."
   ]
  },
  {
   "cell_type": "code",
   "execution_count": 24,
   "metadata": {},
   "outputs": [
    {
     "data": {
      "text/plain": [
       "['o1', 'o2', 'o3', 'o5', 'o6']"
      ]
     },
     "execution_count": 24,
     "metadata": {},
     "output_type": "execute_result"
    }
   ],
   "source": [
    "bupper_yes = b_upper(df, ind_c, \"Flu\", \"Yes\")\n",
    "bupper_yes"
   ]
  },
  {
   "attachments": {},
   "cell_type": "markdown",
   "metadata": {},
   "source": [
    "On rend tous les objets tel que la décision \"Flu\" soit égal à \"No\" et pour chaque objet on ajout les objets indiscernables à ce dernier."
   ]
  },
  {
   "cell_type": "code",
   "execution_count": 25,
   "metadata": {},
   "outputs": [
    {
     "data": {
      "text/plain": [
       "['o2', 'o3', 'o4']"
      ]
     },
     "execution_count": 25,
     "metadata": {},
     "output_type": "execute_result"
    }
   ],
   "source": [
    "bupper_no = b_upper(df, ind_c, \"Flu\", \"No\")\n",
    "bupper_no"
   ]
  },
  {
   "attachments": {},
   "cell_type": "markdown",
   "metadata": {},
   "source": [
    "## *B-boundary region*"
   ]
  },
  {
   "attachments": {},
   "cell_type": "markdown",
   "metadata": {},
   "source": [
    "### Implémentation."
   ]
  },
  {
   "cell_type": "code",
   "execution_count": 26,
   "metadata": {},
   "outputs": [],
   "source": [
    "def b_boundary(DS, bupper, blower):\n",
    "\t\"\"\"\n",
    "\tCalcule la B-boundary region.\n",
    "\n",
    "\t@param DS le système de décision.\n",
    "\t@param bupper la B-upper approximation.\n",
    "\t@param blower la B-lower approximation.\n",
    "\n",
    "\t@return la différence entre les deux approximations.\n",
    "\t\"\"\"\n",
    "\treturn diff_list(bupper, blower)"
   ]
  },
  {
   "attachments": {},
   "cell_type": "markdown",
   "metadata": {},
   "source": [
    "### Test."
   ]
  },
  {
   "attachments": {},
   "cell_type": "markdown",
   "metadata": {},
   "source": [
    "bupper_yes = ['o1', 'o2', 'o3', 'o5', 'o6']\n",
    "\n",
    "blower_yes = ['o1', 'o5', 'o6']\n",
    "\n",
    "Les éléments qui sont présents dans bupper_yes mais pas dans blower_yes sont o2 et o3."
   ]
  },
  {
   "cell_type": "code",
   "execution_count": 27,
   "metadata": {},
   "outputs": [
    {
     "data": {
      "text/plain": [
       "['o2', 'o3']"
      ]
     },
     "execution_count": 27,
     "metadata": {},
     "output_type": "execute_result"
    }
   ],
   "source": [
    "b_boundary(df, bupper_yes, blower_yes)"
   ]
  },
  {
   "attachments": {},
   "cell_type": "markdown",
   "metadata": {},
   "source": [
    "bupper_no = ['o2', 'o3', 'o4']\n",
    "\n",
    "blower_no = ['o4']\n",
    "\n",
    "Les éléments qui sont présents dans bupper_no mais pas dans blower_no sont o2 et o3."
   ]
  },
  {
   "cell_type": "code",
   "execution_count": 28,
   "metadata": {},
   "outputs": [
    {
     "data": {
      "text/plain": [
       "['o2', 'o3']"
      ]
     },
     "execution_count": 28,
     "metadata": {},
     "output_type": "execute_result"
    }
   ],
   "source": [
    "b_boundary(df, bupper_no, blower_no)"
   ]
  },
  {
   "attachments": {},
   "cell_type": "markdown",
   "metadata": {},
   "source": [
    "## *Positive Region*."
   ]
  },
  {
   "attachments": {},
   "cell_type": "markdown",
   "metadata": {},
   "source": [
    "### Implémentation."
   ]
  },
  {
   "cell_type": "code",
   "execution_count": 29,
   "metadata": {},
   "outputs": [],
   "source": [
    "def POS(DS, d, C):\n",
    "\t\"\"\"\n",
    "\tCalcul la Positive Region avec les C attributs.\n",
    "\n",
    "\t@param DS Le système de décision.\n",
    "\t@param d La colonne de décision.\n",
    "\t@param C La liste des attributs.\n",
    "\n",
    "\t@return La Positive region des C attributs.\n",
    "\t\"\"\"\n",
    "\tattr = C.copy()\n",
    "\tattr.append(d)\n",
    "\tds = DS[attr]\n",
    "\tind = IND(ds, d, C)\n",
    "\td_values = list(ds[d])\n",
    "\td_values = [*set(d_values)]\n",
    "\tPOS = []\n",
    "\tfor d_value in d_values:\n",
    "\t\tPOS += b_lower(ds, ind, d, d_value)\n",
    "\tPOS.sort()\n",
    "\treturn POS"
   ]
  },
  {
   "attachments": {},
   "cell_type": "markdown",
   "metadata": {},
   "source": [
    "### Test."
   ]
  },
  {
   "attachments": {},
   "cell_type": "markdown",
   "metadata": {},
   "source": [
    "Nous calculons la POS pour toutes les combinaisons d'attributs."
   ]
  },
  {
   "cell_type": "code",
   "execution_count": 30,
   "metadata": {},
   "outputs": [
    {
     "name": "stdout",
     "output_type": "stream",
     "text": [
      "POS{['Headache']} = []\n",
      "POS{['Muscle-pain']} = []\n",
      "POS{['Temperature']} = ['o1', 'o4', 'o6']\n",
      "POS{['Headache', 'Muscle-pain']} = ['o1']\n",
      "POS{['Headache', 'Temperature']} = ['o1', 'o4', 'o5', 'o6']\n",
      "POS{['Muscle-pain', 'Temperature']} = ['o1', 'o4', 'o5', 'o6']\n",
      "POS{['Headache', 'Muscle-pain', 'Temperature']} = ['o1', 'o4', 'o5', 'o6']\n"
     ]
    }
   ],
   "source": [
    "for combi in combinaisons(df, \"Flu\"):\n",
    "\tliste_combi = list(combi)\n",
    "\tprint(\"POS{{{}}} = {}\".format(liste_combi, POS(df, \"Flu\", liste_combi)))"
   ]
  },
  {
   "attachments": {},
   "cell_type": "markdown",
   "metadata": {},
   "source": [
    "### Implémentation 2."
   ]
  },
  {
   "cell_type": "code",
   "execution_count": 31,
   "metadata": {},
   "outputs": [],
   "source": [
    "def POS_C(DS, d):\n",
    "\t\"\"\"\n",
    "\tCalcule la Positive Region avec tous les attributs.\n",
    "\n",
    "\t@param DS Le système de décision.\n",
    "\t@param d La colonne de décision.\n",
    "\n",
    "\t@return La Positive region de tous les attributs.\n",
    "\t\"\"\"\n",
    "\td_values = list(DS[d])\n",
    "\td_values = [*set(d_values)]\n",
    "\tPOS_C = []\n",
    "\tind_c = IND_C(DS, d)\n",
    "\tfor d_value in d_values:\n",
    "\t\tPOS_C += b_lower(DS, ind_c, d, d_value)\n",
    "\tPOS_C.sort()\n",
    "\treturn POS_C"
   ]
  },
  {
   "attachments": {},
   "cell_type": "markdown",
   "metadata": {},
   "source": [
    "### Test."
   ]
  },
  {
   "attachments": {},
   "cell_type": "markdown",
   "metadata": {},
   "source": [
    "Nous calculons la POS pour tous les attributs."
   ]
  },
  {
   "cell_type": "code",
   "execution_count": 32,
   "metadata": {},
   "outputs": [
    {
     "data": {
      "text/plain": [
       "['o1', 'o4', 'o5', 'o6']"
      ]
     },
     "execution_count": 32,
     "metadata": {},
     "output_type": "execute_result"
    }
   ],
   "source": [
    "POS_C(df, \"Flu\")"
   ]
  },
  {
   "cell_type": "code",
   "execution_count": 33,
   "metadata": {},
   "outputs": [
    {
     "data": {
      "text/plain": [
       "['x1', 'x3', 'x4', 'x5', 'x6', 'x7']"
      ]
     },
     "execution_count": 33,
     "metadata": {},
     "output_type": "execute_result"
    }
   ],
   "source": [
    "POS_C(df2, \"e\")"
   ]
  },
  {
   "attachments": {},
   "cell_type": "markdown",
   "metadata": {},
   "source": [
    "## *Negative Region*."
   ]
  },
  {
   "attachments": {},
   "cell_type": "markdown",
   "metadata": {},
   "source": [
    "### Implémentation."
   ]
  },
  {
   "cell_type": "code",
   "execution_count": 34,
   "metadata": {},
   "outputs": [],
   "source": [
    "def NEG_C(DS, d):\n",
    "\t\"\"\"\n",
    "\tCalcule la Negative Region avec tous les attributs.\n",
    "\n",
    "\t@param DS Le système de décision.\n",
    "\t@param d La colonne de décision.\n",
    "\n",
    "\t@return La Negative region de tous les attributs.\n",
    "\t\"\"\"\n",
    "\td_values = list(DS[d])\n",
    "\td_values = [*set(d_values)]\n",
    "\tNEG_C = []\n",
    "\tind_c = IND_C(DS, d)\n",
    "\tfor d_value in d_values:\n",
    "\t\tNEG_C += b_upper(DS, ind_c, d, d_value)\n",
    "\tNEG_C = [*set(NEG_C)]\n",
    "\tneg = diff_list(list(DS.index), NEG_C)\n",
    "\tneg.sort()\n",
    "\treturn neg"
   ]
  },
  {
   "attachments": {},
   "cell_type": "markdown",
   "metadata": {},
   "source": [
    "### Test."
   ]
  },
  {
   "cell_type": "code",
   "execution_count": 35,
   "metadata": {},
   "outputs": [
    {
     "data": {
      "text/plain": [
       "[]"
      ]
     },
     "execution_count": 35,
     "metadata": {},
     "output_type": "execute_result"
    }
   ],
   "source": [
    "NEG_C(df, \"Flu\")"
   ]
  },
  {
   "cell_type": "code",
   "execution_count": 36,
   "metadata": {},
   "outputs": [
    {
     "data": {
      "text/plain": [
       "[]"
      ]
     },
     "execution_count": 36,
     "metadata": {},
     "output_type": "execute_result"
    }
   ],
   "source": [
    "NEG_C(df2, \"e\")"
   ]
  },
  {
   "attachments": {},
   "cell_type": "markdown",
   "metadata": {},
   "source": [
    "## *Reduct*."
   ]
  },
  {
   "attachments": {},
   "cell_type": "markdown",
   "metadata": {},
   "source": [
    "### Implémentation."
   ]
  },
  {
   "cell_type": "code",
   "execution_count": 37,
   "metadata": {},
   "outputs": [],
   "source": [
    "def reduct(DS, d):\n",
    "\t\"\"\"\n",
    "\tRenvoie toutes les réductions d'attributs possibles.\n",
    "\n",
    "\t@param DS Le système de décision.\n",
    "\t@param d La colonne de décision.\n",
    "\n",
    "\t@return reducts : La liste des réductions.\n",
    "\t\"\"\"\n",
    "\treducts = []\n",
    "\tpos_c = POS_C(DS, d)\n",
    "\tprint(\"pos_c\", pos_c)\n",
    "\tC = list(DS.columns)\n",
    "\tC.remove(d)\n",
    "\tfor combi in combinaisons(DS, d):\n",
    "\t\tliste_combi = list(combi)\n",
    "\t\tif liste_combi != C:\n",
    "\t\t\tpos = POS(DS, d, liste_combi)\n",
    "\t\t\tprint(\"POS({}) = {}\".format(liste_combi, pos))\n",
    "\t\t\tif pos == pos_c:\n",
    "\t\t\t\tprint(\"reduct possible\", liste_combi)\n",
    "\t\t\t\treducts.append(liste_combi)\n",
    "\treducts.sort()\n",
    "\n",
    "\t# On garde les plus petites reductions\n",
    "\tmin_len = min([len(x) for x in reducts])\n",
    "\treducts = [x for x in reducts if len(x) == min_len]\n",
    "\n",
    "\treturn reducts"
   ]
  },
  {
   "attachments": {},
   "cell_type": "markdown",
   "metadata": {},
   "source": [
    "### Test."
   ]
  },
  {
   "cell_type": "code",
   "execution_count": 38,
   "metadata": {},
   "outputs": [
    {
     "name": "stdout",
     "output_type": "stream",
     "text": [
      "pos_c ['o1', 'o4', 'o5', 'o6']\n",
      "POS(['Headache']) = []\n",
      "POS(['Muscle-pain']) = []\n",
      "POS(['Temperature']) = ['o1', 'o4', 'o6']\n",
      "POS(['Headache', 'Muscle-pain']) = ['o1']\n",
      "POS(['Headache', 'Temperature']) = ['o1', 'o4', 'o5', 'o6']\n",
      "reduct possible ['Headache', 'Temperature']\n",
      "POS(['Muscle-pain', 'Temperature']) = ['o1', 'o4', 'o5', 'o6']\n",
      "reduct possible ['Muscle-pain', 'Temperature']\n"
     ]
    },
    {
     "data": {
      "text/plain": [
       "[['Headache', 'Temperature'], ['Muscle-pain', 'Temperature']]"
      ]
     },
     "execution_count": 38,
     "metadata": {},
     "output_type": "execute_result"
    }
   ],
   "source": [
    "reducts = reduct(df, \"Flu\")\n",
    "reducts"
   ]
  },
  {
   "cell_type": "code",
   "execution_count": 39,
   "metadata": {},
   "outputs": [
    {
     "data": {
      "text/html": [
       "<div>\n",
       "<style scoped>\n",
       "    .dataframe tbody tr th:only-of-type {\n",
       "        vertical-align: middle;\n",
       "    }\n",
       "\n",
       "    .dataframe tbody tr th {\n",
       "        vertical-align: top;\n",
       "    }\n",
       "\n",
       "    .dataframe thead th {\n",
       "        text-align: right;\n",
       "    }\n",
       "</style>\n",
       "<table border=\"1\" class=\"dataframe\">\n",
       "  <thead>\n",
       "    <tr style=\"text-align: right;\">\n",
       "      <th></th>\n",
       "      <th>a</th>\n",
       "      <th>b</th>\n",
       "      <th>c</th>\n",
       "      <th>d</th>\n",
       "      <th>e</th>\n",
       "    </tr>\n",
       "    <tr>\n",
       "      <th>x</th>\n",
       "      <th></th>\n",
       "      <th></th>\n",
       "      <th></th>\n",
       "      <th></th>\n",
       "      <th></th>\n",
       "    </tr>\n",
       "  </thead>\n",
       "  <tbody>\n",
       "    <tr>\n",
       "      <th>x1</th>\n",
       "      <td>1</td>\n",
       "      <td>0</td>\n",
       "      <td>2</td>\n",
       "      <td>2</td>\n",
       "      <td>0</td>\n",
       "    </tr>\n",
       "    <tr>\n",
       "      <th>x2</th>\n",
       "      <td>0</td>\n",
       "      <td>1</td>\n",
       "      <td>1</td>\n",
       "      <td>1</td>\n",
       "      <td>2</td>\n",
       "    </tr>\n",
       "    <tr>\n",
       "      <th>x3</th>\n",
       "      <td>2</td>\n",
       "      <td>0</td>\n",
       "      <td>0</td>\n",
       "      <td>1</td>\n",
       "      <td>1</td>\n",
       "    </tr>\n",
       "    <tr>\n",
       "      <th>x4</th>\n",
       "      <td>1</td>\n",
       "      <td>1</td>\n",
       "      <td>0</td>\n",
       "      <td>2</td>\n",
       "      <td>2</td>\n",
       "    </tr>\n",
       "    <tr>\n",
       "      <th>x5</th>\n",
       "      <td>1</td>\n",
       "      <td>0</td>\n",
       "      <td>2</td>\n",
       "      <td>0</td>\n",
       "      <td>1</td>\n",
       "    </tr>\n",
       "    <tr>\n",
       "      <th>x6</th>\n",
       "      <td>2</td>\n",
       "      <td>2</td>\n",
       "      <td>0</td>\n",
       "      <td>1</td>\n",
       "      <td>1</td>\n",
       "    </tr>\n",
       "    <tr>\n",
       "      <th>x7</th>\n",
       "      <td>2</td>\n",
       "      <td>1</td>\n",
       "      <td>1</td>\n",
       "      <td>1</td>\n",
       "      <td>2</td>\n",
       "    </tr>\n",
       "    <tr>\n",
       "      <th>x8</th>\n",
       "      <td>0</td>\n",
       "      <td>1</td>\n",
       "      <td>1</td>\n",
       "      <td>0</td>\n",
       "      <td>1</td>\n",
       "    </tr>\n",
       "  </tbody>\n",
       "</table>\n",
       "</div>"
      ],
      "text/plain": [
       "    a  b  c  d  e\n",
       "x                \n",
       "x1  1  0  2  2  0\n",
       "x2  0  1  1  1  2\n",
       "x3  2  0  0  1  1\n",
       "x4  1  1  0  2  2\n",
       "x5  1  0  2  0  1\n",
       "x6  2  2  0  1  1\n",
       "x7  2  1  1  1  2\n",
       "x8  0  1  1  0  1"
      ]
     },
     "execution_count": 39,
     "metadata": {},
     "output_type": "execute_result"
    }
   ],
   "source": [
    "# création d'un dataframe\n",
    "data3 = {\n",
    "\t\"x\" : [\"x1\", \"x2\", \"x3\", \"x4\", \"x5\", \"x6\", \"x7\", \"x8\"],\n",
    "\t\"a\" : [1, 0, 2, 1, 1, 2, 2, 0],\n",
    "\t\"b\" : [0, 1, 0, 1, 0, 2, 1, 1],\n",
    "\t\"c\" : [2, 1, 0, 0, 2, 0, 1, 1],\n",
    "\t\"d\" : [2, 1, 1, 2, 0, 1, 1, 0],\n",
    "\t\"e\" : [0, 2, 1, 2, 1, 1, 2, 1],\n",
    "}\n",
    "\n",
    "df3 = pd.DataFrame(data3)\n",
    "df3.set_index(\"x\", inplace=True)\n",
    "df3"
   ]
  },
  {
   "cell_type": "code",
   "execution_count": 40,
   "metadata": {},
   "outputs": [
    {
     "name": "stdout",
     "output_type": "stream",
     "text": [
      "pos_c ['x1', 'x2', 'x3', 'x4', 'x5', 'x6', 'x7', 'x8']\n",
      "POS(['a']) = []\n",
      "POS(['b']) = ['x6']\n",
      "POS(['c']) = []\n",
      "POS(['d']) = ['x5', 'x8']\n",
      "POS(['a', 'b']) = ['x3', 'x4', 'x6', 'x7']\n",
      "POS(['a', 'c']) = ['x3', 'x4', 'x6', 'x7']\n",
      "POS(['a', 'd']) = ['x2', 'x5', 'x8']\n",
      "POS(['b', 'c']) = ['x3', 'x4', 'x6']\n",
      "POS(['b', 'd']) = ['x1', 'x2', 'x3', 'x4', 'x5', 'x6', 'x7', 'x8']\n",
      "reduct possible ['b', 'd']\n",
      "POS(['c', 'd']) = ['x1', 'x2', 'x3', 'x4', 'x5', 'x6', 'x7', 'x8']\n",
      "reduct possible ['c', 'd']\n",
      "POS(['a', 'b', 'c']) = ['x3', 'x4', 'x6', 'x7']\n",
      "POS(['a', 'b', 'd']) = ['x1', 'x2', 'x3', 'x4', 'x5', 'x6', 'x7', 'x8']\n",
      "reduct possible ['a', 'b', 'd']\n",
      "POS(['a', 'c', 'd']) = ['x1', 'x2', 'x3', 'x4', 'x5', 'x6', 'x7', 'x8']\n",
      "reduct possible ['a', 'c', 'd']\n",
      "POS(['b', 'c', 'd']) = ['x1', 'x2', 'x3', 'x4', 'x5', 'x6', 'x7', 'x8']\n",
      "reduct possible ['b', 'c', 'd']\n"
     ]
    },
    {
     "data": {
      "text/plain": [
       "[['b', 'd'], ['c', 'd']]"
      ]
     },
     "execution_count": 40,
     "metadata": {},
     "output_type": "execute_result"
    }
   ],
   "source": [
    "reduct(df3, \"e\")"
   ]
  },
  {
   "attachments": {},
   "cell_type": "markdown",
   "metadata": {},
   "source": [
    "## *Core*."
   ]
  },
  {
   "attachments": {},
   "cell_type": "markdown",
   "metadata": {},
   "source": [
    "### Implémentation."
   ]
  },
  {
   "cell_type": "code",
   "execution_count": 41,
   "metadata": {},
   "outputs": [],
   "source": [
    "def core(reducts):\n",
    "\t\"\"\"\n",
    "\tCalcul l'intersection de toutes les réductions.\n",
    "\n",
    "\t@param reducts la liste des réductions.\n",
    "\n",
    "\t@return le core du système de décision.\n",
    "\t\"\"\"\n",
    "\treturn list(reduce(lambda i, j: i & j, (set(x) for x in reducts)))"
   ]
  },
  {
   "attachments": {},
   "cell_type": "markdown",
   "metadata": {},
   "source": [
    "### Test."
   ]
  },
  {
   "cell_type": "code",
   "execution_count": 42,
   "metadata": {},
   "outputs": [
    {
     "data": {
      "text/plain": [
       "['Temperature']"
      ]
     },
     "execution_count": 42,
     "metadata": {},
     "output_type": "execute_result"
    }
   ],
   "source": [
    "core(reducts)"
   ]
  },
  {
   "attachments": {},
   "cell_type": "markdown",
   "metadata": {},
   "source": [
    "## Dépendance des attributs"
   ]
  },
  {
   "attachments": {},
   "cell_type": "markdown",
   "metadata": {},
   "source": [
    "### Implémentation."
   ]
  },
  {
   "cell_type": "code",
   "execution_count": 43,
   "metadata": {},
   "outputs": [],
   "source": [
    "def dependance_attributs(DS, C, d):\n",
    "\t\"\"\"\n",
    "\tCalcul la dépendance des attributs.\n",
    "\n",
    "\t@param DS Le système de décision.\n",
    "\t@param C la liste des attributs.\n",
    "\t@param d la colonne de décision.\n",
    "\n",
    "\t@return la dépendance des attributs.\n",
    "\t\"\"\"\n",
    "\tds = DS[C]\n",
    "\tif len(list(ds.columns)) == 1 and list(ds.columns)[0] == d:\n",
    "\t\treturn 0\n",
    "\tind_c = IND_C(ds, d)\n",
    "\tpos_c = POS_C(ds, d)\n",
    "\t# dep = Fraction(len(pos_c), len(ds.index))\n",
    "\tdep = float(len(pos_c)) / len(ds.index)\n",
    "\treturn dep"
   ]
  },
  {
   "attachments": {},
   "cell_type": "markdown",
   "metadata": {},
   "source": [
    "### Test."
   ]
  },
  {
   "attachments": {},
   "cell_type": "markdown",
   "metadata": {},
   "source": [
    "## *QuickReduct*"
   ]
  },
  {
   "attachments": {},
   "cell_type": "markdown",
   "metadata": {},
   "source": [
    "### Implémentation."
   ]
  },
  {
   "cell_type": "code",
   "execution_count": 44,
   "metadata": {},
   "outputs": [],
   "source": [
    "def quickReduct(DS, d):\n",
    "\t\"\"\"\n",
    "\tL'algorithme de quickReduct.\n",
    "\n",
    "\t@param DS Le système de décision.\n",
    "\t@param d la colonne de décision.\n",
    "\n",
    "\t@return une sous liste d'attributs.\n",
    "\t\"\"\"\n",
    "\tC = list(DS.columns)\n",
    "\tC.remove(d)\n",
    "\tprint(\"C :\", C)\n",
    "\t# calcul de lambda C.\n",
    "\tdep_C = dependance_attributs(DS, DS.columns, d)\n",
    "\tprint(\"λC :\", dep_C, \"\\n\")\n",
    "\tR = []\n",
    "\twhile True:\n",
    "\t\tT = R\n",
    "\t\t# calcul de lambda T.\n",
    "\t\tattr = T.copy() + [d]\n",
    "\t\tdep_T = dependance_attributs(DS, attr, d)\n",
    "\t\tprint(\"λT({}) = {}\".format(attr[:-1], dep_T))\n",
    "\t\t\n",
    "\t\t# calcul de C - R.\n",
    "\t\tC_R = diff_list(C, R)\n",
    "\t\tprint(\"C_R\", C_R)\n",
    "\t\t\n",
    "\t\t# parcours des attributs.\n",
    "\t\tfor x in C_R:\n",
    "\t\t\tprint(\"x :\", x)\n",
    "\t\t\t# calcul de lambda RU{x}.\n",
    "\t\t\tattr2 = R.copy() + [x, d]\n",
    "\t\t\tdep_RUx = dependance_attributs(DS, attr2, d)\n",
    "\t\t\tprint(\"λRUx({}) = {}\".format(attr2[:-1], dep_RUx))\n",
    "\t\t\t\n",
    "\t\t\t# changement meilleur dépendance.\n",
    "\t\t\tif dep_RUx > dep_T:\n",
    "\t\t\t\tT = R.copy() + [x]\n",
    "\t\t\t\tprint(\"changement R =\", T)\n",
    "\t\t\t\tattr3 = T.copy() + [d]\n",
    "\t\t\t\tdep_T = dependance_attributs(DS, attr3, d)\n",
    "\t\t\n",
    "\t\tR = T.copy()\n",
    "\t\t# calcul de lambda R.\n",
    "\t\tattr4 = R.copy() + [d]\n",
    "\t\tdep_R = dependance_attributs(DS, attr4, d)\n",
    "\t\tprint(\"λR({}) = {}\".format(attr4[:-1], dep_R))\n",
    "\t\tif dep_R == dep_C:\n",
    "\t\t\treturn R"
   ]
  },
  {
   "attachments": {},
   "cell_type": "markdown",
   "metadata": {},
   "source": [
    "### Test."
   ]
  },
  {
   "cell_type": "code",
   "execution_count": 45,
   "metadata": {},
   "outputs": [
    {
     "name": "stdout",
     "output_type": "stream",
     "text": [
      "C : ['Headache', 'Muscle-pain', 'Temperature']\n",
      "λC : 0.6666666666666666 \n",
      "\n",
      "λT([]) = 0\n",
      "C_R ['Headache', 'Muscle-pain', 'Temperature']\n",
      "x : Headache\n",
      "λRUx(['Headache']) = 0.0\n",
      "x : Muscle-pain\n",
      "λRUx(['Muscle-pain']) = 0.0\n",
      "x : Temperature\n",
      "λRUx(['Temperature']) = 0.5\n",
      "changement R = ['Temperature']\n",
      "λR(['Temperature']) = 0.5\n",
      "λT(['Temperature']) = 0.5\n",
      "C_R ['Headache', 'Muscle-pain']\n",
      "x : Headache\n",
      "λRUx(['Temperature', 'Headache']) = 0.6666666666666666\n",
      "changement R = ['Temperature', 'Headache']\n",
      "x : Muscle-pain\n",
      "λRUx(['Temperature', 'Muscle-pain']) = 0.6666666666666666\n",
      "λR(['Temperature', 'Headache']) = 0.6666666666666666\n"
     ]
    },
    {
     "data": {
      "text/plain": [
       "['Temperature', 'Headache']"
      ]
     },
     "execution_count": 45,
     "metadata": {},
     "output_type": "execute_result"
    }
   ],
   "source": [
    "quickReduct(df, \"Flu\")"
   ]
  },
  {
   "attachments": {},
   "cell_type": "markdown",
   "metadata": {},
   "source": [
    "2ème test."
   ]
  },
  {
   "cell_type": "code",
   "execution_count": 46,
   "metadata": {},
   "outputs": [
    {
     "data": {
      "text/html": [
       "<div>\n",
       "<style scoped>\n",
       "    .dataframe tbody tr th:only-of-type {\n",
       "        vertical-align: middle;\n",
       "    }\n",
       "\n",
       "    .dataframe tbody tr th {\n",
       "        vertical-align: top;\n",
       "    }\n",
       "\n",
       "    .dataframe thead th {\n",
       "        text-align: right;\n",
       "    }\n",
       "</style>\n",
       "<table border=\"1\" class=\"dataframe\">\n",
       "  <thead>\n",
       "    <tr style=\"text-align: right;\">\n",
       "      <th></th>\n",
       "      <th>a</th>\n",
       "      <th>b</th>\n",
       "      <th>c</th>\n",
       "      <th>d</th>\n",
       "      <th>e</th>\n",
       "      <th>X</th>\n",
       "    </tr>\n",
       "    <tr>\n",
       "      <th>x</th>\n",
       "      <th></th>\n",
       "      <th></th>\n",
       "      <th></th>\n",
       "      <th></th>\n",
       "      <th></th>\n",
       "      <th></th>\n",
       "    </tr>\n",
       "  </thead>\n",
       "  <tbody>\n",
       "    <tr>\n",
       "      <th>x1</th>\n",
       "      <td>1</td>\n",
       "      <td>2</td>\n",
       "      <td>4</td>\n",
       "      <td>0</td>\n",
       "      <td>1</td>\n",
       "      <td>1</td>\n",
       "    </tr>\n",
       "    <tr>\n",
       "      <th>x2</th>\n",
       "      <td>0</td>\n",
       "      <td>3</td>\n",
       "      <td>3</td>\n",
       "      <td>2</td>\n",
       "      <td>1</td>\n",
       "      <td>2</td>\n",
       "    </tr>\n",
       "    <tr>\n",
       "      <th>x3</th>\n",
       "      <td>2</td>\n",
       "      <td>3</td>\n",
       "      <td>1</td>\n",
       "      <td>3</td>\n",
       "      <td>3</td>\n",
       "      <td>2</td>\n",
       "    </tr>\n",
       "    <tr>\n",
       "      <th>x4</th>\n",
       "      <td>1</td>\n",
       "      <td>1</td>\n",
       "      <td>2</td>\n",
       "      <td>1</td>\n",
       "      <td>2</td>\n",
       "      <td>1</td>\n",
       "    </tr>\n",
       "    <tr>\n",
       "      <th>x5</th>\n",
       "      <td>0</td>\n",
       "      <td>2</td>\n",
       "      <td>0</td>\n",
       "      <td>1</td>\n",
       "      <td>2</td>\n",
       "      <td>1</td>\n",
       "    </tr>\n",
       "    <tr>\n",
       "      <th>x6</th>\n",
       "      <td>1</td>\n",
       "      <td>1</td>\n",
       "      <td>2</td>\n",
       "      <td>4</td>\n",
       "      <td>3</td>\n",
       "      <td>2</td>\n",
       "    </tr>\n",
       "    <tr>\n",
       "      <th>x7</th>\n",
       "      <td>2</td>\n",
       "      <td>2</td>\n",
       "      <td>1</td>\n",
       "      <td>3</td>\n",
       "      <td>2</td>\n",
       "      <td>2</td>\n",
       "    </tr>\n",
       "    <tr>\n",
       "      <th>x8</th>\n",
       "      <td>1</td>\n",
       "      <td>2</td>\n",
       "      <td>0</td>\n",
       "      <td>2</td>\n",
       "      <td>2</td>\n",
       "      <td>1</td>\n",
       "    </tr>\n",
       "  </tbody>\n",
       "</table>\n",
       "</div>"
      ],
      "text/plain": [
       "    a  b  c  d  e  X\n",
       "x                   \n",
       "x1  1  2  4  0  1  1\n",
       "x2  0  3  3  2  1  2\n",
       "x3  2  3  1  3  3  2\n",
       "x4  1  1  2  1  2  1\n",
       "x5  0  2  0  1  2  1\n",
       "x6  1  1  2  4  3  2\n",
       "x7  2  2  1  3  2  2\n",
       "x8  1  2  0  2  2  1"
      ]
     },
     "execution_count": 46,
     "metadata": {},
     "output_type": "execute_result"
    }
   ],
   "source": [
    "data2 = {\n",
    "\t\"x\" : [\"x1\", \"x2\", \"x3\", \"x4\", \"x5\", \"x6\", \"x7\", \"x8\"],\n",
    "\t\"a\" : [1, 0, 2, 1, 0, 1, 2, 1],\n",
    "\t\"b\" : [2, 3, 3, 1, 2, 1, 2, 2],\n",
    "\t\"c\" : [4, 3, 1, 2, 0, 2, 1, 0],\n",
    "\t\"d\" : [0, 2, 3, 1, 1, 4, 3, 2],\n",
    "\t\"e\" : [1, 1, 3, 2, 2, 3, 2, 2],\n",
    "\t\"X\" : [1, 2, 2, 1, 1, 2, 2, 1],\n",
    "}\n",
    "\n",
    "df2 = pd.DataFrame(data2)\n",
    "df2.set_index(\"x\", inplace=True)\n",
    "df2"
   ]
  },
  {
   "cell_type": "code",
   "execution_count": 47,
   "metadata": {},
   "outputs": [
    {
     "name": "stdout",
     "output_type": "stream",
     "text": [
      "C : ['a', 'b', 'c', 'd', 'e']\n",
      "λC : 1.0 \n",
      "\n",
      "λT([]) = 0\n",
      "C_R ['a', 'b', 'c', 'd', 'e']\n",
      "x : a\n",
      "λRUx(['a']) = 0.25\n",
      "changement R = ['a']\n",
      "x : b\n",
      "λRUx(['b']) = 0.25\n",
      "x : c\n",
      "λRUx(['c']) = 0.75\n",
      "changement R = ['c']\n",
      "x : d\n",
      "λRUx(['d']) = 0.75\n",
      "x : e\n",
      "λRUx(['e']) = 0.25\n",
      "λR(['c']) = 0.75\n",
      "λT(['c']) = 0.75\n",
      "C_R ['a', 'b', 'd', 'e']\n",
      "x : a\n",
      "λRUx(['c', 'a']) = 0.75\n",
      "x : b\n",
      "λRUx(['c', 'b']) = 0.75\n",
      "x : d\n",
      "λRUx(['c', 'd']) = 1.0\n",
      "changement R = ['c', 'd']\n",
      "x : e\n",
      "λRUx(['c', 'e']) = 1.0\n",
      "λR(['c', 'd']) = 1.0\n"
     ]
    },
    {
     "data": {
      "text/plain": [
       "['c', 'd']"
      ]
     },
     "execution_count": 47,
     "metadata": {},
     "output_type": "execute_result"
    }
   ],
   "source": [
    "quickReduct(df2, \"X\")"
   ]
  },
  {
   "attachments": {},
   "cell_type": "markdown",
   "metadata": {},
   "source": [
    "# Chapitre 4:  Applications"
   ]
  },
  {
   "attachments": {},
   "cell_type": "markdown",
   "metadata": {},
   "source": [
    "## Importations."
   ]
  },
  {
   "cell_type": "code",
   "execution_count": 48,
   "metadata": {},
   "outputs": [],
   "source": [
    "# visualistion\n",
    "import seaborn as sns\n",
    "from matplotlib import pyplot as plt"
   ]
  },
  {
   "attachments": {},
   "cell_type": "markdown",
   "metadata": {},
   "source": [
    "## Chargement du dataset."
   ]
  },
  {
   "attachments": {},
   "cell_type": "markdown",
   "metadata": {},
   "source": [
    "Lien : https://archive.ics.uci.edu/ml/datasets/Car+Evaluation"
   ]
  },
  {
   "cell_type": "code",
   "execution_count": 49,
   "metadata": {},
   "outputs": [
    {
     "data": {
      "text/html": [
       "<div>\n",
       "<style scoped>\n",
       "    .dataframe tbody tr th:only-of-type {\n",
       "        vertical-align: middle;\n",
       "    }\n",
       "\n",
       "    .dataframe tbody tr th {\n",
       "        vertical-align: top;\n",
       "    }\n",
       "\n",
       "    .dataframe thead th {\n",
       "        text-align: right;\n",
       "    }\n",
       "</style>\n",
       "<table border=\"1\" class=\"dataframe\">\n",
       "  <thead>\n",
       "    <tr style=\"text-align: right;\">\n",
       "      <th></th>\n",
       "      <th>buying</th>\n",
       "      <th>maint</th>\n",
       "      <th>doors</th>\n",
       "      <th>persons</th>\n",
       "      <th>lug_boot</th>\n",
       "      <th>safety</th>\n",
       "      <th>class</th>\n",
       "    </tr>\n",
       "  </thead>\n",
       "  <tbody>\n",
       "    <tr>\n",
       "      <th>0</th>\n",
       "      <td>vhigh</td>\n",
       "      <td>vhigh</td>\n",
       "      <td>2</td>\n",
       "      <td>2</td>\n",
       "      <td>small</td>\n",
       "      <td>low</td>\n",
       "      <td>unacc</td>\n",
       "    </tr>\n",
       "    <tr>\n",
       "      <th>1</th>\n",
       "      <td>vhigh</td>\n",
       "      <td>vhigh</td>\n",
       "      <td>2</td>\n",
       "      <td>2</td>\n",
       "      <td>small</td>\n",
       "      <td>med</td>\n",
       "      <td>unacc</td>\n",
       "    </tr>\n",
       "    <tr>\n",
       "      <th>2</th>\n",
       "      <td>vhigh</td>\n",
       "      <td>vhigh</td>\n",
       "      <td>2</td>\n",
       "      <td>2</td>\n",
       "      <td>small</td>\n",
       "      <td>high</td>\n",
       "      <td>unacc</td>\n",
       "    </tr>\n",
       "    <tr>\n",
       "      <th>3</th>\n",
       "      <td>vhigh</td>\n",
       "      <td>vhigh</td>\n",
       "      <td>2</td>\n",
       "      <td>2</td>\n",
       "      <td>med</td>\n",
       "      <td>low</td>\n",
       "      <td>unacc</td>\n",
       "    </tr>\n",
       "    <tr>\n",
       "      <th>4</th>\n",
       "      <td>vhigh</td>\n",
       "      <td>vhigh</td>\n",
       "      <td>2</td>\n",
       "      <td>2</td>\n",
       "      <td>med</td>\n",
       "      <td>med</td>\n",
       "      <td>unacc</td>\n",
       "    </tr>\n",
       "    <tr>\n",
       "      <th>...</th>\n",
       "      <td>...</td>\n",
       "      <td>...</td>\n",
       "      <td>...</td>\n",
       "      <td>...</td>\n",
       "      <td>...</td>\n",
       "      <td>...</td>\n",
       "      <td>...</td>\n",
       "    </tr>\n",
       "    <tr>\n",
       "      <th>1723</th>\n",
       "      <td>low</td>\n",
       "      <td>low</td>\n",
       "      <td>5more</td>\n",
       "      <td>more</td>\n",
       "      <td>med</td>\n",
       "      <td>med</td>\n",
       "      <td>good</td>\n",
       "    </tr>\n",
       "    <tr>\n",
       "      <th>1724</th>\n",
       "      <td>low</td>\n",
       "      <td>low</td>\n",
       "      <td>5more</td>\n",
       "      <td>more</td>\n",
       "      <td>med</td>\n",
       "      <td>high</td>\n",
       "      <td>vgood</td>\n",
       "    </tr>\n",
       "    <tr>\n",
       "      <th>1725</th>\n",
       "      <td>low</td>\n",
       "      <td>low</td>\n",
       "      <td>5more</td>\n",
       "      <td>more</td>\n",
       "      <td>big</td>\n",
       "      <td>low</td>\n",
       "      <td>unacc</td>\n",
       "    </tr>\n",
       "    <tr>\n",
       "      <th>1726</th>\n",
       "      <td>low</td>\n",
       "      <td>low</td>\n",
       "      <td>5more</td>\n",
       "      <td>more</td>\n",
       "      <td>big</td>\n",
       "      <td>med</td>\n",
       "      <td>good</td>\n",
       "    </tr>\n",
       "    <tr>\n",
       "      <th>1727</th>\n",
       "      <td>low</td>\n",
       "      <td>low</td>\n",
       "      <td>5more</td>\n",
       "      <td>more</td>\n",
       "      <td>big</td>\n",
       "      <td>high</td>\n",
       "      <td>vgood</td>\n",
       "    </tr>\n",
       "  </tbody>\n",
       "</table>\n",
       "<p>1728 rows × 7 columns</p>\n",
       "</div>"
      ],
      "text/plain": [
       "     buying  maint  doors persons lug_boot safety  class\n",
       "0     vhigh  vhigh      2       2    small    low  unacc\n",
       "1     vhigh  vhigh      2       2    small    med  unacc\n",
       "2     vhigh  vhigh      2       2    small   high  unacc\n",
       "3     vhigh  vhigh      2       2      med    low  unacc\n",
       "4     vhigh  vhigh      2       2      med    med  unacc\n",
       "...     ...    ...    ...     ...      ...    ...    ...\n",
       "1723    low    low  5more    more      med    med   good\n",
       "1724    low    low  5more    more      med   high  vgood\n",
       "1725    low    low  5more    more      big    low  unacc\n",
       "1726    low    low  5more    more      big    med   good\n",
       "1727    low    low  5more    more      big   high  vgood\n",
       "\n",
       "[1728 rows x 7 columns]"
      ]
     },
     "execution_count": 49,
     "metadata": {},
     "output_type": "execute_result"
    }
   ],
   "source": [
    "df_car = pd.read_csv(\"data/car.data\", names=[\"buying\", \"maint\", \"doors\", \"persons\", \"lug_boot\", \"safety\", \"class\"])\n",
    "df_car"
   ]
  },
  {
   "attachments": {},
   "cell_type": "markdown",
   "metadata": {},
   "source": [
    "### Informations sur le dataset."
   ]
  },
  {
   "cell_type": "code",
   "execution_count": 50,
   "metadata": {},
   "outputs": [
    {
     "name": "stdout",
     "output_type": "stream",
     "text": [
      "<class 'pandas.core.frame.DataFrame'>\n",
      "RangeIndex: 1728 entries, 0 to 1727\n",
      "Data columns (total 7 columns):\n",
      " #   Column    Non-Null Count  Dtype \n",
      "---  ------    --------------  ----- \n",
      " 0   buying    1728 non-null   object\n",
      " 1   maint     1728 non-null   object\n",
      " 2   doors     1728 non-null   object\n",
      " 3   persons   1728 non-null   object\n",
      " 4   lug_boot  1728 non-null   object\n",
      " 5   safety    1728 non-null   object\n",
      " 6   class     1728 non-null   object\n",
      "dtypes: object(7)\n",
      "memory usage: 94.6+ KB\n"
     ]
    }
   ],
   "source": [
    "df_car.info()"
   ]
  },
  {
   "attachments": {},
   "cell_type": "markdown",
   "metadata": {},
   "source": [
    "## *Data visualization*."
   ]
  },
  {
   "attachments": {},
   "cell_type": "markdown",
   "metadata": {},
   "source": [
    "### Répartition des données en fonction des attributs."
   ]
  },
  {
   "cell_type": "code",
   "execution_count": 51,
   "metadata": {},
   "outputs": [
    {
     "data": {
      "image/png": "[encoded data removed]",
      "text/plain": [
       "<Figure size 1080x504 with 6 Axes>"
      ]
     },
     "metadata": {
      "needs_background": "light"
     },
     "output_type": "display_data"
    }
   ],
   "source": [
    "fig, ax = plt.subplots(2,3, figsize=(15, 7))\n",
    "sns.countplot(x = \"buying\", data = df_car, ax=ax[0,0])\n",
    "sns.countplot(x = \"maint\", data = df_car, ax=ax[0,1])\n",
    "sns.countplot(x = \"doors\", data = df_car, ax=ax[0,2])\n",
    "sns.countplot(x = \"persons\", data = df_car, ax=ax[1,0])\n",
    "sns.countplot(x = \"lug_boot\", data = df_car, ax=ax[1,1])\n",
    "sns.countplot(x = \"safety\", data = df_car, ax=ax[1,2])\n",
    "plt.show()"
   ]
  },
  {
   "attachments": {},
   "cell_type": "markdown",
   "metadata": {},
   "source": [
    "Les données sont réparties de manière équitables entre les différents attributs."
   ]
  },
  {
   "attachments": {},
   "cell_type": "markdown",
   "metadata": {},
   "source": [
    "### Répartition des données en fonction des classes."
   ]
  },
  {
   "cell_type": "code",
   "execution_count": 52,
   "metadata": {},
   "outputs": [
    {
     "data": {
      "image/png": "[encoded data removed]",
      "text/plain": [
       "<Figure size 432x288 with 1 Axes>"
      ]
     },
     "metadata": {
      "needs_background": "light"
     },
     "output_type": "display_data"
    }
   ],
   "source": [
    "sns.countplot(x = \"class\", data = df_car)\n",
    "plt.show()"
   ]
  },
  {
   "attachments": {},
   "cell_type": "markdown",
   "metadata": {},
   "source": [
    "Il y a une grande majorité de données ayant pour classe \"unacc\" à l'inverse des autres classes. Nous devons équilibrer cette répartition pour favoriser l'apprentissage de nos modèles."
   ]
  },
  {
   "attachments": {},
   "cell_type": "markdown",
   "metadata": {},
   "source": [
    "## *Data reduction*."
   ]
  },
  {
   "attachments": {},
   "cell_type": "markdown",
   "metadata": {},
   "source": [
    "### Reduction des données de la classe \"unacc\"."
   ]
  },
  {
   "cell_type": "code",
   "execution_count": 53,
   "metadata": {},
   "outputs": [
    {
     "data": {
      "text/html": [
       "<div>\n",
       "<style scoped>\n",
       "    .dataframe tbody tr th:only-of-type {\n",
       "        vertical-align: middle;\n",
       "    }\n",
       "\n",
       "    .dataframe tbody tr th {\n",
       "        vertical-align: top;\n",
       "    }\n",
       "\n",
       "    .dataframe thead th {\n",
       "        text-align: right;\n",
       "    }\n",
       "</style>\n",
       "<table border=\"1\" class=\"dataframe\">\n",
       "  <thead>\n",
       "    <tr style=\"text-align: right;\">\n",
       "      <th></th>\n",
       "      <th>buying</th>\n",
       "      <th>maint</th>\n",
       "      <th>doors</th>\n",
       "      <th>persons</th>\n",
       "      <th>lug_boot</th>\n",
       "      <th>safety</th>\n",
       "      <th>class</th>\n",
       "    </tr>\n",
       "  </thead>\n",
       "  <tbody>\n",
       "    <tr>\n",
       "      <th>511</th>\n",
       "      <td>high</td>\n",
       "      <td>vhigh</td>\n",
       "      <td>4</td>\n",
       "      <td>more</td>\n",
       "      <td>big</td>\n",
       "      <td>med</td>\n",
       "      <td>unacc</td>\n",
       "    </tr>\n",
       "    <tr>\n",
       "      <th>273</th>\n",
       "      <td>vhigh</td>\n",
       "      <td>med</td>\n",
       "      <td>4</td>\n",
       "      <td>2</td>\n",
       "      <td>med</td>\n",
       "      <td>low</td>\n",
       "      <td>unacc</td>\n",
       "    </tr>\n",
       "    <tr>\n",
       "      <th>1464</th>\n",
       "      <td>low</td>\n",
       "      <td>high</td>\n",
       "      <td>4</td>\n",
       "      <td>2</td>\n",
       "      <td>big</td>\n",
       "      <td>low</td>\n",
       "      <td>unacc</td>\n",
       "    </tr>\n",
       "    <tr>\n",
       "      <th>23</th>\n",
       "      <td>vhigh</td>\n",
       "      <td>vhigh</td>\n",
       "      <td>2</td>\n",
       "      <td>more</td>\n",
       "      <td>med</td>\n",
       "      <td>high</td>\n",
       "      <td>unacc</td>\n",
       "    </tr>\n",
       "    <tr>\n",
       "      <th>1309</th>\n",
       "      <td>low</td>\n",
       "      <td>vhigh</td>\n",
       "      <td>2</td>\n",
       "      <td>4</td>\n",
       "      <td>med</td>\n",
       "      <td>med</td>\n",
       "      <td>unacc</td>\n",
       "    </tr>\n",
       "    <tr>\n",
       "      <th>...</th>\n",
       "      <td>...</td>\n",
       "      <td>...</td>\n",
       "      <td>...</td>\n",
       "      <td>...</td>\n",
       "      <td>...</td>\n",
       "      <td>...</td>\n",
       "      <td>...</td>\n",
       "    </tr>\n",
       "    <tr>\n",
       "      <th>301</th>\n",
       "      <td>vhigh</td>\n",
       "      <td>med</td>\n",
       "      <td>5more</td>\n",
       "      <td>2</td>\n",
       "      <td>med</td>\n",
       "      <td>med</td>\n",
       "      <td>unacc</td>\n",
       "    </tr>\n",
       "    <tr>\n",
       "      <th>1163</th>\n",
       "      <td>med</td>\n",
       "      <td>med</td>\n",
       "      <td>5more</td>\n",
       "      <td>2</td>\n",
       "      <td>small</td>\n",
       "      <td>high</td>\n",
       "      <td>unacc</td>\n",
       "    </tr>\n",
       "    <tr>\n",
       "      <th>1455</th>\n",
       "      <td>low</td>\n",
       "      <td>high</td>\n",
       "      <td>3</td>\n",
       "      <td>more</td>\n",
       "      <td>big</td>\n",
       "      <td>low</td>\n",
       "      <td>unacc</td>\n",
       "    </tr>\n",
       "    <tr>\n",
       "      <th>1030</th>\n",
       "      <td>med</td>\n",
       "      <td>high</td>\n",
       "      <td>4</td>\n",
       "      <td>2</td>\n",
       "      <td>med</td>\n",
       "      <td>med</td>\n",
       "      <td>unacc</td>\n",
       "    </tr>\n",
       "    <tr>\n",
       "      <th>108</th>\n",
       "      <td>vhigh</td>\n",
       "      <td>high</td>\n",
       "      <td>2</td>\n",
       "      <td>2</td>\n",
       "      <td>small</td>\n",
       "      <td>low</td>\n",
       "      <td>unacc</td>\n",
       "    </tr>\n",
       "  </tbody>\n",
       "</table>\n",
       "<p>399 rows × 7 columns</p>\n",
       "</div>"
      ],
      "text/plain": [
       "     buying  maint  doors persons lug_boot safety  class\n",
       "511    high  vhigh      4    more      big    med  unacc\n",
       "273   vhigh    med      4       2      med    low  unacc\n",
       "1464    low   high      4       2      big    low  unacc\n",
       "23    vhigh  vhigh      2    more      med   high  unacc\n",
       "1309    low  vhigh      2       4      med    med  unacc\n",
       "...     ...    ...    ...     ...      ...    ...    ...\n",
       "301   vhigh    med  5more       2      med    med  unacc\n",
       "1163    med    med  5more       2    small   high  unacc\n",
       "1455    low   high      3    more      big    low  unacc\n",
       "1030    med   high      4       2      med    med  unacc\n",
       "108   vhigh   high      2       2    small    low  unacc\n",
       "\n",
       "[399 rows x 7 columns]"
      ]
     },
     "execution_count": 53,
     "metadata": {},
     "output_type": "execute_result"
    }
   ],
   "source": [
    "df_car_unacc = df_car[df_car[\"class\"] == \"unacc\"].sample(frac=0.33)\n",
    "df_car_unacc"
   ]
  },
  {
   "attachments": {},
   "cell_type": "markdown",
   "metadata": {},
   "source": [
    "### Répartition des données prises aléatoirement."
   ]
  },
  {
   "cell_type": "code",
   "execution_count": 54,
   "metadata": {},
   "outputs": [
    {
     "data": {
      "image/png": "[encoded data removed]",
      "text/plain": [
       "<Figure size 1080x504 with 6 Axes>"
      ]
     },
     "metadata": {
      "needs_background": "light"
     },
     "output_type": "display_data"
    }
   ],
   "source": [
    "fig, ax = plt.subplots(2,3, figsize=(15, 7))\n",
    "sns.countplot(x = \"buying\", data = df_car_unacc, ax=ax[0,0])\n",
    "sns.countplot(x = \"maint\", data = df_car_unacc, ax=ax[0,1])\n",
    "sns.countplot(x = \"doors\", data = df_car_unacc, ax=ax[0,2])\n",
    "sns.countplot(x = \"persons\", data = df_car_unacc, ax=ax[1,0])\n",
    "sns.countplot(x = \"lug_boot\", data = df_car_unacc, ax=ax[1,1])\n",
    "sns.countplot(x = \"safety\", data = df_car_unacc, ax=ax[1,2])\n",
    "plt.show()"
   ]
  },
  {
   "attachments": {},
   "cell_type": "markdown",
   "metadata": {},
   "source": [
    "### Construction du datset réduit."
   ]
  },
  {
   "cell_type": "code",
   "execution_count": 55,
   "metadata": {},
   "outputs": [
    {
     "data": {
      "text/html": [
       "<div>\n",
       "<style scoped>\n",
       "    .dataframe tbody tr th:only-of-type {\n",
       "        vertical-align: middle;\n",
       "    }\n",
       "\n",
       "    .dataframe tbody tr th {\n",
       "        vertical-align: top;\n",
       "    }\n",
       "\n",
       "    .dataframe thead th {\n",
       "        text-align: right;\n",
       "    }\n",
       "</style>\n",
       "<table border=\"1\" class=\"dataframe\">\n",
       "  <thead>\n",
       "    <tr style=\"text-align: right;\">\n",
       "      <th></th>\n",
       "      <th>buying</th>\n",
       "      <th>maint</th>\n",
       "      <th>doors</th>\n",
       "      <th>persons</th>\n",
       "      <th>lug_boot</th>\n",
       "      <th>safety</th>\n",
       "      <th>class</th>\n",
       "    </tr>\n",
       "  </thead>\n",
       "  <tbody>\n",
       "    <tr>\n",
       "      <th>0</th>\n",
       "      <td>high</td>\n",
       "      <td>vhigh</td>\n",
       "      <td>4</td>\n",
       "      <td>more</td>\n",
       "      <td>big</td>\n",
       "      <td>med</td>\n",
       "      <td>unacc</td>\n",
       "    </tr>\n",
       "    <tr>\n",
       "      <th>1</th>\n",
       "      <td>vhigh</td>\n",
       "      <td>med</td>\n",
       "      <td>4</td>\n",
       "      <td>2</td>\n",
       "      <td>med</td>\n",
       "      <td>low</td>\n",
       "      <td>unacc</td>\n",
       "    </tr>\n",
       "    <tr>\n",
       "      <th>2</th>\n",
       "      <td>low</td>\n",
       "      <td>high</td>\n",
       "      <td>4</td>\n",
       "      <td>2</td>\n",
       "      <td>big</td>\n",
       "      <td>low</td>\n",
       "      <td>unacc</td>\n",
       "    </tr>\n",
       "    <tr>\n",
       "      <th>3</th>\n",
       "      <td>vhigh</td>\n",
       "      <td>vhigh</td>\n",
       "      <td>2</td>\n",
       "      <td>more</td>\n",
       "      <td>med</td>\n",
       "      <td>high</td>\n",
       "      <td>unacc</td>\n",
       "    </tr>\n",
       "    <tr>\n",
       "      <th>4</th>\n",
       "      <td>low</td>\n",
       "      <td>vhigh</td>\n",
       "      <td>2</td>\n",
       "      <td>4</td>\n",
       "      <td>med</td>\n",
       "      <td>med</td>\n",
       "      <td>unacc</td>\n",
       "    </tr>\n",
       "    <tr>\n",
       "      <th>...</th>\n",
       "      <td>...</td>\n",
       "      <td>...</td>\n",
       "      <td>...</td>\n",
       "      <td>...</td>\n",
       "      <td>...</td>\n",
       "      <td>...</td>\n",
       "      <td>...</td>\n",
       "    </tr>\n",
       "    <tr>\n",
       "      <th>912</th>\n",
       "      <td>low</td>\n",
       "      <td>low</td>\n",
       "      <td>5more</td>\n",
       "      <td>more</td>\n",
       "      <td>small</td>\n",
       "      <td>high</td>\n",
       "      <td>good</td>\n",
       "    </tr>\n",
       "    <tr>\n",
       "      <th>913</th>\n",
       "      <td>low</td>\n",
       "      <td>low</td>\n",
       "      <td>5more</td>\n",
       "      <td>more</td>\n",
       "      <td>med</td>\n",
       "      <td>med</td>\n",
       "      <td>good</td>\n",
       "    </tr>\n",
       "    <tr>\n",
       "      <th>914</th>\n",
       "      <td>low</td>\n",
       "      <td>low</td>\n",
       "      <td>5more</td>\n",
       "      <td>more</td>\n",
       "      <td>med</td>\n",
       "      <td>high</td>\n",
       "      <td>vgood</td>\n",
       "    </tr>\n",
       "    <tr>\n",
       "      <th>915</th>\n",
       "      <td>low</td>\n",
       "      <td>low</td>\n",
       "      <td>5more</td>\n",
       "      <td>more</td>\n",
       "      <td>big</td>\n",
       "      <td>med</td>\n",
       "      <td>good</td>\n",
       "    </tr>\n",
       "    <tr>\n",
       "      <th>916</th>\n",
       "      <td>low</td>\n",
       "      <td>low</td>\n",
       "      <td>5more</td>\n",
       "      <td>more</td>\n",
       "      <td>big</td>\n",
       "      <td>high</td>\n",
       "      <td>vgood</td>\n",
       "    </tr>\n",
       "  </tbody>\n",
       "</table>\n",
       "<p>917 rows × 7 columns</p>\n",
       "</div>"
      ],
      "text/plain": [
       "    buying  maint  doors persons lug_boot safety  class\n",
       "0     high  vhigh      4    more      big    med  unacc\n",
       "1    vhigh    med      4       2      med    low  unacc\n",
       "2      low   high      4       2      big    low  unacc\n",
       "3    vhigh  vhigh      2    more      med   high  unacc\n",
       "4      low  vhigh      2       4      med    med  unacc\n",
       "..     ...    ...    ...     ...      ...    ...    ...\n",
       "912    low    low  5more    more    small   high   good\n",
       "913    low    low  5more    more      med    med   good\n",
       "914    low    low  5more    more      med   high  vgood\n",
       "915    low    low  5more    more      big    med   good\n",
       "916    low    low  5more    more      big   high  vgood\n",
       "\n",
       "[917 rows x 7 columns]"
      ]
     },
     "execution_count": 55,
     "metadata": {},
     "output_type": "execute_result"
    }
   ],
   "source": [
    "df_car_sans_unacc = df_car[df_car[\"class\"] != \"unacc\"]\n",
    "df_car_reduc = pd.concat([df_car_unacc, df_car_sans_unacc], axis=0)\n",
    "df_car_reduc = df_car_reduc.reset_index(drop=True)\n",
    "df_car_reduc"
   ]
  },
  {
   "attachments": {},
   "cell_type": "markdown",
   "metadata": {},
   "source": [
    "### Suppression des classes vgood et good.\n",
    "Il y a trop peu des données dans ces classes pour faire de la data augmentations. Nous décidons de les supprimer."
   ]
  },
  {
   "cell_type": "code",
   "execution_count": 56,
   "metadata": {},
   "outputs": [
    {
     "data": {
      "text/html": [
       "<div>\n",
       "<style scoped>\n",
       "    .dataframe tbody tr th:only-of-type {\n",
       "        vertical-align: middle;\n",
       "    }\n",
       "\n",
       "    .dataframe tbody tr th {\n",
       "        vertical-align: top;\n",
       "    }\n",
       "\n",
       "    .dataframe thead th {\n",
       "        text-align: right;\n",
       "    }\n",
       "</style>\n",
       "<table border=\"1\" class=\"dataframe\">\n",
       "  <thead>\n",
       "    <tr style=\"text-align: right;\">\n",
       "      <th></th>\n",
       "      <th>buying</th>\n",
       "      <th>maint</th>\n",
       "      <th>doors</th>\n",
       "      <th>persons</th>\n",
       "      <th>lug_boot</th>\n",
       "      <th>safety</th>\n",
       "      <th>class</th>\n",
       "    </tr>\n",
       "  </thead>\n",
       "  <tbody>\n",
       "    <tr>\n",
       "      <th>0</th>\n",
       "      <td>high</td>\n",
       "      <td>vhigh</td>\n",
       "      <td>4</td>\n",
       "      <td>more</td>\n",
       "      <td>big</td>\n",
       "      <td>med</td>\n",
       "      <td>unacc</td>\n",
       "    </tr>\n",
       "    <tr>\n",
       "      <th>1</th>\n",
       "      <td>vhigh</td>\n",
       "      <td>med</td>\n",
       "      <td>4</td>\n",
       "      <td>2</td>\n",
       "      <td>med</td>\n",
       "      <td>low</td>\n",
       "      <td>unacc</td>\n",
       "    </tr>\n",
       "    <tr>\n",
       "      <th>2</th>\n",
       "      <td>low</td>\n",
       "      <td>high</td>\n",
       "      <td>4</td>\n",
       "      <td>2</td>\n",
       "      <td>big</td>\n",
       "      <td>low</td>\n",
       "      <td>unacc</td>\n",
       "    </tr>\n",
       "    <tr>\n",
       "      <th>3</th>\n",
       "      <td>vhigh</td>\n",
       "      <td>vhigh</td>\n",
       "      <td>2</td>\n",
       "      <td>more</td>\n",
       "      <td>med</td>\n",
       "      <td>high</td>\n",
       "      <td>unacc</td>\n",
       "    </tr>\n",
       "    <tr>\n",
       "      <th>4</th>\n",
       "      <td>low</td>\n",
       "      <td>vhigh</td>\n",
       "      <td>2</td>\n",
       "      <td>4</td>\n",
       "      <td>med</td>\n",
       "      <td>med</td>\n",
       "      <td>unacc</td>\n",
       "    </tr>\n",
       "    <tr>\n",
       "      <th>...</th>\n",
       "      <td>...</td>\n",
       "      <td>...</td>\n",
       "      <td>...</td>\n",
       "      <td>...</td>\n",
       "      <td>...</td>\n",
       "      <td>...</td>\n",
       "      <td>...</td>\n",
       "    </tr>\n",
       "    <tr>\n",
       "      <th>778</th>\n",
       "      <td>low</td>\n",
       "      <td>low</td>\n",
       "      <td>3</td>\n",
       "      <td>more</td>\n",
       "      <td>small</td>\n",
       "      <td>med</td>\n",
       "      <td>acc</td>\n",
       "    </tr>\n",
       "    <tr>\n",
       "      <th>779</th>\n",
       "      <td>low</td>\n",
       "      <td>low</td>\n",
       "      <td>4</td>\n",
       "      <td>4</td>\n",
       "      <td>small</td>\n",
       "      <td>med</td>\n",
       "      <td>acc</td>\n",
       "    </tr>\n",
       "    <tr>\n",
       "      <th>780</th>\n",
       "      <td>low</td>\n",
       "      <td>low</td>\n",
       "      <td>4</td>\n",
       "      <td>more</td>\n",
       "      <td>small</td>\n",
       "      <td>med</td>\n",
       "      <td>acc</td>\n",
       "    </tr>\n",
       "    <tr>\n",
       "      <th>781</th>\n",
       "      <td>low</td>\n",
       "      <td>low</td>\n",
       "      <td>5more</td>\n",
       "      <td>4</td>\n",
       "      <td>small</td>\n",
       "      <td>med</td>\n",
       "      <td>acc</td>\n",
       "    </tr>\n",
       "    <tr>\n",
       "      <th>782</th>\n",
       "      <td>low</td>\n",
       "      <td>low</td>\n",
       "      <td>5more</td>\n",
       "      <td>more</td>\n",
       "      <td>small</td>\n",
       "      <td>med</td>\n",
       "      <td>acc</td>\n",
       "    </tr>\n",
       "  </tbody>\n",
       "</table>\n",
       "<p>783 rows × 7 columns</p>\n",
       "</div>"
      ],
      "text/plain": [
       "    buying  maint  doors persons lug_boot safety  class\n",
       "0     high  vhigh      4    more      big    med  unacc\n",
       "1    vhigh    med      4       2      med    low  unacc\n",
       "2      low   high      4       2      big    low  unacc\n",
       "3    vhigh  vhigh      2    more      med   high  unacc\n",
       "4      low  vhigh      2       4      med    med  unacc\n",
       "..     ...    ...    ...     ...      ...    ...    ...\n",
       "778    low    low      3    more    small    med    acc\n",
       "779    low    low      4       4    small    med    acc\n",
       "780    low    low      4    more    small    med    acc\n",
       "781    low    low  5more       4    small    med    acc\n",
       "782    low    low  5more    more    small    med    acc\n",
       "\n",
       "[783 rows x 7 columns]"
      ]
     },
     "execution_count": 56,
     "metadata": {},
     "output_type": "execute_result"
    }
   ],
   "source": [
    "reduc_classes = [\"unacc\", \"acc\"]\n",
    "df_car_reduc = df_car_reduc[df_car_reduc[\"class\"].isin(reduc_classes)]\n",
    "df_car_reduc = df_car_reduc.reset_index(drop=True)\n",
    "df_car = df_car_reduc\n",
    "df_car"
   ]
  },
  {
   "attachments": {},
   "cell_type": "markdown",
   "metadata": {},
   "source": [
    "### Nouvelle répartition des classes."
   ]
  },
  {
   "cell_type": "code",
   "execution_count": 57,
   "metadata": {},
   "outputs": [
    {
     "data": {
      "image/png": "[encoded data removed]",
      "text/plain": [
       "<Figure size 432x288 with 1 Axes>"
      ]
     },
     "metadata": {
      "needs_background": "light"
     },
     "output_type": "display_data"
    }
   ],
   "source": [
    "sns.countplot(x = \"class\", data = df_car)\n",
    "plt.show()"
   ]
  },
  {
   "attachments": {},
   "cell_type": "markdown",
   "metadata": {},
   "source": [
    "### *features selection*"
   ]
  },
  {
   "attachments": {},
   "cell_type": "markdown",
   "metadata": {},
   "source": [
    "Via *Reduct*"
   ]
  },
  {
   "cell_type": "code",
   "execution_count": 58,
   "metadata": {},
   "outputs": [
    {
     "name": "stdout",
     "output_type": "stream",
     "text": [
      "pos_c [0, 1, 2, 3, 4, 5, 6, 7, 8, 9, 10, 11, 12, 13, 14, 15, 16, 17, 18, 19, 20, 21, 22, 23, 24, 25, 26, 27, 28, 29, 30, 31, 32, 33, 34, 35, 36, 37, 38, 39, 40, 41, 42, 43, 44, 45, 46, 47, 48, 49, 50, 51, 52, 53, 54, 55, 56, 57, 58, 59, 60, 61, 62, 63, 64, 65, 66, 67, 68, 69, 70, 71, 72, 73, 74, 75, 76, 77, 78, 79, 80, 81, 82, 83, 84, 85, 86, 87, 88, 89, 90, 91, 92, 93, 94, 95, 96, 97, 98, 99, 100, 101, 102, 103, 104, 105, 106, 107, 108, 109, 110, 111, 112, 113, 114, 115, 116, 117, 118, 119, 120, 121, 122, 123, 124, 125, 126, 127, 128, 129, 130, 131, 132, 133, 134, 135, 136, 137, 138, 139, 140, 141, 142, 143, 144, 145, 146, 147, 148, 149, 150, 151, 152, 153, 154, 155, 156, 157, 158, 159, 160, 161, 162, 163, 164, 165, 166, 167, 168, 169, 170, 171, 172, 173, 174, 175, 176, 177, 178, 179, 180, 181, 182, 183, 184, 185, 186, 187, 188, 189, 190, 191, 192, 193, 194, 195, 196, 197, 198, 199, 200, 201, 202, 203, 204, 205, 206, 207, 208, 209, 210, 211, 212, 213, 214, 215, 216, 217, 218, 219, 220, 221, 222, 223, 224, 225, 226, 227, 228, 229, 230, 231, 232, 233, 234, 235, 236, 237, 238, 239, 240, 241, 242, 243, 244, 245, 246, 247, 248, 249, 250, 251, 252, 253, 254, 255, 256, 257, 258, 259, 260, 261, 262, 263, 264, 265, 266, 267, 268, 269, 270, 271, 272, 273, 274, 275, 276, 277, 278, 279, 280, 281, 282, 283, 284, 285, 286, 287, 288, 289, 290, 291, 292, 293, 294, 295, 296, 297, 298, 299, 300, 301, 302, 303, 304, 305, 306, 307, 308, 309, 310, 311, 312, 313, 314, 315, 316, 317, 318, 319, 320, 321, 322, 323, 324, 325, 326, 327, 328, 329, 330, 331, 332, 333, 334, 335, 336, 337, 338, 339, 340, 341, 342, 343, 344, 345, 346, 347, 348, 349, 350, 351, 352, 353, 354, 355, 356, 357, 358, 359, 360, 361, 362, 363, 364, 365, 366, 367, 368, 369, 370, 371, 372, 373, 374, 375, 376, 377, 378, 379, 380, 381, 382, 383, 384, 385, 386, 387, 388, 389, 390, 391, 392, 393, 394, 395, 396, 397, 398, 399, 400, 401, 402, 403, 404, 405, 406, 407, 408, 409, 410, 411, 412, 413, 414, 415, 416, 417, 418, 419, 420, 421, 422, 423, 424, 425, 426, 427, 428, 429, 430, 431, 432, 433, 434, 435, 436, 437, 438, 439, 440, 441, 442, 443, 444, 445, 446, 447, 448, 449, 450, 451, 452, 453, 454, 455, 456, 457, 458, 459, 460, 461, 462, 463, 464, 465, 466, 467, 468, 469, 470, 471, 472, 473, 474, 475, 476, 477, 478, 479, 480, 481, 482, 483, 484, 485, 486, 487, 488, 489, 490, 491, 492, 493, 494, 495, 496, 497, 498, 499, 500, 501, 502, 503, 504, 505, 506, 507, 508, 509, 510, 511, 512, 513, 514, 515, 516, 517, 518, 519, 520, 521, 522, 523, 524, 525, 526, 527, 528, 529, 530, 531, 532, 533, 534, 535, 536, 537, 538, 539, 540, 541, 542, 543, 544, 545, 546, 547, 548, 549, 550, 551, 552, 553, 554, 555, 556, 557, 558, 559, 560, 561, 562, 563, 564, 565, 566, 567, 568, 569, 570, 571, 572, 573, 574, 575, 576, 577, 578, 579, 580, 581, 582, 583, 584, 585, 586, 587, 588, 589, 590, 591, 592, 593, 594, 595, 596, 597, 598, 599, 600, 601, 602, 603, 604, 605, 606, 607, 608, 609, 610, 611, 612, 613, 614, 615, 616, 617, 618, 619, 620, 621, 622, 623, 624, 625, 626, 627, 628, 629, 630, 631, 632, 633, 634, 635, 636, 637, 638, 639, 640, 641, 642, 643, 644, 645, 646, 647, 648, 649, 650, 651, 652, 653, 654, 655, 656, 657, 658, 659, 660, 661, 662, 663, 664, 665, 666, 667, 668, 669, 670, 671, 672, 673, 674, 675, 676, 677, 678, 679, 680, 681, 682, 683, 684, 685, 686, 687, 688, 689, 690, 691, 692, 693, 694, 695, 696, 697, 698, 699, 700, 701, 702, 703, 704, 705, 706, 707, 708, 709, 710, 711, 712, 713, 714, 715, 716, 717, 718, 719, 720, 721, 722, 723, 724, 725, 726, 727, 728, 729, 730, 731, 732, 733, 734, 735, 736, 737, 738, 739, 740, 741, 742, 743, 744, 745, 746, 747, 748, 749, 750, 751, 752, 753, 754, 755, 756, 757, 758, 759, 760, 761, 762, 763, 764, 765, 766, 767, 768, 769, 770, 771, 772, 773, 774, 775, 776, 777, 778, 779, 780, 781, 782]\n",
      "POS(['buying']) = []\n",
      "POS(['maint']) = []\n",
      "POS(['doors']) = []\n",
      "POS(['persons']) = [1, 2, 5, 6, 8, 10, 12, 15, 16, 19, 21, 24, 25, 26, 28, 29, 30, 31, 32, 33, 34, 45, 49, 52, 58, 59, 60, 62, 66, 68, 69, 71, 72, 73, 74, 75, 78, 79, 80, 81, 82, 83, 84, 90, 91, 93, 94, 95, 97, 98, 99, 102, 104, 105, 106, 107, 111, 112, 113, 115, 117, 118, 119, 126, 127, 131, 132, 133, 134, 139, 140, 141, 142, 143, 144, 149, 150, 151, 155, 158, 164, 169, 170, 171, 173, 177, 180, 184, 185, 193, 194, 196, 200, 207, 209, 211, 212, 213, 215, 219, 220, 222, 223, 230, 232, 235, 238, 240, 242, 246, 247, 248, 249, 250, 252, 253, 255, 257, 258, 263, 264, 270, 272, 273, 274, 279, 280, 281, 284, 285, 286, 287, 288, 289, 290, 292, 294, 296, 297, 302, 303, 305, 307, 311, 312, 315, 317, 318, 321, 324, 325, 328, 329, 330, 332, 334, 335, 337, 338, 341, 344, 348, 349, 351, 353, 354, 359, 361, 366, 369, 370, 371, 372, 374, 375, 376, 377, 378, 385, 390, 391, 392, 393, 394, 395, 397, 398]\n",
      "POS(['lug_boot']) = []\n",
      "POS(['safety']) = [1, 2, 7, 9, 10, 11, 14, 16, 18, 20, 22, 25, 26, 27, 32, 35, 37, 38, 40, 41, 42, 43, 46, 47, 48, 50, 53, 54, 55, 57, 61, 67, 70, 72, 74, 75, 76, 78, 80, 81, 83, 86, 90, 91, 92, 93, 96, 100, 102, 105, 106, 110, 112, 113, 114, 118, 121, 122, 125, 128, 129, 131, 132, 133, 136, 137, 139, 144, 147, 148, 151, 154, 156, 158, 159, 161, 163, 165, 168, 174, 175, 177, 178, 179, 181, 182, 183, 185, 186, 188, 189, 190, 191, 192, 195, 196, 198, 201, 203, 204, 208, 211, 213, 214, 216, 218, 219, 221, 222, 224, 225, 226, 227, 228, 231, 233, 234, 236, 237, 239, 241, 243, 246, 248, 254, 255, 256, 258, 260, 264, 265, 268, 269, 270, 271, 275, 278, 282, 283, 285, 286, 291, 293, 295, 298, 299, 301, 303, 311, 313, 315, 316, 318, 322, 323, 325, 326, 327, 331, 333, 335, 339, 340, 341, 342, 343, 345, 346, 348, 349, 350, 351, 356, 357, 358, 360, 361, 364, 365, 366, 367, 372, 373, 377, 379, 380, 381, 383, 386, 387, 389, 390, 392, 396, 398]\n",
      "POS(['buying', 'maint']) = [0, 3, 11, 12, 13, 17, 18, 21, 23, 24, 29, 39, 40, 42, 54, 56, 57, 63, 65, 66, 72, 73, 75, 77, 79, 82, 85, 89, 93, 101, 102, 103, 105, 106, 108, 114, 120, 122, 123, 134, 137, 138, 139, 145, 146, 149, 152, 153, 157, 160, 162, 167, 171, 172, 179, 180, 181, 187, 197, 199, 201, 202, 203, 206, 207, 210, 217, 221, 225, 228, 230, 251, 257, 258, 259, 260, 262, 267, 268, 274, 275, 281, 282, 296, 300, 301, 303, 304, 306, 308, 310, 315, 319, 322, 323, 325, 336, 341, 347, 350, 351, 362, 363, 364, 368, 369, 374, 378, 381, 382, 384, 388, 389, 392, 393, 398]\n",
      "POS(['buying', 'doors']) = []\n",
      "POS(['buying', 'persons']) = [1, 2, 5, 6, 8, 10, 12, 15, 16, 19, 21, 24, 25, 26, 28, 29, 30, 31, 32, 33, 34, 45, 49, 52, 58, 59, 60, 62, 66, 68, 69, 71, 72, 73, 74, 75, 78, 79, 80, 81, 82, 83, 84, 90, 91, 93, 94, 95, 97, 98, 99, 102, 104, 105, 106, 107, 111, 112, 113, 115, 117, 118, 119, 126, 127, 131, 132, 133, 134, 139, 140, 141, 142, 143, 144, 149, 150, 151, 155, 158, 164, 169, 170, 171, 173, 177, 180, 184, 185, 193, 194, 196, 200, 207, 209, 211, 212, 213, 215, 219, 220, 222, 223, 230, 232, 235, 238, 240, 242, 246, 247, 248, 249, 250, 252, 253, 255, 257, 258, 263, 264, 270, 272, 273, 274, 279, 280, 281, 284, 285, 286, 287, 288, 289, 290, 292, 294, 296, 297, 302, 303, 305, 307, 311, 312, 315, 317, 318, 321, 324, 325, 328, 329, 330, 332, 334, 335, 337, 338, 341, 344, 348, 349, 351, 353, 354, 359, 361, 366, 369, 370, 371, 372, 374, 375, 376, 377, 378, 385, 390, 391, 392, 393, 394, 395, 397, 398]\n"
     ]
    },
    {
     "ename": "KeyboardInterrupt",
     "evalue": "",
     "output_type": "error",
     "traceback": [
      "\u001b[1;31m---------------------------------------------------------------------------\u001b[0m",
      "\u001b[1;31mKeyboardInterrupt\u001b[0m                         Traceback (most recent call last)",
      "\u001b[1;32md:\\Mickael\\Cours\\UVSQ\\M2\\S2\\projet_conception_et_programmation\\src\\notebook.ipynb Cellule 142\u001b[0m in \u001b[0;36m<cell line: 1>\u001b[1;34m()\u001b[0m\n\u001b[1;32m----> <a href='vscode-notebook-cell:/d%3A/Mickael/Cours/UVSQ/M2/S2/projet_conception_et_programmation/src/notebook.ipynb#Y455sZmlsZQ%3D%3D?line=0'>1</a>\u001b[0m reduct(df_car, \u001b[39m\"\u001b[39;49m\u001b[39mclass\u001b[39;49m\u001b[39m\"\u001b[39;49m)\n",
      "\u001b[1;32md:\\Mickael\\Cours\\UVSQ\\M2\\S2\\projet_conception_et_programmation\\src\\notebook.ipynb Cellule 142\u001b[0m in \u001b[0;36mreduct\u001b[1;34m(DS, d)\u001b[0m\n\u001b[0;32m     <a href='vscode-notebook-cell:/d%3A/Mickael/Cours/UVSQ/M2/S2/projet_conception_et_programmation/src/notebook.ipynb#Y455sZmlsZQ%3D%3D?line=15'>16</a>\u001b[0m liste_combi \u001b[39m=\u001b[39m \u001b[39mlist\u001b[39m(combi)\n\u001b[0;32m     <a href='vscode-notebook-cell:/d%3A/Mickael/Cours/UVSQ/M2/S2/projet_conception_et_programmation/src/notebook.ipynb#Y455sZmlsZQ%3D%3D?line=16'>17</a>\u001b[0m \u001b[39mif\u001b[39;00m liste_combi \u001b[39m!=\u001b[39m C:\n\u001b[1;32m---> <a href='vscode-notebook-cell:/d%3A/Mickael/Cours/UVSQ/M2/S2/projet_conception_et_programmation/src/notebook.ipynb#Y455sZmlsZQ%3D%3D?line=17'>18</a>\u001b[0m \tpos \u001b[39m=\u001b[39m POS(DS, d, liste_combi)\n\u001b[0;32m     <a href='vscode-notebook-cell:/d%3A/Mickael/Cours/UVSQ/M2/S2/projet_conception_et_programmation/src/notebook.ipynb#Y455sZmlsZQ%3D%3D?line=18'>19</a>\u001b[0m \t\u001b[39mprint\u001b[39m(\u001b[39m\"\u001b[39m\u001b[39mPOS(\u001b[39m\u001b[39m{}\u001b[39;00m\u001b[39m) = \u001b[39m\u001b[39m{}\u001b[39;00m\u001b[39m\"\u001b[39m\u001b[39m.\u001b[39mformat(liste_combi, pos))\n\u001b[0;32m     <a href='vscode-notebook-cell:/d%3A/Mickael/Cours/UVSQ/M2/S2/projet_conception_et_programmation/src/notebook.ipynb#Y455sZmlsZQ%3D%3D?line=19'>20</a>\u001b[0m \t\u001b[39mif\u001b[39;00m pos \u001b[39m==\u001b[39m pos_c:\n",
      "\u001b[1;32md:\\Mickael\\Cours\\UVSQ\\M2\\S2\\projet_conception_et_programmation\\src\\notebook.ipynb Cellule 142\u001b[0m in \u001b[0;36mPOS\u001b[1;34m(DS, d, C)\u001b[0m\n\u001b[0;32m     <a href='vscode-notebook-cell:/d%3A/Mickael/Cours/UVSQ/M2/S2/projet_conception_et_programmation/src/notebook.ipynb#Y455sZmlsZQ%3D%3D?line=16'>17</a>\u001b[0m POS \u001b[39m=\u001b[39m []\n\u001b[0;32m     <a href='vscode-notebook-cell:/d%3A/Mickael/Cours/UVSQ/M2/S2/projet_conception_et_programmation/src/notebook.ipynb#Y455sZmlsZQ%3D%3D?line=17'>18</a>\u001b[0m \u001b[39mfor\u001b[39;00m d_value \u001b[39min\u001b[39;00m d_values:\n\u001b[1;32m---> <a href='vscode-notebook-cell:/d%3A/Mickael/Cours/UVSQ/M2/S2/projet_conception_et_programmation/src/notebook.ipynb#Y455sZmlsZQ%3D%3D?line=18'>19</a>\u001b[0m \tPOS \u001b[39m+\u001b[39m\u001b[39m=\u001b[39m b_lower(ds, ind, d, d_value)\n\u001b[0;32m     <a href='vscode-notebook-cell:/d%3A/Mickael/Cours/UVSQ/M2/S2/projet_conception_et_programmation/src/notebook.ipynb#Y455sZmlsZQ%3D%3D?line=19'>20</a>\u001b[0m POS\u001b[39m.\u001b[39msort()\n\u001b[0;32m     <a href='vscode-notebook-cell:/d%3A/Mickael/Cours/UVSQ/M2/S2/projet_conception_et_programmation/src/notebook.ipynb#Y455sZmlsZQ%3D%3D?line=20'>21</a>\u001b[0m \u001b[39mreturn\u001b[39;00m POS\n",
      "\u001b[1;32md:\\Mickael\\Cours\\UVSQ\\M2\\S2\\projet_conception_et_programmation\\src\\notebook.ipynb Cellule 142\u001b[0m in \u001b[0;36mb_lower\u001b[1;34m(DS, ind_c, d, d_value)\u001b[0m\n\u001b[0;32m     <a href='vscode-notebook-cell:/d%3A/Mickael/Cours/UVSQ/M2/S2/projet_conception_et_programmation/src/notebook.ipynb#Y455sZmlsZQ%3D%3D?line=26'>27</a>\u001b[0m \u001b[39mif\u001b[39;00m \u001b[39mlen\u001b[39m(idc_obj) \u001b[39m!=\u001b[39m \u001b[39m0\u001b[39m:\n\u001b[0;32m     <a href='vscode-notebook-cell:/d%3A/Mickael/Cours/UVSQ/M2/S2/projet_conception_et_programmation/src/notebook.ipynb#Y455sZmlsZQ%3D%3D?line=27'>28</a>\u001b[0m \t\u001b[39mfor\u001b[39;00m index_obj2 \u001b[39min\u001b[39;00m idc_obj:\n\u001b[0;32m     <a href='vscode-notebook-cell:/d%3A/Mickael/Cours/UVSQ/M2/S2/projet_conception_et_programmation/src/notebook.ipynb#Y455sZmlsZQ%3D%3D?line=28'>29</a>\u001b[0m \t\t\u001b[39m# On récupère la décision des objets.\u001b[39;00m\n\u001b[1;32m---> <a href='vscode-notebook-cell:/d%3A/Mickael/Cours/UVSQ/M2/S2/projet_conception_et_programmation/src/notebook.ipynb#Y455sZmlsZQ%3D%3D?line=29'>30</a>\u001b[0m \t\tobj_d \u001b[39m=\u001b[39m DS[DS\u001b[39m.\u001b[39;49mindex \u001b[39m==\u001b[39;49m index_obj2][d]\u001b[39m.\u001b[39miloc[\u001b[39m0\u001b[39m]\n\u001b[0;32m     <a href='vscode-notebook-cell:/d%3A/Mickael/Cours/UVSQ/M2/S2/projet_conception_et_programmation/src/notebook.ipynb#Y455sZmlsZQ%3D%3D?line=30'>31</a>\u001b[0m \t\tobj2_d \u001b[39m=\u001b[39m DS[DS\u001b[39m.\u001b[39mindex \u001b[39m==\u001b[39m index][d]\u001b[39m.\u001b[39miloc[\u001b[39m0\u001b[39m]\n\u001b[0;32m     <a href='vscode-notebook-cell:/d%3A/Mickael/Cours/UVSQ/M2/S2/projet_conception_et_programmation/src/notebook.ipynb#Y455sZmlsZQ%3D%3D?line=32'>33</a>\u001b[0m \t\t\u001b[39mif\u001b[39;00m obj_d \u001b[39m!=\u001b[39m obj2_d:\n",
      "File \u001b[1;32md:\\Programmation\\anaconda\\lib\\site-packages\\pandas\\core\\frame.py:3496\u001b[0m, in \u001b[0;36mDataFrame.__getitem__\u001b[1;34m(self, key)\u001b[0m\n\u001b[0;32m   3494\u001b[0m \u001b[39m# Do we have a (boolean) 1d indexer?\u001b[39;00m\n\u001b[0;32m   3495\u001b[0m \u001b[39mif\u001b[39;00m com\u001b[39m.\u001b[39mis_bool_indexer(key):\n\u001b[1;32m-> 3496\u001b[0m     \u001b[39mreturn\u001b[39;00m \u001b[39mself\u001b[39;49m\u001b[39m.\u001b[39;49m_getitem_bool_array(key)\n\u001b[0;32m   3498\u001b[0m \u001b[39m# We are left with two options: a single key, and a collection of keys,\u001b[39;00m\n\u001b[0;32m   3499\u001b[0m \u001b[39m# We interpret tuples as collections only for non-MultiIndex\u001b[39;00m\n\u001b[0;32m   3500\u001b[0m is_single_key \u001b[39m=\u001b[39m \u001b[39misinstance\u001b[39m(key, \u001b[39mtuple\u001b[39m) \u001b[39mor\u001b[39;00m \u001b[39mnot\u001b[39;00m is_list_like(key)\n",
      "File \u001b[1;32md:\\Programmation\\anaconda\\lib\\site-packages\\pandas\\core\\frame.py:3551\u001b[0m, in \u001b[0;36mDataFrame._getitem_bool_array\u001b[1;34m(self, key)\u001b[0m\n\u001b[0;32m   3549\u001b[0m key \u001b[39m=\u001b[39m check_bool_indexer(\u001b[39mself\u001b[39m\u001b[39m.\u001b[39mindex, key)\n\u001b[0;32m   3550\u001b[0m indexer \u001b[39m=\u001b[39m key\u001b[39m.\u001b[39mnonzero()[\u001b[39m0\u001b[39m]\n\u001b[1;32m-> 3551\u001b[0m \u001b[39mreturn\u001b[39;00m \u001b[39mself\u001b[39;49m\u001b[39m.\u001b[39;49m_take_with_is_copy(indexer, axis\u001b[39m=\u001b[39;49m\u001b[39m0\u001b[39;49m)\n",
      "File \u001b[1;32md:\\Programmation\\anaconda\\lib\\site-packages\\pandas\\core\\generic.py:3716\u001b[0m, in \u001b[0;36mNDFrame._take_with_is_copy\u001b[1;34m(self, indices, axis)\u001b[0m\n\u001b[0;32m   3708\u001b[0m \u001b[39mdef\u001b[39;00m \u001b[39m_take_with_is_copy\u001b[39m(\u001b[39mself\u001b[39m: NDFrameT, indices, axis\u001b[39m=\u001b[39m\u001b[39m0\u001b[39m) \u001b[39m-\u001b[39m\u001b[39m>\u001b[39m NDFrameT:\n\u001b[0;32m   3709\u001b[0m     \u001b[39m\"\"\"\u001b[39;00m\n\u001b[0;32m   3710\u001b[0m \u001b[39m    Internal version of the `take` method that sets the `_is_copy`\u001b[39;00m\n\u001b[0;32m   3711\u001b[0m \u001b[39m    attribute to keep track of the parent dataframe (using in indexing\u001b[39;00m\n\u001b[1;32m   (...)\u001b[0m\n\u001b[0;32m   3714\u001b[0m \u001b[39m    See the docstring of `take` for full explanation of the parameters.\u001b[39;00m\n\u001b[0;32m   3715\u001b[0m \u001b[39m    \"\"\"\u001b[39;00m\n\u001b[1;32m-> 3716\u001b[0m     result \u001b[39m=\u001b[39m \u001b[39mself\u001b[39;49m\u001b[39m.\u001b[39;49mtake(indices\u001b[39m=\u001b[39;49mindices, axis\u001b[39m=\u001b[39;49maxis)\n\u001b[0;32m   3717\u001b[0m     \u001b[39m# Maybe set copy if we didn't actually change the index.\u001b[39;00m\n\u001b[0;32m   3718\u001b[0m     \u001b[39mif\u001b[39;00m \u001b[39mnot\u001b[39;00m result\u001b[39m.\u001b[39m_get_axis(axis)\u001b[39m.\u001b[39mequals(\u001b[39mself\u001b[39m\u001b[39m.\u001b[39m_get_axis(axis)):\n",
      "File \u001b[1;32md:\\Programmation\\anaconda\\lib\\site-packages\\pandas\\core\\generic.py:3703\u001b[0m, in \u001b[0;36mNDFrame.take\u001b[1;34m(self, indices, axis, is_copy, **kwargs)\u001b[0m\n\u001b[0;32m   3699\u001b[0m nv\u001b[39m.\u001b[39mvalidate_take((), kwargs)\n\u001b[0;32m   3701\u001b[0m \u001b[39mself\u001b[39m\u001b[39m.\u001b[39m_consolidate_inplace()\n\u001b[1;32m-> 3703\u001b[0m new_data \u001b[39m=\u001b[39m \u001b[39mself\u001b[39;49m\u001b[39m.\u001b[39;49m_mgr\u001b[39m.\u001b[39;49mtake(\n\u001b[0;32m   3704\u001b[0m     indices, axis\u001b[39m=\u001b[39;49m\u001b[39mself\u001b[39;49m\u001b[39m.\u001b[39;49m_get_block_manager_axis(axis), verify\u001b[39m=\u001b[39;49m\u001b[39mTrue\u001b[39;49;00m\n\u001b[0;32m   3705\u001b[0m )\n\u001b[0;32m   3706\u001b[0m \u001b[39mreturn\u001b[39;00m \u001b[39mself\u001b[39m\u001b[39m.\u001b[39m_constructor(new_data)\u001b[39m.\u001b[39m__finalize__(\u001b[39mself\u001b[39m, method\u001b[39m=\u001b[39m\u001b[39m\"\u001b[39m\u001b[39mtake\u001b[39m\u001b[39m\"\u001b[39m)\n",
      "File \u001b[1;32md:\\Programmation\\anaconda\\lib\\site-packages\\pandas\\core\\internals\\managers.py:899\u001b[0m, in \u001b[0;36mBaseBlockManager.take\u001b[1;34m(self, indexer, axis, verify)\u001b[0m\n\u001b[0;32m    896\u001b[0m n \u001b[39m=\u001b[39m \u001b[39mself\u001b[39m\u001b[39m.\u001b[39mshape[axis]\n\u001b[0;32m    897\u001b[0m indexer \u001b[39m=\u001b[39m maybe_convert_indices(indexer, n, verify\u001b[39m=\u001b[39mverify)\n\u001b[1;32m--> 899\u001b[0m new_labels \u001b[39m=\u001b[39m \u001b[39mself\u001b[39;49m\u001b[39m.\u001b[39;49maxes[axis]\u001b[39m.\u001b[39;49mtake(indexer)\n\u001b[0;32m    900\u001b[0m \u001b[39mreturn\u001b[39;00m \u001b[39mself\u001b[39m\u001b[39m.\u001b[39mreindex_indexer(\n\u001b[0;32m    901\u001b[0m     new_axis\u001b[39m=\u001b[39mnew_labels,\n\u001b[0;32m    902\u001b[0m     indexer\u001b[39m=\u001b[39mindexer,\n\u001b[1;32m   (...)\u001b[0m\n\u001b[0;32m    905\u001b[0m     consolidate\u001b[39m=\u001b[39m\u001b[39mFalse\u001b[39;00m,\n\u001b[0;32m    906\u001b[0m )\n",
      "File \u001b[1;32md:\\Programmation\\anaconda\\lib\\site-packages\\pandas\\core\\indexes\\base.py:1113\u001b[0m, in \u001b[0;36mIndex.take\u001b[1;34m(self, indices, axis, allow_fill, fill_value, **kwargs)\u001b[0m\n\u001b[0;32m   1111\u001b[0m values \u001b[39m=\u001b[39m \u001b[39mself\u001b[39m\u001b[39m.\u001b[39m_values\n\u001b[0;32m   1112\u001b[0m \u001b[39mif\u001b[39;00m \u001b[39misinstance\u001b[39m(values, np\u001b[39m.\u001b[39mndarray):\n\u001b[1;32m-> 1113\u001b[0m     taken \u001b[39m=\u001b[39m algos\u001b[39m.\u001b[39;49mtake(\n\u001b[0;32m   1114\u001b[0m         values, indices, allow_fill\u001b[39m=\u001b[39;49mallow_fill, fill_value\u001b[39m=\u001b[39;49m\u001b[39mself\u001b[39;49m\u001b[39m.\u001b[39;49m_na_value\n\u001b[0;32m   1115\u001b[0m     )\n\u001b[0;32m   1116\u001b[0m \u001b[39melse\u001b[39;00m:\n\u001b[0;32m   1117\u001b[0m     \u001b[39m# algos.take passes 'axis' keyword which not all EAs accept\u001b[39;00m\n\u001b[0;32m   1118\u001b[0m     taken \u001b[39m=\u001b[39m values\u001b[39m.\u001b[39mtake(\n\u001b[0;32m   1119\u001b[0m         indices, allow_fill\u001b[39m=\u001b[39mallow_fill, fill_value\u001b[39m=\u001b[39m\u001b[39mself\u001b[39m\u001b[39m.\u001b[39m_na_value\n\u001b[0;32m   1120\u001b[0m     )\n",
      "File \u001b[1;32md:\\Programmation\\anaconda\\lib\\site-packages\\pandas\\core\\algorithms.py:1445\u001b[0m, in \u001b[0;36mtake\u001b[1;34m(arr, indices, axis, allow_fill, fill_value)\u001b[0m\n\u001b[0;32m   1440\u001b[0m     result \u001b[39m=\u001b[39m take_nd(\n\u001b[0;32m   1441\u001b[0m         arr, indices, axis\u001b[39m=\u001b[39maxis, allow_fill\u001b[39m=\u001b[39m\u001b[39mTrue\u001b[39;00m, fill_value\u001b[39m=\u001b[39mfill_value\n\u001b[0;32m   1442\u001b[0m     )\n\u001b[0;32m   1443\u001b[0m \u001b[39melse\u001b[39;00m:\n\u001b[0;32m   1444\u001b[0m     \u001b[39m# NumPy style\u001b[39;00m\n\u001b[1;32m-> 1445\u001b[0m     result \u001b[39m=\u001b[39m arr\u001b[39m.\u001b[39;49mtake(indices, axis\u001b[39m=\u001b[39;49maxis)\n\u001b[0;32m   1446\u001b[0m \u001b[39mreturn\u001b[39;00m result\n",
      "\u001b[1;31mKeyboardInterrupt\u001b[0m: "
     ]
    }
   ],
   "source": [
    "reduct(df_car, \"class\")"
   ]
  },
  {
   "attachments": {},
   "cell_type": "markdown",
   "metadata": {},
   "source": [
    "## Data cleaning.\n",
    "### Valeurs manquantes."
   ]
  },
  {
   "cell_type": "code",
   "execution_count": null,
   "metadata": {},
   "outputs": [
    {
     "data": {
      "text/plain": [
       "buying      0\n",
       "maint       0\n",
       "doors       0\n",
       "persons     0\n",
       "lug_boot    0\n",
       "safety      0\n",
       "class       0\n",
       "dtype: int64"
      ]
     },
     "execution_count": 58,
     "metadata": {},
     "output_type": "execute_result"
    }
   ],
   "source": [
    "df_car.isnull().sum()"
   ]
  },
  {
   "attachments": {},
   "cell_type": "markdown",
   "metadata": {},
   "source": [
    "Aucune valeur manquantes."
   ]
  },
  {
   "attachments": {},
   "cell_type": "markdown",
   "metadata": {},
   "source": [
    "## Découpage du dataset en trainset et testset."
   ]
  },
  {
   "cell_type": "code",
   "execution_count": null,
   "metadata": {},
   "outputs": [
    {
     "data": {
      "text/plain": [
       "('train', (1382, 6), (1382,), 'test', (346, 6), (346,))"
      ]
     },
     "execution_count": 59,
     "metadata": {},
     "output_type": "execute_result"
    }
   ],
   "source": [
    "from sklearn.model_selection import train_test_split\n",
    "\n",
    "X = df_car.drop(\"class\", axis=1).to_numpy()\n",
    "y = df_car[\"class\"].to_numpy()\n",
    "\n",
    "X_train, X_test, y_train, y_test = train_test_split(X, y, stratify=y, random_state=0, test_size=0.2)\n",
    "\"train\", X_train.shape, y_train.shape, \"test\", X_test.shape, y_test.shape"
   ]
  },
  {
   "attachments": {},
   "cell_type": "markdown",
   "metadata": {},
   "source": [
    "## *Data transformation*."
   ]
  },
  {
   "attachments": {},
   "cell_type": "markdown",
   "metadata": {},
   "source": [
    "### Encodage de la classe."
   ]
  },
  {
   "cell_type": "code",
   "execution_count": null,
   "metadata": {},
   "outputs": [
    {
     "data": {
      "text/plain": [
       "array([0, 2, 1, ..., 2, 2, 2])"
      ]
     },
     "execution_count": 60,
     "metadata": {},
     "output_type": "execute_result"
    }
   ],
   "source": [
    "from sklearn.preprocessing import LabelEncoder\n",
    "\n",
    "encoder_y = LabelEncoder()\n",
    "y_train_encode = encoder_y.fit_transform(y_train)\n",
    "y_test_encode = encoder_y.fit_transform(y_test)\n",
    "y_train_encode"
   ]
  },
  {
   "attachments": {},
   "cell_type": "markdown",
   "metadata": {},
   "source": [
    "### Encodage des attributs."
   ]
  },
  {
   "cell_type": "code",
   "execution_count": null,
   "metadata": {},
   "outputs": [
    {
     "data": {
      "text/plain": [
       "array([[0, 0, 3, 2, 1, 2],\n",
       "       [2, 1, 3, 0, 0, 2],\n",
       "       [1, 2, 2, 2, 0, 2],\n",
       "       ...,\n",
       "       [3, 3, 0, 0, 1, 0],\n",
       "       [3, 0, 0, 1, 0, 1],\n",
       "       [1, 2, 0, 0, 0, 2]])"
      ]
     },
     "execution_count": 61,
     "metadata": {},
     "output_type": "execute_result"
    }
   ],
   "source": [
    "from sklearn.preprocessing import OrdinalEncoder\n",
    "\n",
    "encoder_x = OrdinalEncoder(dtype=np.int32)\n",
    "X_train_encode = encoder_x.fit_transform(X_train)\n",
    "X_test_encode = encoder_x.fit_transform(X_test)\n",
    "X_train_encode"
   ]
  },
  {
   "cell_type": "code",
   "execution_count": null,
   "metadata": {},
   "outputs": [],
   "source": [
    "# from sklearn import datasets\n",
    "\n",
    "# # Import example data.\n",
    "# iris = datasets.load_iris()\n",
    "# X2 = iris.data\n",
    "# y2 = iris.target\n",
    "\n",
    "# # Split into train and test sets.\n",
    "# X_train2, X_test2, y_train2, y_test2 = train_test_split(X2, y2, stratify=y2, random_state=0, test_size=0.2)\n",
    "# X_train2.shape, X_test2.shape, y_train2.shape, y_test2.shape"
   ]
  },
  {
   "cell_type": "code",
   "execution_count": null,
   "metadata": {},
   "outputs": [],
   "source": [
    "# def compare_array(array, array2):\n",
    "# \tcomparaison = array == array2\n",
    "# \tequal_arrays = comparaison.all()\n",
    "# \treturn equal_arrays"
   ]
  },
  {
   "cell_type": "code",
   "execution_count": null,
   "metadata": {},
   "outputs": [],
   "source": [
    "# from sklearn.metrics import accuracy_score, roc_auc_score\n",
    "# from sklearn.model_selection import train_test_split\n",
    "\n",
    "# from frlearn.base import probabilities_from_scores, select_class\n",
    "# from frlearn.classifiers import FRNN\n",
    "# from frlearn.feature_preprocessors import RangeNormaliser\n",
    "\n",
    "# # Create an instance of the FRNN classifier, construct the model, and query on the test set.\n",
    "# clf = FRNN(preprocessors=(RangeNormaliser(), ))\n",
    "# model = clf(X_train, y_train_encode)\n",
    "# scores = model(X_test)\n",
    "\n",
    "# # Convert scores to probabilities and calculate the AUROC.\n",
    "# probabilities = probabilities_from_scores(scores)\n",
    "# auroc = roc_auc_score(y_test_encode, probabilities, multi_class='ovo')\n",
    "# print('AUROC:', auroc)\n",
    "\n",
    "# # Select classes with the highest scores and calculate the accuracy.\n",
    "# classes = select_class(scores)\n",
    "# accuracy = accuracy_score(y_test_encode, classes)\n",
    "# print('accuracy:', accuracy)"
   ]
  },
  {
   "cell_type": "code",
   "execution_count": null,
   "metadata": {},
   "outputs": [],
   "source": [
    "# # Create an instance of the FRNN classifier, construct the model, and query on the test set.\n",
    "# clf2 = FRNN(preprocessors=(RangeNormaliser(), ))\n",
    "# model2 = clf2(X_train2, y_train2)\n",
    "# scores2 = model2(X_test2)\n",
    "\n",
    "# # Convert scores to probabilities and calculate the AUROC.\n",
    "# probabilities2 = probabilities_from_scores(scores2)\n",
    "# auroc2 = roc_auc_score(y_test2, probabilities2, multi_class='ovo')\n",
    "# print('AUROC:', auroc2)\n",
    "\n",
    "# # Select classes with the highest scores and calculate the accuracy.\n",
    "# classes2 = select_class(scores2)\n",
    "# accuracy2 = accuracy_score(y_test2, classes2)\n",
    "# print('accuracy:', accuracy2)"
   ]
  },
  {
   "attachments": {},
   "cell_type": "markdown",
   "metadata": {},
   "source": [
    "Normalisation."
   ]
  },
  {
   "cell_type": "code",
   "execution_count": null,
   "metadata": {},
   "outputs": [],
   "source": [
    "# from sklearn.preprocessing import MinMaxScaler\n",
    "\n",
    "# scaler = MinMaxScaler()\n",
    "# X_train = scaler.fit_transform(X_train)\n",
    "# X_test = scaler.fit_transform(X_test)\n",
    "# X_train"
   ]
  },
  {
   "attachments": {},
   "cell_type": "markdown",
   "metadata": {},
   "source": [
    "Test de l'algorithme de quickReduct."
   ]
  },
  {
   "cell_type": "code",
   "execution_count": null,
   "metadata": {},
   "outputs": [],
   "source": [
    "# qr = quickReduct(df_iris, \"Species\")\n",
    "# qr"
   ]
  },
  {
   "attachments": {},
   "cell_type": "markdown",
   "metadata": {},
   "source": [
    "Utilisation d'un autre algorithme de RST."
   ]
  },
  {
   "cell_type": "code",
   "execution_count": null,
   "metadata": {},
   "outputs": [],
   "source": [
    "# from scikit_roughsets.rs_reduction import RoughSetsSelector\n",
    "# from sklearn.model_selection import train_test_split\n",
    "\n",
    "# selector = RoughSetsSelector()\n",
    "# X_train_selected = selector.fit(X_train, y_train).transform(X_train)\n",
    "# features = list(df_iris.columns)\n",
    "# features.remove(\"Species\")\n",
    "# A = list(np.array(features)[selector.get_support()])\n",
    "# A"
   ]
  },
  {
   "attachments": {},
   "cell_type": "markdown",
   "metadata": {},
   "source": [
    "Utilisations d'autres méthodes de features selection."
   ]
  },
  {
   "attachments": {},
   "cell_type": "markdown",
   "metadata": {},
   "source": [
    "Variance Threshold."
   ]
  },
  {
   "cell_type": "code",
   "execution_count": null,
   "metadata": {},
   "outputs": [],
   "source": [
    "# from sklearn.feature_selection import VarianceThreshold\n",
    "# X.var(axis=0)"
   ]
  },
  {
   "cell_type": "code",
   "execution_count": null,
   "metadata": {},
   "outputs": [],
   "source": [
    "# selector_variance = VarianceThreshold(threshold=0.5)\n",
    "# selector_variance.fit_transform(X)\n",
    "# features = list(df_iris)\n",
    "# features.remove(\"Species\")\n",
    "# variance = list(np.array(features)[selector_variance.get_support()])\n",
    "# variance"
   ]
  },
  {
   "attachments": {},
   "cell_type": "markdown",
   "metadata": {},
   "source": [
    "SelectKBest."
   ]
  },
  {
   "cell_type": "code",
   "execution_count": null,
   "metadata": {},
   "outputs": [],
   "source": [
    "# from sklearn.feature_selection import SelectKBest, chi2\n",
    "\n",
    "# chi2(X, y)"
   ]
  },
  {
   "cell_type": "code",
   "execution_count": null,
   "metadata": {},
   "outputs": [],
   "source": [
    "# selector_k_best = SelectKBest(chi2, k=3)\n",
    "# selector_k_best.fit_transform(X, y)\n",
    "# k_best = list(np.array(features)[selector_k_best.get_support()])\n",
    "# k_best"
   ]
  },
  {
   "attachments": {},
   "cell_type": "markdown",
   "metadata": {},
   "source": [
    "Comparaison."
   ]
  },
  {
   "cell_type": "code",
   "execution_count": null,
   "metadata": {},
   "outputs": [],
   "source": [
    "# \"qr\", qr, \"A\", A, \"variance\", variance"
   ]
  },
  {
   "cell_type": "code",
   "execution_count": null,
   "metadata": {},
   "outputs": [],
   "source": [
    "# diff_list(qr, variance)"
   ]
  },
  {
   "cell_type": "code",
   "execution_count": null,
   "metadata": {},
   "outputs": [],
   "source": [
    "# diff_list(variance, k_best)"
   ]
  }
 ],
 "metadata": {
  "kernelspec": {
   "display_name": "Python 3.9.12 ('base')",
   "language": "python",
   "name": "python3"
  },
  "language_info": {
   "codemirror_mode": {
    "name": "ipython",
    "version": 3
   },
   "file_extension": ".py",
   "mimetype": "text/x-python",
   "name": "python",
   "nbconvert_exporter": "python",
   "pygments_lexer": "ipython3",
   "version": "3.9.12 (main, Apr  4 2022, 05:22:27) [MSC v.1916 64 bit (AMD64)]"
  },
  "orig_nbformat": 4,
  "vscode": {
   "interpreter": {
    "hash": "bef2fa2dc83e4ccd7ad2aec876ba177966ddc8076da8c7972b1992baac764220"
   }
  }
 },
 "nbformat": 4,
 "nbformat_minor": 2
}
